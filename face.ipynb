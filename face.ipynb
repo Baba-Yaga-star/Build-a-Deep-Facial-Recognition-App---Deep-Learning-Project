{
 "cells": [
  {
   "cell_type": "markdown",
   "id": "46c625a3-126a-4f6e-b42e-85e09d0be287",
   "metadata": {},
   "source": [
    "###### 1. Setup"
   ]
  },
  {
   "cell_type": "markdown",
   "id": "31247e9c-af52-4f16-b871-959fd703d9ba",
   "metadata": {},
   "source": [
    "1.1 Install Required Libraries"
   ]
  },
  {
   "cell_type": "code",
   "execution_count": 1,
   "id": "91c4e94e-03ce-45b0-bdca-b0d3d94a5c75",
   "metadata": {},
   "outputs": [
    {
     "name": "stdout",
     "output_type": "stream",
     "text": [
      "Requirement already satisfied: tensorflow==2.19.0 in d:\\anaconda\\lib\\site-packages (2.19.0)\n",
      "Requirement already satisfied: opencv-python in d:\\anaconda\\lib\\site-packages (4.11.0.86)\n",
      "Requirement already satisfied: matplotlib in d:\\anaconda\\lib\\site-packages (3.9.2)\n",
      "Requirement already satisfied: absl-py>=1.0.0 in d:\\anaconda\\lib\\site-packages (from tensorflow==2.19.0) (2.2.2)\n",
      "Requirement already satisfied: astunparse>=1.6.0 in d:\\anaconda\\lib\\site-packages (from tensorflow==2.19.0) (1.6.3)\n",
      "Requirement already satisfied: flatbuffers>=24.3.25 in d:\\anaconda\\lib\\site-packages (from tensorflow==2.19.0) (25.2.10)\n",
      "Requirement already satisfied: gast!=0.5.0,!=0.5.1,!=0.5.2,>=0.2.1 in d:\\anaconda\\lib\\site-packages (from tensorflow==2.19.0) (0.6.0)\n",
      "Requirement already satisfied: google-pasta>=0.1.1 in d:\\anaconda\\lib\\site-packages (from tensorflow==2.19.0) (0.2.0)\n",
      "Requirement already satisfied: libclang>=13.0.0 in d:\\anaconda\\lib\\site-packages (from tensorflow==2.19.0) (18.1.1)\n",
      "Requirement already satisfied: opt-einsum>=2.3.2 in d:\\anaconda\\lib\\site-packages (from tensorflow==2.19.0) (3.4.0)\n",
      "Requirement already satisfied: packaging in d:\\anaconda\\lib\\site-packages (from tensorflow==2.19.0) (24.1)\n",
      "Requirement already satisfied: protobuf!=4.21.0,!=4.21.1,!=4.21.2,!=4.21.3,!=4.21.4,!=4.21.5,<6.0.0dev,>=3.20.3 in d:\\anaconda\\lib\\site-packages (from tensorflow==2.19.0) (4.25.3)\n",
      "Requirement already satisfied: requests<3,>=2.21.0 in d:\\anaconda\\lib\\site-packages (from tensorflow==2.19.0) (2.32.3)\n",
      "Requirement already satisfied: setuptools in d:\\anaconda\\lib\\site-packages (from tensorflow==2.19.0) (75.1.0)\n",
      "Requirement already satisfied: six>=1.12.0 in d:\\anaconda\\lib\\site-packages (from tensorflow==2.19.0) (1.16.0)\n",
      "Requirement already satisfied: termcolor>=1.1.0 in d:\\anaconda\\lib\\site-packages (from tensorflow==2.19.0) (3.1.0)\n",
      "Requirement already satisfied: typing-extensions>=3.6.6 in d:\\anaconda\\lib\\site-packages (from tensorflow==2.19.0) (4.11.0)\n",
      "Requirement already satisfied: wrapt>=1.11.0 in d:\\anaconda\\lib\\site-packages (from tensorflow==2.19.0) (1.14.1)\n",
      "Requirement already satisfied: grpcio<2.0,>=1.24.3 in d:\\anaconda\\lib\\site-packages (from tensorflow==2.19.0) (1.71.0)\n",
      "Requirement already satisfied: tensorboard~=2.19.0 in d:\\anaconda\\lib\\site-packages (from tensorflow==2.19.0) (2.19.0)\n",
      "Requirement already satisfied: keras>=3.5.0 in d:\\anaconda\\lib\\site-packages (from tensorflow==2.19.0) (3.9.2)\n",
      "Requirement already satisfied: numpy<2.2.0,>=1.26.0 in d:\\anaconda\\lib\\site-packages (from tensorflow==2.19.0) (1.26.4)\n",
      "Requirement already satisfied: h5py>=3.11.0 in d:\\anaconda\\lib\\site-packages (from tensorflow==2.19.0) (3.13.0)\n",
      "Requirement already satisfied: ml-dtypes<1.0.0,>=0.5.1 in d:\\anaconda\\lib\\site-packages (from tensorflow==2.19.0) (0.5.1)\n",
      "Requirement already satisfied: contourpy>=1.0.1 in d:\\anaconda\\lib\\site-packages (from matplotlib) (1.2.0)\n",
      "Requirement already satisfied: cycler>=0.10 in d:\\anaconda\\lib\\site-packages (from matplotlib) (0.11.0)\n",
      "Requirement already satisfied: fonttools>=4.22.0 in d:\\anaconda\\lib\\site-packages (from matplotlib) (4.51.0)\n",
      "Requirement already satisfied: kiwisolver>=1.3.1 in d:\\anaconda\\lib\\site-packages (from matplotlib) (1.4.4)\n",
      "Requirement already satisfied: pillow>=8 in d:\\anaconda\\lib\\site-packages (from matplotlib) (10.4.0)\n",
      "Requirement already satisfied: pyparsing>=2.3.1 in d:\\anaconda\\lib\\site-packages (from matplotlib) (3.1.2)\n",
      "Requirement already satisfied: python-dateutil>=2.7 in d:\\anaconda\\lib\\site-packages (from matplotlib) (2.9.0.post0)\n",
      "Requirement already satisfied: wheel<1.0,>=0.23.0 in d:\\anaconda\\lib\\site-packages (from astunparse>=1.6.0->tensorflow==2.19.0) (0.44.0)\n",
      "Requirement already satisfied: rich in d:\\anaconda\\lib\\site-packages (from keras>=3.5.0->tensorflow==2.19.0) (13.7.1)\n",
      "Requirement already satisfied: namex in d:\\anaconda\\lib\\site-packages (from keras>=3.5.0->tensorflow==2.19.0) (0.0.9)\n",
      "Requirement already satisfied: optree in d:\\anaconda\\lib\\site-packages (from keras>=3.5.0->tensorflow==2.19.0) (0.15.0)\n",
      "Requirement already satisfied: charset-normalizer<4,>=2 in d:\\anaconda\\lib\\site-packages (from requests<3,>=2.21.0->tensorflow==2.19.0) (3.3.2)\n",
      "Requirement already satisfied: idna<4,>=2.5 in d:\\anaconda\\lib\\site-packages (from requests<3,>=2.21.0->tensorflow==2.19.0) (3.7)\n",
      "Requirement already satisfied: urllib3<3,>=1.21.1 in d:\\anaconda\\lib\\site-packages (from requests<3,>=2.21.0->tensorflow==2.19.0) (2.2.3)\n",
      "Requirement already satisfied: certifi>=2017.4.17 in d:\\anaconda\\lib\\site-packages (from requests<3,>=2.21.0->tensorflow==2.19.0) (2025.4.26)\n",
      "Requirement already satisfied: markdown>=2.6.8 in d:\\anaconda\\lib\\site-packages (from tensorboard~=2.19.0->tensorflow==2.19.0) (3.4.1)\n",
      "Requirement already satisfied: tensorboard-data-server<0.8.0,>=0.7.0 in d:\\anaconda\\lib\\site-packages (from tensorboard~=2.19.0->tensorflow==2.19.0) (0.7.2)\n",
      "Requirement already satisfied: werkzeug>=1.0.1 in d:\\anaconda\\lib\\site-packages (from tensorboard~=2.19.0->tensorflow==2.19.0) (3.0.3)\n",
      "Requirement already satisfied: MarkupSafe>=2.1.1 in d:\\anaconda\\lib\\site-packages (from werkzeug>=1.0.1->tensorboard~=2.19.0->tensorflow==2.19.0) (2.1.3)\n",
      "Requirement already satisfied: markdown-it-py>=2.2.0 in d:\\anaconda\\lib\\site-packages (from rich->keras>=3.5.0->tensorflow==2.19.0) (2.2.0)\n",
      "Requirement already satisfied: pygments<3.0.0,>=2.13.0 in d:\\anaconda\\lib\\site-packages (from rich->keras>=3.5.0->tensorflow==2.19.0) (2.15.1)\n",
      "Requirement already satisfied: mdurl~=0.1 in d:\\anaconda\\lib\\site-packages (from markdown-it-py>=2.2.0->rich->keras>=3.5.0->tensorflow==2.19.0) (0.1.0)\n"
     ]
    }
   ],
   "source": [
    "!pip install tensorflow==2.19.0 opencv-python matplotlib"
   ]
  },
  {
   "cell_type": "markdown",
   "id": "7f9d9bad-5c3e-4656-9c15-d68c26db51dd",
   "metadata": {},
   "source": [
    "1.2 Import Necessary Packages"
   ]
  },
  {
   "cell_type": "markdown",
   "id": "8b971774-215c-421d-a5d3-9e16d86be008",
   "metadata": {},
   "source": [
    "# Import standard dependencies\n",
    "import cv2\n",
    "import os\n",
    "import random\n",
    "import numpy as np\n",
    "from matplotlib import pyplot as plt"
   ]
  },
  {
   "cell_type": "code",
   "execution_count": 2,
   "id": "a2d4cd60-1cc8-45b1-8d8e-017e79276f91",
   "metadata": {},
   "outputs": [],
   "source": [
    "# Import tensorflow dependencies - Functional API\n",
    "from tensorflow.keras.models import Model\n",
    "from tensorflow.keras.layers import Layer, Conv2D, Dense, MaxPooling2D, Input, Flatten\n",
    "import tensorflow as tf"
   ]
  },
  {
   "cell_type": "markdown",
   "id": "6b661ceb-2e0b-4fa6-b485-18f0d5a4bb65",
   "metadata": {},
   "source": [
    "1.3 Configure GPU Memory Growth"
   ]
  },
  {
   "cell_type": "code",
   "execution_count": 3,
   "id": "d47e6000-ad37-4f98-a69c-b676caa5aa3e",
   "metadata": {},
   "outputs": [],
   "source": [
    "# Avoid OOM errors by setting GPU Memory Consumption Growth\n",
    "gpus = tf.config.experimental.list_physical_devices('GPU')\n",
    "for gpu in gpus: \n",
    "    tf.config.experimental.set_memory_growth(gpu, True)"
   ]
  },
  {
   "cell_type": "markdown",
   "id": "f0d9f381-05ff-483c-946a-b6187b9b871f",
   "metadata": {},
   "source": [
    "1.4 Create Required Directory Structure"
   ]
  },
  {
   "cell_type": "code",
   "execution_count": 4,
   "id": "9ce82620-d4f1-46ab-a3c6-0a8314efd8a5",
   "metadata": {},
   "outputs": [],
   "source": [
    "import os\n",
    "# Setup paths\n",
    "POS_PATH = os.path.join('data', 'positive')\n",
    "NEG_PATH = os.path.join('data', 'negative')\n",
    "ANC_PATH = os.path.join('data', 'anchor')\n",
    "ANC_PATH = ANC_PATH.replace('\\\\', '/')\n",
    "POS_PATH = POS_PATH.replace('\\\\', '/')\n",
    "NEG_PATH = NEG_PATH.replace('\\\\', '/')"
   ]
  },
  {
   "cell_type": "code",
   "execution_count": 5,
   "id": "ac4747b0-cd8f-4ccb-ad0a-fd44e57b9680",
   "metadata": {},
   "outputs": [],
   "source": [
    "import os\n",
    "os.makedirs(POS_PATH, exist_ok=True)\n",
    "os.makedirs(NEG_PATH, exist_ok=True)\n",
    "os.makedirs(ANC_PATH, exist_ok=True)"
   ]
  },
  {
   "cell_type": "markdown",
   "id": "774d231f-e3c0-48dd-957c-79d18b60125d",
   "metadata": {},
   "source": [
    "2. Collect Positive and Anchor Samples"
   ]
  },
  {
   "cell_type": "markdown",
   "id": "24ef3ec6-eb91-4925-9e39-b91f40239cab",
   "metadata": {},
   "source": [
    "2.1 Extract the Labelled Faces in the Wild (LFW) Dataset"
   ]
  },
  {
   "cell_type": "markdown",
   "id": "3dadbe99-0ad5-4163-9106-c0f3806d3cf6",
   "metadata": {},
   "source": [
    "# Đường dẫn tới trang web chứa bộ dữ liệu LFW (Labeled Faces in the Wild)\n",
    "# Bộ dữ liệu này được sử dụng cho các bài toán nhận diện khuôn mặt\n",
    "# Trang web: http://vis-www.cs.umass.edu/lfw/"
   ]
  },
  {
   "cell_type": "markdown",
   "id": "97ccffc2-5708-46a0-9894-30686df5d651",
   "metadata": {},
   "source": [
    "# Giải nén các khuôn mặt được gắn nhãn Tar GZ trong tập dữ liệu tự nhiên\n",
    "!tar -xf lfw.tgz"
   ]
  },
  {
   "cell_type": "markdown",
   "id": "93d534fa-391c-451f-bd4f-1688225f87a1",
   "metadata": {},
   "source": [
    "# Move LFW Images to the following repository data/negative\n",
    "for directory in os.listdir('lfw'):\n",
    "    for file in os.listdir(os.path.join('lfw', directory)):\n",
    "        EX_PATH = os.path.join('lfw', directory, file)\n",
    "        NEW_PATH = os.path.join(NEG_PATH, file)\n",
    "        os.replace(EX_PATH, NEW_PATH)"
   ]
  },
  {
   "cell_type": "markdown",
   "id": "defbbfbd-190b-4884-9023-352cd0ec7cac",
   "metadata": {},
   "source": [
    "2.2 Collect Positive and Anchor Image Classes"
   ]
  },
  {
   "cell_type": "code",
   "execution_count": 6,
   "id": "cdd65697-ca7a-409f-abca-b42f3d44198e",
   "metadata": {},
   "outputs": [],
   "source": [
    "# Import uuid library to generate unique image names\n",
    "import uuid"
   ]
  },
  {
   "cell_type": "code",
   "execution_count": 7,
   "id": "fdac7980-ac67-4434-a3f0-40178a5243a8",
   "metadata": {},
   "outputs": [
    {
     "data": {
      "text/plain": [
       "'data/anchor\\\\4b564240-5eb8-11f0-8be3-005056c0000a.jpg'"
      ]
     },
     "execution_count": 7,
     "metadata": {},
     "output_type": "execute_result"
    }
   ],
   "source": [
    "os.path.join(ANC_PATH, '{}.jpg'.format(uuid.uuid1()))"
   ]
  },
  {
   "cell_type": "code",
   "execution_count": 8,
   "id": "9c0bf5ce-76b9-4c2a-bc84-5d3e23cf64db",
   "metadata": {},
   "outputs": [],
   "source": [
    "# Kết nối webcam\n",
    "import cv2\n",
    "import os\n",
    "import uuid\n",
    "\n",
    "cap = cv2.VideoCapture(0)\n",
    "\n",
    "while cap.isOpened(): \n",
    "    ret, frame = cap.read()\n",
    "    if not ret:\n",
    "        print(\"Không đọc được khung hình từ webcam.\")\n",
    "        break\n",
    "\n",
    "    # Lấy kích thước ảnh hiện tại\n",
    "    h, w, _ = frame.shape\n",
    "    \n",
    "    # Tâm cắt\n",
    "    center_y, center_x = h // 2, w // 2\n",
    "    half_size = 125  # Vì size = 250\n",
    "    \n",
    "    # Giới hạn để không vượt ra ngoài ảnh\n",
    "    top = max(0, center_y - half_size)\n",
    "    bottom = min(h, center_y + half_size)\n",
    "    left = max(0, center_x - half_size)\n",
    "    right = min(w, center_x + half_size)\n",
    "    \n",
    "    # Cắt khung hình vuông 250x250px từ giữa ảnh\n",
    "    cropped_frame = frame[top:bottom, left:right]\n",
    "    \n",
    "    # Ghi ảnh anchor nếu nhấn phím 'a'\n",
    "    if cv2.waitKey(1) & 0xFF == ord('a'):\n",
    "        imgname = os.path.join(ANC_PATH, f'{uuid.uuid1()}.jpg')\n",
    "        cv2.imwrite(imgname, cropped_frame)\n",
    "    \n",
    "    # Ghi ảnh positive nếu nhấn phím 'p'\n",
    "    if cv2.waitKey(1) & 0xFF == ord('p'):\n",
    "        imgname = os.path.join(POS_PATH, f'{uuid.uuid1()}.jpg')\n",
    "        cv2.imwrite(imgname, cropped_frame)\n",
    "    \n",
    "    # Hiển thị khung hình\n",
    "    cv2.imshow('Image Collection', cropped_frame)\n",
    "    \n",
    "    # Thoát khi nhấn 'q'\n",
    "    if cv2.waitKey(1) & 0xFF == ord('q'):\n",
    "        break\n",
    "\n",
    "cap.release()\n",
    "cv2.destroyAllWindows()"
   ]
  },
  {
   "cell_type": "code",
   "execution_count": 9,
   "id": "8b4a843b-ebba-4842-8c91-4ed1311fdfae",
   "metadata": {},
   "outputs": [
    {
     "data": {
      "image/png": "[encoded data removed]",
      "text/plain": [
       "<Figure size 640x480 with 1 Axes>"
      ]
     },
     "metadata": {},
     "output_type": "display_data"
    }
   ],
   "source": [
    "import matplotlib.pyplot as plt\n",
    "plt.imshow(frame[120:120+250,200:200+250, :])\n",
    "plt.axis('equal')  # hoặc plt.gca().set_aspect('equal', adjustable='box')\n",
    "plt.show()"
   ]
  },
  {
   "cell_type": "markdown",
   "id": "92b50f94-a7c0-44b1-9f49-daff60b02cb5",
   "metadata": {},
   "source": [
    "3. Load and Preprocess Images"
   ]
  },
  {
   "cell_type": "markdown",
   "id": "b9a8e666-e676-43d8-b5db-9b6275a9d60c",
   "metadata": {},
   "source": [
    "3.1 Get Image Directories"
   ]
  },
  {
   "cell_type": "code",
   "execution_count": 10,
   "id": "5e9fac98-f750-43e7-a483-8cf7a56e43f4",
   "metadata": {},
   "outputs": [
    {
     "name": "stdout",
     "output_type": "stream",
     "text": [
      "data/anchor\n"
     ]
    }
   ],
   "source": [
    "print(ANC_PATH)  # Đảm bảo ra: data/anchor\n",
    "anchor = tf.data.Dataset.list_files(f\"{ANC_PATH}/*.jpg\").take(3000)\n"
   ]
  },
  {
   "cell_type": "code",
   "execution_count": 11,
   "id": "3f05c4cb-cb27-48be-8a87-2944f82303ed",
   "metadata": {},
   "outputs": [],
   "source": [
    "\n",
    "# Tạo các tập dữ liệu TensorFlow từ các file ảnh trong các thư mục ANC_PATH, POS_PATH và NEG_PATH\n",
    "\n",
    "# Tạo tập dữ liệu anchor từ các file ảnh trong thư mục ANC_PATH, Lấy 3000 ảnh\n",
    "anchor = tf.data.Dataset.list_files(f\"{ANC_PATH}/*.jpg\").take(3000)\n",
    "\n",
    "# Tạo tập dữ liệu positive từ các file ảnh trong thư mục POS_PATH, Lấy 3000 ảnh\n",
    "positive = tf.data.Dataset.list_files(f\"{POS_PATH}/*.jpg\").take(3000)\n",
    "\n",
    "# Tạo tập dữ liệu negative từ các file ảnh trong thư mục NEG_PATH, Lấy 3000 ảnh\n",
    "negative = tf.data.Dataset.list_files(f\"{NEG_PATH}/*.jpg\").take(3000)\n"
   ]
  },
  {
   "cell_type": "code",
   "execution_count": 12,
   "id": "ff1ac35b-efb4-49cd-86ee-91fa27dd1e94",
   "metadata": {},
   "outputs": [],
   "source": [
    "\n",
    "#Tạo một iterator từ tập dữ liệu anchor để duyệt qua các phần tử dưới dạng numpy array\n",
    "dir_test = anchor.as_numpy_iterator()\n"
   ]
  },
  {
   "cell_type": "code",
   "execution_count": 13,
   "id": "7a21bf77-281c-4796-8a32-384e79219826",
   "metadata": {},
   "outputs": [
    {
     "name": "stdout",
     "output_type": "stream",
     "text": [
      "b'data\\\\anchor\\\\a87ed5e6-5d73-11f0-b3dc-005056c0000a.jpg'\n"
     ]
    }
   ],
   "source": [
    "\n",
    "# In ra đường dẫn của phần tử tiếp theo tiếp theo trong iterator\n",
    "print(dir_test.next())\n"
   ]
  },
  {
   "cell_type": "markdown",
   "id": "471a5981-e850-456b-95e0-2b20abcb4092",
   "metadata": {},
   "source": [
    "3.2 Preprocessing - Scale and Resize"
   ]
  },
  {
   "cell_type": "code",
   "execution_count": 14,
   "id": "a3834480-b615-4f12-ac46-1a48d369d0f5",
   "metadata": {},
   "outputs": [],
   "source": [
    "\n",
    "def preprocess(file_path):\n",
    "    # Kiểm tra kiểu dữ liệu đầu vào\n",
    "    if isinstance(file_path, tf.Tensor) and file_path.dtype != tf.string:\n",
    "        # Nếu đã là tensor hình ảnh, không cần đọc file\n",
    "        img = file_path\n",
    "    else:\n",
    "        # Nếu là đường dẫn dạng chuỗi, đọc file\n",
    "        byte_img = tf.io.read_file(file_path)\n",
    "        # Giải mã ảnh JPEG\n",
    "        img = tf.io.decode_jpeg(byte_img)\n",
    "    \n",
    "    # Tiếp tục xử lý hình ảnh - thay đổi kích thước thành 100x100x3\n",
    "    img = tf.image.resize(img, (100, 100))\n",
    "    # Chuẩn hóa ảnh để giá trị pixel năm trong khoảng từ 0 đến 1\n",
    "    img = img / 255.0  \n",
    "\n",
    "    # Trả về ảnh đã tiền xử lý\n",
    "    return img\n",
    "    "
   ]
  },
  {
   "cell_type": "code",
   "execution_count": 15,
   "id": "246f8e67-64c3-48a5-88db-0af3cca57b0d",
   "metadata": {},
   "outputs": [],
   "source": [
    "img = preprocess('data\\\\anchor\\\\cfd07c4e-315d-11f0-8c07-1268382a1c50.jpg')"
   ]
  },
  {
   "cell_type": "code",
   "execution_count": 16,
   "id": "27ab7739-6003-459e-8bb7-1bd62881ce45",
   "metadata": {},
   "outputs": [
    {
     "data": {
      "text/plain": [
       "1.0"
      ]
     },
     "execution_count": 16,
     "metadata": {},
     "output_type": "execute_result"
    }
   ],
   "source": [
    "img.numpy().max() "
   ]
  },
  {
   "cell_type": "code",
   "execution_count": 17,
   "id": "5a067fb1-2f5c-45a9-82a9-4860431d07c7",
   "metadata": {},
   "outputs": [
    {
     "data": {
      "text/plain": [
       "<matplotlib.image.AxesImage at 0x1e7db34ffe0>"
      ]
     },
     "execution_count": 17,
     "metadata": {},
     "output_type": "execute_result"
    },
    {
     "data": {
      "image/png": "[encoded data removed]",
      "text/plain": [
       "<Figure size 640x480 with 1 Axes>"
      ]
     },
     "metadata": {},
     "output_type": "display_data"
    }
   ],
   "source": [
    "plt.imshow(img)"
   ]
  },
  {
   "cell_type": "markdown",
   "id": "9d3c9819-dcaf-46bb-b4b1-290641b896be",
   "metadata": {},
   "source": [
    "dataset = tf.data.Dataset.from_tensor_slices(img)\n",
    "dataset = dataset.map(preprocess)"
   ]
  },
  {
   "cell_type": "markdown",
   "id": "28219282-f97e-4754-8fa2-ba76b5936270",
   "metadata": {},
   "source": [
    "3.3 Create Labelled Dataset"
   ]
  },
  {
   "cell_type": "code",
   "execution_count": 18,
   "id": "2806eb5d-f2d7-45b7-ab53-608868073980",
   "metadata": {},
   "outputs": [],
   "source": [
    "\n",
    "# (anchor, positive) => 1,1,1,1,1\n",
    "# (anchor, negative) => 0,0,0,0,0\n"
   ]
  },
  {
   "cell_type": "code",
   "execution_count": 19,
   "id": "2699b752-7220-40a3-a7be-1302482e7277",
   "metadata": {},
   "outputs": [],
   "source": [
    "\n",
    "# Tạo các cặp (anchor, positive) với nhãn 1\n",
    "positives = tf.data.Dataset.zip((anchor, positive, tf.data.Dataset.from_tensor_slices(tf.ones(len(anchor)))))\n",
    "\n",
    "# Tạo các cặp (anchor, negative) với nhãn 0\n",
    "negatives = tf.data.Dataset.zip((anchor, negative, tf.data.Dataset.from_tensor_slices(tf.zeros(len(anchor)))))\n",
    "\n",
    "# Kết hợp hai tập dữ liệu lại với nhau\n",
    "data = positives.concatenate(negatives)\n"
   ]
  },
  {
   "cell_type": "code",
   "execution_count": 20,
   "id": "a5f388d4-157c-4cac-96d5-7249131b322d",
   "metadata": {},
   "outputs": [],
   "source": [
    "samples = data.as_numpy_iterator()"
   ]
  },
  {
   "cell_type": "code",
   "execution_count": 21,
   "id": "4fe4909a-5dc0-4b54-b242-4d5064e436a9",
   "metadata": {},
   "outputs": [],
   "source": [
    "exampple = samples.next()"
   ]
  },
  {
   "cell_type": "code",
   "execution_count": 22,
   "id": "f2481ea1-ce62-4f51-8236-201202bb7332",
   "metadata": {},
   "outputs": [
    {
     "data": {
      "text/plain": [
       "(b'data\\\\anchor\\\\a9732bed-5d73-11f0-9dca-005056c0000a.jpg',\n",
       " b'data\\\\positive\\\\son tung.jpg',\n",
       " 1.0)"
      ]
     },
     "execution_count": 22,
     "metadata": {},
     "output_type": "execute_result"
    }
   ],
   "source": [
    "exampple"
   ]
  },
  {
   "cell_type": "markdown",
   "id": "d1dcf9c8-3963-4bd4-ba5d-bcb59e2cc250",
   "metadata": {},
   "source": [
    "3.4 Build Train and Test Partition"
   ]
  },
  {
   "cell_type": "code",
   "execution_count": 23,
   "id": "fe965cd9-73ed-4140-a181-40deb78670b6",
   "metadata": {},
   "outputs": [],
   "source": [
    "\n",
    "def preprocess_twin(input_img, validation_img, label):\n",
    "    # Tiền xử lý ảnh đầu vào và ảnh kiểm tra\n",
    "    return(preprocess(input_img), preprocess(validation_img), label)\n",
    "    "
   ]
  },
  {
   "cell_type": "code",
   "execution_count": 24,
   "id": "426cace0-878f-42ba-9573-e65a28fe30e8",
   "metadata": {},
   "outputs": [],
   "source": [
    "res = preprocess_twin(*exampple)"
   ]
  },
  {
   "cell_type": "code",
   "execution_count": 25,
   "id": "1ffa02e0-c7b0-4b98-bcf9-e6c98f973aa1",
   "metadata": {},
   "outputs": [
    {
     "data": {
      "text/plain": [
       "<tf.Tensor: shape=(100, 100, 3), dtype=float32, numpy=\n",
       "array([[[0.12254902, 0.13431373, 0.16176471],\n",
       "        [0.1245098 , 0.13333334, 0.16176471],\n",
       "        [0.12352941, 0.12352941, 0.15490197],\n",
       "        ...,\n",
       "        [0.12769608, 0.15122549, 0.19828431],\n",
       "        [0.14142157, 0.17083333, 0.21495098],\n",
       "        [0.14901961, 0.18039216, 0.23137255]],\n",
       "\n",
       "       [[0.12352941, 0.13529412, 0.16078432],\n",
       "        [0.1242647 , 0.13333334, 0.15955882],\n",
       "        [0.1264706 , 0.12892157, 0.15294118],\n",
       "        ...,\n",
       "        [0.1375    , 0.16397059, 0.20514706],\n",
       "        [0.14803922, 0.17156863, 0.21862745],\n",
       "        [0.15490197, 0.18627451, 0.22941177]],\n",
       "\n",
       "       [[0.12941177, 0.13529412, 0.15490197],\n",
       "        [0.1257353 , 0.13112745, 0.15073529],\n",
       "        [0.11960784, 0.12279411, 0.14460784],\n",
       "        ...,\n",
       "        [0.14583333, 0.16642156, 0.20833333],\n",
       "        [0.15784314, 0.18210784, 0.22769608],\n",
       "        [0.16862746, 0.19411765, 0.24019608]],\n",
       "\n",
       "       ...,\n",
       "\n",
       "       [[0.69215685, 0.72107846, 0.6757353 ],\n",
       "        [0.7017157 , 0.73406863, 0.6968137 ],\n",
       "        [0.6987745 , 0.72818625, 0.7019608 ],\n",
       "        ...,\n",
       "        [0.8272059 , 0.8762255 , 0.8654412 ],\n",
       "        [0.7801471 , 0.83210784, 0.8115196 ],\n",
       "        [0.7681373 , 0.8210784 , 0.79044116]],\n",
       "\n",
       "       [[0.6764706 , 0.7088235 , 0.6960784 ],\n",
       "        [0.78431374, 0.81960785, 0.8137255 ],\n",
       "        [0.9379902 , 0.9622549 , 0.9585784 ],\n",
       "        ...,\n",
       "        [0.86495095, 0.9362745 , 0.9617647 ],\n",
       "        [0.89240193, 0.95931375, 0.98308825],\n",
       "        [0.902451  , 0.9752451 , 0.99289215]],\n",
       "\n",
       "       [[0.96960783, 0.9892157 , 0.9992647 ],\n",
       "        [0.97769606, 1.        , 1.        ],\n",
       "        [0.97843134, 0.9941176 , 0.9970588 ],\n",
       "        ...,\n",
       "        [0.8723039 , 0.94485295, 0.9867647 ],\n",
       "        [0.8642157 , 0.94264704, 0.9845588 ],\n",
       "        [0.8715686 , 0.95      , 0.9916667 ]]], dtype=float32)>"
      ]
     },
     "execution_count": 25,
     "metadata": {},
     "output_type": "execute_result"
    }
   ],
   "source": [
    "res[0]"
   ]
  },
  {
   "cell_type": "code",
   "execution_count": 26,
   "id": "248ac1d1-5b26-4ee2-bab9-c2adbebc66fc",
   "metadata": {},
   "outputs": [
    {
     "data": {
      "text/plain": [
       "<matplotlib.image.AxesImage at 0x1e7db099010>"
      ]
     },
     "execution_count": 26,
     "metadata": {},
     "output_type": "execute_result"
    },
    {
     "data": {
      "image/png": "[encoded data removed]",
      "text/plain": [
       "<Figure size 640x480 with 1 Axes>"
      ]
     },
     "metadata": {},
     "output_type": "display_data"
    }
   ],
   "source": [
    "plt.imshow(res[1])"
   ]
  },
  {
   "cell_type": "code",
   "execution_count": 27,
   "id": "87164133-2d83-4a38-8c52-a2d1af41b301",
   "metadata": {},
   "outputs": [
    {
     "data": {
      "text/plain": [
       "1.0"
      ]
     },
     "execution_count": 27,
     "metadata": {},
     "output_type": "execute_result"
    }
   ],
   "source": [
    "res[2]"
   ]
  },
  {
   "cell_type": "code",
   "execution_count": 28,
   "id": "00889a4f-4b87-4368-a855-c94933305c57",
   "metadata": {},
   "outputs": [],
   "source": [
    "# Xây dựng pipeline cho dataloader\n",
    "\n",
    "# Áp dụng hàm tiền xử lý cho từng cặp ảnh và nhãn trong tập dữ liệu\n",
    "data = data.map(preprocess_twin)\n",
    "\n",
    "# Lưu trữ dữ liệu đã tiền xử lý vào bộ nhớ cache để tăng tốc độ truy cập\n",
    "data = data.cache()\n",
    "\n",
    "# Xáo trộn dữ liệu với buffer_size là 1024 để đảm bảo tính ngẫu nhiên\n",
    "data = data.shuffle(buffer_size=1024)\n"
   ]
  },
  {
   "cell_type": "code",
   "execution_count": 29,
   "id": "0869190f-622e-4a29-814e-fde31d585a19",
   "metadata": {},
   "outputs": [],
   "source": [
    "samples = data.as_numpy_iterator()"
   ]
  },
  {
   "cell_type": "code",
   "execution_count": 30,
   "id": "dfc9be41-c277-4505-9fff-3dee99d32a05",
   "metadata": {},
   "outputs": [
    {
     "data": {
      "text/plain": [
       "3"
      ]
     },
     "execution_count": 30,
     "metadata": {},
     "output_type": "execute_result"
    }
   ],
   "source": [
    "len(samples.next())"
   ]
  },
  {
   "cell_type": "code",
   "execution_count": 31,
   "id": "cbb65ba8-602b-4f81-b154-0746c7c67aff",
   "metadata": {},
   "outputs": [],
   "source": [
    "samp = samples.next()"
   ]
  },
  {
   "cell_type": "code",
   "execution_count": 32,
   "id": "f912b8b4-b996-4f6a-b64c-2b6066a87e97",
   "metadata": {},
   "outputs": [
    {
     "data": {
      "text/plain": [
       "<matplotlib.image.AxesImage at 0x1e7de5d03e0>"
      ]
     },
     "execution_count": 32,
     "metadata": {},
     "output_type": "execute_result"
    },
    {
     "data": {
      "image/png": "[encoded data removed]",
      "text/plain": [
       "<Figure size 640x480 with 1 Axes>"
      ]
     },
     "metadata": {},
     "output_type": "display_data"
    }
   ],
   "source": [
    "plt.imshow(samp[0])"
   ]
  },
  {
   "cell_type": "code",
   "execution_count": 33,
   "id": "e34c2b81-8c57-4490-961f-23b7cc49788a",
   "metadata": {},
   "outputs": [
    {
     "data": {
      "text/plain": [
       "<matplotlib.image.AxesImage at 0x1e7de8b4050>"
      ]
     },
     "execution_count": 33,
     "metadata": {},
     "output_type": "execute_result"
    },
    {
     "data": {
      "image/png": "[encoded data removed]",
      "text/plain": [
       "<Figure size 640x480 with 1 Axes>"
      ]
     },
     "metadata": {},
     "output_type": "display_data"
    }
   ],
   "source": [
    "plt.imshow(samp[0])"
   ]
  },
  {
   "cell_type": "code",
   "execution_count": 34,
   "id": "e4429815-87e4-407c-bcf8-b368b281aa2b",
   "metadata": {},
   "outputs": [
    {
     "data": {
      "text/plain": [
       "1.0"
      ]
     },
     "execution_count": 34,
     "metadata": {},
     "output_type": "execute_result"
    }
   ],
   "source": [
    "samp[2]"
   ]
  },
  {
   "cell_type": "code",
   "execution_count": 35,
   "id": "8e9636f4-9a36-4213-9177-4b2d172f5906",
   "metadata": {},
   "outputs": [
    {
     "data": {
      "text/plain": [
       "43"
      ]
     },
     "execution_count": 35,
     "metadata": {},
     "output_type": "execute_result"
    }
   ],
   "source": [
    "round(len(data)*.7)"
   ]
  },
  {
   "cell_type": "code",
   "execution_count": 36,
   "id": "1035df0f-8b31-4aea-a6c2-a5ba2e971482",
   "metadata": {},
   "outputs": [
    {
     "data": {
      "text/plain": [
       "<_ShuffleDataset element_spec=(TensorSpec(shape=(100, 100, None), dtype=tf.float32, name=None), TensorSpec(shape=(100, 100, None), dtype=tf.float32, name=None), TensorSpec(shape=(), dtype=tf.float32, name=None))>"
      ]
     },
     "execution_count": 36,
     "metadata": {},
     "output_type": "execute_result"
    }
   ],
   "source": [
    "data"
   ]
  },
  {
   "cell_type": "code",
   "execution_count": 37,
   "id": "b30c313f-f1ab-4c41-8884-a61a8c2f4547",
   "metadata": {},
   "outputs": [],
   "source": [
    "# Phân chia dữ liệu huấn luyện\n",
    "\n",
    "# Lấy 70% dữ liệu để làm dữ liệu huấn luyện\n",
    "train_data = data.take(round(len(data)*.7))\n",
    "\n",
    "# Chia dữ liệu huấn luyện thành các batch, mỗi batch có 16 mẫu\n",
    "train_data = train_data.batch(16)\n",
    "\n",
    "# Tiền xử lý trước 8 batch dữ liệu để tăng tốc độ huấn luyện\n",
    "train_data = train_data.prefetch(8)\n",
    "                                "
   ]
  },
  {
   "cell_type": "code",
   "execution_count": 38,
   "id": "536a0061-a8ce-454d-9a36-912816ebc01e",
   "metadata": {},
   "outputs": [],
   "source": [
    "train_samples = train_data.as_numpy_iterator()"
   ]
  },
  {
   "cell_type": "code",
   "execution_count": 39,
   "id": "968c0140-6ce6-478b-816f-280a5ee82e47",
   "metadata": {},
   "outputs": [],
   "source": [
    "train_sample = train_samples.next()"
   ]
  },
  {
   "cell_type": "code",
   "execution_count": 40,
   "id": "2961c4d0-8413-4e11-a7fd-93d6f0331497",
   "metadata": {},
   "outputs": [
    {
     "data": {
      "text/plain": [
       "(array([[[[0.18946078, 0.17769608, 0.15808824],\n",
       "          [0.22328432, 0.21151961, 0.18995099],\n",
       "          [0.22843137, 0.21372549, 0.18039216],\n",
       "          ...,\n",
       "          [0.6117647 , 0.47843137, 0.44313726],\n",
       "          [0.6066176 , 0.4762255 , 0.44093138],\n",
       "          [0.6039216 , 0.4745098 , 0.4392157 ]],\n",
       " \n",
       "         [[0.16617647, 0.15441176, 0.12696078],\n",
       "          [0.2112745 , 0.1995098 , 0.17696078],\n",
       "          [0.22279412, 0.21102941, 0.17769608],\n",
       "          ...,\n",
       "          [0.61813724, 0.48259804, 0.44705883],\n",
       "          [0.6127451 , 0.47941175, 0.44313726],\n",
       "          [0.6095588 , 0.47916666, 0.44289216]],\n",
       " \n",
       "         [[0.1625    , 0.15073529, 0.11740196],\n",
       "          [0.19289216, 0.18112744, 0.15563725],\n",
       "          [0.21617647, 0.21102941, 0.18333334],\n",
       "          ...,\n",
       "          [0.6269608 , 0.48259804, 0.44705883],\n",
       "          [0.6223039 , 0.48014706, 0.44387254],\n",
       "          [0.6156863 , 0.48235294, 0.44313726]],\n",
       " \n",
       "         ...,\n",
       " \n",
       "         [[0.98137254, 1.        , 0.9990196 ],\n",
       "          [0.97156864, 1.        , 0.997549  ],\n",
       "          [0.9757353 , 0.9992647 , 0.99215686],\n",
       "          ...,\n",
       "          [0.7892157 , 0.860049  , 0.91740197],\n",
       "          [0.78137255, 0.86764705, 0.922549  ],\n",
       "          [0.81936276, 0.9134804 , 0.95906866]],\n",
       " \n",
       "         [[0.99019605, 1.        , 0.99607843],\n",
       "          [0.9843137 , 1.        , 0.99607843],\n",
       "          [0.9870098 , 1.        , 0.99460787],\n",
       "          ...,\n",
       "          [0.8308824 , 0.8995098 , 0.9632353 ],\n",
       "          [0.81397057, 0.8992647 , 0.95710784],\n",
       "          [0.7914216 , 0.88553923, 0.93259805]],\n",
       " \n",
       "         [[1.        , 1.        , 1.        ],\n",
       "          [0.9941176 , 1.        , 0.99215686],\n",
       "          [0.9941176 , 1.        , 0.99215686],\n",
       "          ...,\n",
       "          [0.8132353 , 0.87671566, 0.9365196 ],\n",
       "          [0.8485294 , 0.922549  , 0.98088235],\n",
       "          [0.87058824, 0.95686275, 0.9904412 ]]],\n",
       " \n",
       " \n",
       "        [[[0.14313726, 0.14705883, 0.16666667],\n",
       "          [0.13039216, 0.13431373, 0.15392157],\n",
       "          [0.13112745, 0.13504902, 0.15465686],\n",
       "          ...,\n",
       "          [0.14632353, 0.1620098 , 0.20612745],\n",
       "          [0.15686275, 0.17254902, 0.21960784],\n",
       "          [0.16470589, 0.18039216, 0.22745098]],\n",
       " \n",
       "         [[0.1392157 , 0.14313726, 0.16176471],\n",
       "          [0.13308823, 0.1370098 , 0.15661764],\n",
       "          [0.13235295, 0.13627452, 0.15588236],\n",
       "          ...,\n",
       "          [0.13431373, 0.16004902, 0.20269608],\n",
       "          [0.1509804 , 0.17450981, 0.22156863],\n",
       "          [0.15784314, 0.18137255, 0.23039216]],\n",
       " \n",
       "         [[0.14607844, 0.15      , 0.16568628],\n",
       "          [0.14117648, 0.14509805, 0.1625    ],\n",
       "          [0.1375    , 0.14142157, 0.16102941],\n",
       "          ...,\n",
       "          [0.13725491, 0.16078432, 0.20784314],\n",
       "          [0.15465686, 0.17818627, 0.2252451 ],\n",
       "          [0.1629902 , 0.18651961, 0.24142157]],\n",
       " \n",
       "         ...,\n",
       " \n",
       "         [[0.6985294 , 0.72107846, 0.68578434],\n",
       "          [0.70735294, 0.7252451 , 0.7102941 ],\n",
       "          [0.7058824 , 0.72156864, 0.73137254],\n",
       "          ...,\n",
       "          [0.78112745, 0.83406866, 0.80465686],\n",
       "          [0.7512255 , 0.8041667 , 0.76985294],\n",
       "          [0.752451  , 0.8061274 , 0.76911765]],\n",
       " \n",
       "         [[0.72156864, 0.7372549 , 0.7392157 ],\n",
       "          [0.91544116, 0.93039215, 0.93210787],\n",
       "          [0.98308825, 0.9977941 , 1.        ],\n",
       "          ...,\n",
       "          [0.87990195, 0.9512255 , 0.97181374],\n",
       "          [0.8963235 , 0.96617645, 0.9794118 ],\n",
       "          [0.8745098 , 0.9519608 , 0.9529412 ]],\n",
       " \n",
       "         [[0.9843137 , 1.        , 1.        ],\n",
       "          [0.98039216, 0.99607843, 1.        ],\n",
       "          [0.98333335, 0.9990196 , 0.9970588 ],\n",
       "          ...,\n",
       "          [0.8754902 , 0.94779414, 0.99852943],\n",
       "          [0.8754902 , 0.95392156, 0.98970586],\n",
       "          [0.87941176, 0.9585784 , 0.9845588 ]]],\n",
       " \n",
       " \n",
       "        [[[0.07328431, 0.09632353, 0.11985294],\n",
       "          [0.08039216, 0.08921569, 0.11764706],\n",
       "          [0.09313726, 0.09019608, 0.11568628],\n",
       "          ...,\n",
       "          [0.18014705, 0.19509804, 0.24436274],\n",
       "          [0.18137255, 0.19705883, 0.24411765],\n",
       "          [0.19803922, 0.20588236, 0.2529412 ]],\n",
       " \n",
       "         [[0.07450981, 0.09411765, 0.11764706],\n",
       "          [0.08039216, 0.08921569, 0.11764706],\n",
       "          [0.08921569, 0.09215686, 0.11470588],\n",
       "          ...,\n",
       "          [0.18210784, 0.2007353 , 0.24093138],\n",
       "          [0.2       , 0.21642157, 0.2514706 ],\n",
       "          [0.21985294, 0.2365196 , 0.26887256]],\n",
       " \n",
       "         [[0.08210784, 0.10171568, 0.1252451 ],\n",
       "          [0.08235294, 0.09117647, 0.11960784],\n",
       "          [0.09068628, 0.09362745, 0.11617647],\n",
       "          ...,\n",
       "          [0.1860294 , 0.2134804 , 0.24485295],\n",
       "          [0.20612745, 0.23210785, 0.25759804],\n",
       "          [0.2379902 , 0.25759804, 0.2752451 ]],\n",
       " \n",
       "         ...,\n",
       " \n",
       "         [[0.6992647 , 0.71887255, 0.69730395],\n",
       "          [0.68897057, 0.7083333 , 0.68897057],\n",
       "          [0.97107846, 0.9911765 , 0.98357844],\n",
       "          ...,\n",
       "          [0.9014706 , 0.97132355, 0.98112744],\n",
       "          [0.910049  , 0.9703431 , 0.97156864],\n",
       "          [0.7867647 , 0.8485294 , 0.8382353 ]],\n",
       " \n",
       "         [[0.7240196 , 0.74485296, 0.7465686 ],\n",
       "          [0.97990197, 0.99558824, 0.99607843],\n",
       "          [0.9872549 , 1.        , 0.9997549 ],\n",
       "          ...,\n",
       "          [0.91544116, 0.99583334, 1.        ],\n",
       "          [0.9242647 , 1.        , 0.9977941 ],\n",
       "          [0.925     , 1.        , 0.99460787]],\n",
       " \n",
       "         [[0.9757353 , 0.99534315, 1.        ],\n",
       "          [0.98137254, 0.9970588 , 0.9990196 ],\n",
       "          [0.97745097, 0.99607843, 0.98333335],\n",
       "          ...,\n",
       "          [0.8370098 , 0.907598  , 0.9502451 ],\n",
       "          [0.8654412 , 0.94264704, 0.96838236],\n",
       "          [0.87083334, 0.9522059 , 0.9742647 ]]],\n",
       " \n",
       " \n",
       "        ...,\n",
       " \n",
       " \n",
       "        [[[0.18946078, 0.17769608, 0.15808824],\n",
       "          [0.22328432, 0.21151961, 0.18995099],\n",
       "          [0.22843137, 0.21372549, 0.18039216],\n",
       "          ...,\n",
       "          [0.6117647 , 0.47843137, 0.44313726],\n",
       "          [0.6066176 , 0.4762255 , 0.44093138],\n",
       "          [0.6039216 , 0.4745098 , 0.4392157 ]],\n",
       " \n",
       "         [[0.16617647, 0.15441176, 0.12696078],\n",
       "          [0.2112745 , 0.1995098 , 0.17696078],\n",
       "          [0.22279412, 0.21102941, 0.17769608],\n",
       "          ...,\n",
       "          [0.61813724, 0.48259804, 0.44705883],\n",
       "          [0.6127451 , 0.47941175, 0.44313726],\n",
       "          [0.6095588 , 0.47916666, 0.44289216]],\n",
       " \n",
       "         [[0.1625    , 0.15073529, 0.11740196],\n",
       "          [0.19289216, 0.18112744, 0.15563725],\n",
       "          [0.21617647, 0.21102941, 0.18333334],\n",
       "          ...,\n",
       "          [0.6269608 , 0.48259804, 0.44705883],\n",
       "          [0.6223039 , 0.48014706, 0.44387254],\n",
       "          [0.6156863 , 0.48235294, 0.44313726]],\n",
       " \n",
       "         ...,\n",
       " \n",
       "         [[0.98137254, 1.        , 0.9990196 ],\n",
       "          [0.97156864, 1.        , 0.997549  ],\n",
       "          [0.9757353 , 0.9992647 , 0.99215686],\n",
       "          ...,\n",
       "          [0.7892157 , 0.860049  , 0.91740197],\n",
       "          [0.78137255, 0.86764705, 0.922549  ],\n",
       "          [0.81936276, 0.9134804 , 0.95906866]],\n",
       " \n",
       "         [[0.99019605, 1.        , 0.99607843],\n",
       "          [0.9843137 , 1.        , 0.99607843],\n",
       "          [0.9870098 , 1.        , 0.99460787],\n",
       "          ...,\n",
       "          [0.8308824 , 0.8995098 , 0.9632353 ],\n",
       "          [0.81397057, 0.8992647 , 0.95710784],\n",
       "          [0.7914216 , 0.88553923, 0.93259805]],\n",
       " \n",
       "         [[1.        , 1.        , 1.        ],\n",
       "          [0.9941176 , 1.        , 0.99215686],\n",
       "          [0.9941176 , 1.        , 0.99215686],\n",
       "          ...,\n",
       "          [0.8132353 , 0.87671566, 0.9365196 ],\n",
       "          [0.8485294 , 0.922549  , 0.98088235],\n",
       "          [0.87058824, 0.95686275, 0.9904412 ]]],\n",
       " \n",
       " \n",
       "        [[[0.1264706 , 0.10686275, 0.12254902],\n",
       "          [0.18137255, 0.14387254, 0.1625    ],\n",
       "          [0.25220588, 0.19338235, 0.19828431],\n",
       "          ...,\n",
       "          [0.21495098, 0.22671568, 0.25563726],\n",
       "          [0.35735294, 0.3632353 , 0.38333333],\n",
       "          [0.35220587, 0.35612744, 0.3718137 ]],\n",
       " \n",
       "         [[0.11985294, 0.1002451 , 0.11593137],\n",
       "          [0.18039216, 0.14313726, 0.16176471],\n",
       "          [0.25073528, 0.1889706 , 0.19485295],\n",
       "          ...,\n",
       "          [0.25367647, 0.26544118, 0.28504902],\n",
       "          [0.3720588 , 0.38112745, 0.39509803],\n",
       "          [0.3514706 , 0.35833332, 0.36519608]],\n",
       " \n",
       "         [[0.13431373, 0.11470588, 0.13627452],\n",
       "          [0.19142157, 0.15416667, 0.17279412],\n",
       "          [0.28480393, 0.22303921, 0.22671568],\n",
       "          ...,\n",
       "          [0.2784314 , 0.29411766, 0.30588236],\n",
       "          [0.39093137, 0.40661764, 0.4110294 ],\n",
       "          [0.37573528, 0.39142156, 0.38946077]],\n",
       " \n",
       "         ...,\n",
       " \n",
       "         [[0.73063725, 0.7512255 , 0.7375    ],\n",
       "          [0.96838236, 0.9860294 , 0.9757353 ],\n",
       "          [0.9843137 , 0.9992647 , 0.99828434],\n",
       "          ...,\n",
       "          [0.90882355, 0.9816176 , 0.9938725 ],\n",
       "          [0.82598037, 0.89436275, 0.89362746],\n",
       "          [0.76960784, 0.82916665, 0.81960785]],\n",
       " \n",
       "         [[0.97181374, 0.9909314 , 0.9889706 ],\n",
       "          [0.98137254, 0.9970588 , 0.99607843],\n",
       "          [0.9772059 , 0.99338233, 1.        ],\n",
       "          ...,\n",
       "          [0.8612745 , 0.95735294, 0.98382354],\n",
       "          [0.8901961 , 0.9872549 , 0.99852943],\n",
       "          [0.902451  , 0.9882353 , 0.9882353 ]],\n",
       " \n",
       "         [[0.97818625, 1.        , 1.        ],\n",
       "          [0.9745098 , 0.9977941 , 0.99191177],\n",
       "          [0.9732843 , 0.9938725 , 0.9990196 ],\n",
       "          ...,\n",
       "          [0.8958333 , 0.9867647 , 0.9884804 ],\n",
       "          [0.8904412 , 0.9887255 , 0.98970586],\n",
       "          [0.9       , 0.9911765 , 0.99313724]]],\n",
       " \n",
       " \n",
       "        [[[0.98039216, 0.99607843, 0.99215686],\n",
       "          [0.98137254, 0.9970588 , 0.99313724],\n",
       "          [0.98137254, 0.9970588 , 0.99313724],\n",
       "          ...,\n",
       "          [0.7676471 , 0.77156866, 0.7480392 ],\n",
       "          [0.76862746, 0.77254903, 0.7490196 ],\n",
       "          [0.7754902 , 0.77156866, 0.7519608 ]],\n",
       " \n",
       "         [[0.9852941 , 1.        , 0.9970588 ],\n",
       "          [0.9843137 , 1.        , 0.99607843],\n",
       "          [0.985049  , 1.        , 0.9968137 ],\n",
       "          ...,\n",
       "          [0.76715684, 0.7710784 , 0.74558824],\n",
       "          [0.77156866, 0.7754902 , 0.75147057],\n",
       "          [0.78039217, 0.7764706 , 0.75686276]],\n",
       " \n",
       "         [[0.98137254, 0.9970588 , 0.99313724],\n",
       "          [0.98137254, 0.9970588 , 0.99313724],\n",
       "          [0.9843137 , 1.        , 0.99607843],\n",
       "          ...,\n",
       "          [0.76936275, 0.7732843 , 0.74191177],\n",
       "          [0.7754902 , 0.7794118 , 0.75392157],\n",
       "          [0.78333336, 0.7794118 , 0.75980395]],\n",
       " \n",
       "         ...,\n",
       " \n",
       "         [[0.95980394, 1.        , 1.        ],\n",
       "          [0.9529412 , 1.        , 1.        ],\n",
       "          [0.9514706 , 1.        , 1.        ],\n",
       "          ...,\n",
       "          [0.13210784, 0.17720588, 0.30269608],\n",
       "          [0.13946079, 0.18455882, 0.31004903],\n",
       "          [0.14509805, 0.19019608, 0.3156863 ]],\n",
       " \n",
       "         [[0.95465684, 1.        , 1.        ],\n",
       "          [0.9463235 , 0.9992647 , 0.9992647 ],\n",
       "          [0.94558823, 1.        , 1.        ],\n",
       "          ...,\n",
       "          [0.12916666, 0.18014705, 0.30563724],\n",
       "          [0.11936274, 0.17034313, 0.29583332],\n",
       "          [0.11691176, 0.16789216, 0.2992647 ]],\n",
       " \n",
       "         [[0.94803923, 1.        , 1.        ],\n",
       "          [0.94411767, 0.9990196 , 0.9990196 ],\n",
       "          [0.94509804, 1.        , 1.        ],\n",
       "          ...,\n",
       "          [0.14289215, 0.1860294 , 0.3115196 ],\n",
       "          [0.13161765, 0.1747549 , 0.3002451 ],\n",
       "          [0.09705883, 0.13627452, 0.2735294 ]]]], dtype=float32),\n",
       " array([[[[0.00000000e+00, 0.00000000e+00, 0.00000000e+00],\n",
       "          [0.00000000e+00, 0.00000000e+00, 0.00000000e+00],\n",
       "          [0.00000000e+00, 0.00000000e+00, 0.00000000e+00],\n",
       "          ...,\n",
       "          [0.00000000e+00, 0.00000000e+00, 0.00000000e+00],\n",
       "          [0.00000000e+00, 0.00000000e+00, 0.00000000e+00],\n",
       "          [0.00000000e+00, 0.00000000e+00, 0.00000000e+00]],\n",
       " \n",
       "         [[0.00000000e+00, 0.00000000e+00, 0.00000000e+00],\n",
       "          [0.00000000e+00, 0.00000000e+00, 0.00000000e+00],\n",
       "          [0.00000000e+00, 0.00000000e+00, 0.00000000e+00],\n",
       "          ...,\n",
       "          [0.00000000e+00, 0.00000000e+00, 0.00000000e+00],\n",
       "          [0.00000000e+00, 0.00000000e+00, 0.00000000e+00],\n",
       "          [0.00000000e+00, 0.00000000e+00, 0.00000000e+00]],\n",
       " \n",
       "         [[0.00000000e+00, 0.00000000e+00, 0.00000000e+00],\n",
       "          [0.00000000e+00, 0.00000000e+00, 0.00000000e+00],\n",
       "          [0.00000000e+00, 0.00000000e+00, 0.00000000e+00],\n",
       "          ...,\n",
       "          [0.00000000e+00, 0.00000000e+00, 0.00000000e+00],\n",
       "          [0.00000000e+00, 0.00000000e+00, 0.00000000e+00],\n",
       "          [0.00000000e+00, 0.00000000e+00, 0.00000000e+00]],\n",
       " \n",
       "         ...,\n",
       " \n",
       "         [[0.00000000e+00, 0.00000000e+00, 0.00000000e+00],\n",
       "          [0.00000000e+00, 0.00000000e+00, 0.00000000e+00],\n",
       "          [0.00000000e+00, 0.00000000e+00, 0.00000000e+00],\n",
       "          ...,\n",
       "          [0.00000000e+00, 0.00000000e+00, 0.00000000e+00],\n",
       "          [0.00000000e+00, 0.00000000e+00, 0.00000000e+00],\n",
       "          [0.00000000e+00, 0.00000000e+00, 0.00000000e+00]],\n",
       " \n",
       "         [[0.00000000e+00, 0.00000000e+00, 0.00000000e+00],\n",
       "          [0.00000000e+00, 0.00000000e+00, 0.00000000e+00],\n",
       "          [0.00000000e+00, 0.00000000e+00, 0.00000000e+00],\n",
       "          ...,\n",
       "          [0.00000000e+00, 0.00000000e+00, 0.00000000e+00],\n",
       "          [0.00000000e+00, 0.00000000e+00, 0.00000000e+00],\n",
       "          [0.00000000e+00, 0.00000000e+00, 0.00000000e+00]],\n",
       " \n",
       "         [[0.00000000e+00, 0.00000000e+00, 0.00000000e+00],\n",
       "          [0.00000000e+00, 0.00000000e+00, 0.00000000e+00],\n",
       "          [0.00000000e+00, 0.00000000e+00, 0.00000000e+00],\n",
       "          ...,\n",
       "          [0.00000000e+00, 0.00000000e+00, 0.00000000e+00],\n",
       "          [0.00000000e+00, 0.00000000e+00, 0.00000000e+00],\n",
       "          [0.00000000e+00, 0.00000000e+00, 0.00000000e+00]]],\n",
       " \n",
       " \n",
       "        [[[0.00000000e+00, 3.92156886e-03, 0.00000000e+00],\n",
       "          [0.00000000e+00, 3.92156886e-03, 0.00000000e+00],\n",
       "          [0.00000000e+00, 3.92156886e-03, 0.00000000e+00],\n",
       "          ...,\n",
       "          [7.89215684e-01, 8.15686285e-01, 6.59803927e-01],\n",
       "          [7.76960790e-01, 7.93627441e-01, 6.82843149e-01],\n",
       "          [5.74999988e-01, 5.86764693e-01, 5.24264693e-01]],\n",
       " \n",
       "         [[0.00000000e+00, 0.00000000e+00, 0.00000000e+00],\n",
       "          [0.00000000e+00, 0.00000000e+00, 0.00000000e+00],\n",
       "          [0.00000000e+00, 0.00000000e+00, 0.00000000e+00],\n",
       "          ...,\n",
       "          [7.89705873e-01, 8.11274529e-01, 6.65196061e-01],\n",
       "          [7.80147076e-01, 7.98774481e-01, 6.76715672e-01],\n",
       "          [6.32598042e-01, 6.47058845e-01, 5.53676486e-01]],\n",
       " \n",
       "         [[0.00000000e+00, 0.00000000e+00, 0.00000000e+00],\n",
       "          [0.00000000e+00, 0.00000000e+00, 0.00000000e+00],\n",
       "          [0.00000000e+00, 0.00000000e+00, 0.00000000e+00],\n",
       "          ...,\n",
       "          [7.67401934e-01, 7.83088207e-01, 6.39950991e-01],\n",
       "          [8.02450955e-01, 8.18137228e-01, 6.82352960e-01],\n",
       "          [8.03676486e-01, 8.17647040e-01, 6.93627477e-01]],\n",
       " \n",
       "         ...,\n",
       " \n",
       "         [[0.00000000e+00, 4.65686293e-03, 0.00000000e+00],\n",
       "          [1.15196081e-02, 1.27450982e-02, 2.45098043e-02],\n",
       "          [3.30882370e-02, 2.62254905e-02, 6.44607842e-02],\n",
       "          ...,\n",
       "          [8.89705867e-02, 7.32843131e-02, 7.72058815e-02],\n",
       "          [7.84313753e-02, 6.27451017e-02, 6.66666701e-02],\n",
       "          [5.19607849e-02, 3.62745114e-02, 4.01960798e-02]],\n",
       " \n",
       "         [[0.00000000e+00, 6.86274515e-03, 0.00000000e+00],\n",
       "          [2.20588245e-03, 1.22549024e-03, 1.29901962e-02],\n",
       "          [4.73039225e-02, 4.04411778e-02, 7.86764696e-02],\n",
       "          ...,\n",
       "          [8.82352982e-03, 1.96078443e-03, 2.94117653e-03],\n",
       "          [7.10784318e-03, 2.45098054e-04, 1.22549024e-03],\n",
       "          [5.88235306e-03, 0.00000000e+00, 0.00000000e+00]],\n",
       " \n",
       "         [[2.94117653e-03, 9.80392192e-03, 0.00000000e+00],\n",
       "          [1.96078443e-03, 9.80392215e-04, 1.27450982e-02],\n",
       "          [6.66666701e-02, 5.98039217e-02, 9.80392173e-02],\n",
       "          ...,\n",
       "          [0.00000000e+00, 0.00000000e+00, 0.00000000e+00],\n",
       "          [0.00000000e+00, 0.00000000e+00, 0.00000000e+00],\n",
       "          [0.00000000e+00, 0.00000000e+00, 0.00000000e+00]]],\n",
       " \n",
       " \n",
       "        [[[1.23529412e-01, 1.03921570e-01, 8.03921595e-02],\n",
       "          [1.11519605e-01, 9.38725471e-02, 7.13235289e-02],\n",
       "          [8.82352963e-02, 7.64705911e-02, 5.68627454e-02],\n",
       "          ...,\n",
       "          [7.33333349e-01, 7.25245118e-01, 7.47548997e-01],\n",
       "          [9.14215684e-01, 9.16176498e-01, 9.33088243e-01],\n",
       "          [8.76470566e-01, 8.92156839e-01, 9.02450979e-01]],\n",
       " \n",
       "         [[1.18872546e-01, 1.01225488e-01, 8.45588222e-02],\n",
       "          [1.06127448e-01, 9.43627432e-02, 7.47549012e-02],\n",
       "          [8.65196064e-02, 7.62254894e-02, 5.73529415e-02],\n",
       "          ...,\n",
       "          [7.91176498e-01, 7.85294116e-01, 7.94117630e-01],\n",
       "          [8.18382382e-01, 8.22058797e-01, 8.27205896e-01],\n",
       "          [9.09558833e-01, 9.17401969e-01, 9.11519587e-01]],\n",
       " \n",
       "         [[1.06862746e-01, 9.50980410e-02, 7.54901990e-02],\n",
       "          [9.55882370e-02, 8.52941200e-02, 6.64215684e-02],\n",
       "          [7.67156854e-02, 7.23039210e-02, 5.63725494e-02],\n",
       "          ...,\n",
       "          [7.60539234e-01, 7.59068608e-01, 7.53921568e-01],\n",
       "          [8.58333349e-01, 8.59803915e-01, 8.51715684e-01],\n",
       "          [9.27941203e-01, 9.35784340e-01, 9.24019635e-01]],\n",
       " \n",
       "         ...,\n",
       " \n",
       "         [[7.79411793e-01, 7.83333361e-01, 7.59803951e-01],\n",
       "          [7.82352924e-01, 7.86764681e-01, 7.55147040e-01],\n",
       "          [7.72549033e-01, 7.76960790e-01, 7.45343149e-01],\n",
       "          ...,\n",
       "          [9.09803927e-01, 9.25490201e-01, 9.37254906e-01],\n",
       "          [9.13480401e-01, 9.29166675e-01, 9.40931380e-01],\n",
       "          [9.05882359e-01, 9.17647064e-01, 9.37254906e-01]],\n",
       " \n",
       "         [[7.70343125e-01, 7.74264693e-01, 7.44852960e-01],\n",
       "          [7.74019599e-01, 7.78431356e-01, 7.46813715e-01],\n",
       "          [7.71078408e-01, 7.79901981e-01, 7.46078432e-01],\n",
       "          ...,\n",
       "          [9.12745118e-01, 9.25490201e-01, 9.43137228e-01],\n",
       "          [9.07598019e-01, 9.20343161e-01, 9.37990189e-01],\n",
       "          [9.05882359e-01, 9.20588255e-01, 9.34313715e-01]],\n",
       " \n",
       "         [[7.72549033e-01, 7.76470602e-01, 7.45098054e-01],\n",
       "          [7.72549033e-01, 7.78431356e-01, 7.46078432e-01],\n",
       "          [7.65686274e-01, 7.77450979e-01, 7.48039186e-01],\n",
       "          ...,\n",
       "          [9.13480401e-01, 9.25245106e-01, 9.44852948e-01],\n",
       "          [9.09068644e-01, 9.20833349e-01, 9.40441191e-01],\n",
       "          [9.08823550e-01, 9.24509823e-01, 9.36274529e-01]]],\n",
       " \n",
       " \n",
       "        ...,\n",
       " \n",
       " \n",
       "        [[[7.84558833e-01, 7.64950991e-01, 7.49264717e-01],\n",
       "          [7.84068644e-01, 7.64460802e-01, 7.48774529e-01],\n",
       "          [7.78186262e-01, 7.64460802e-01, 7.39950955e-01],\n",
       "          ...,\n",
       "          [7.80637264e-01, 7.61029422e-01, 7.37500012e-01],\n",
       "          [7.79901981e-01, 7.60294139e-01, 7.42647052e-01],\n",
       "          [7.78431356e-01, 7.58823514e-01, 7.43137240e-01]],\n",
       " \n",
       "         [[7.80392170e-01, 7.68627465e-01, 7.47058809e-01],\n",
       "          [7.82598019e-01, 7.70833313e-01, 7.47794092e-01],\n",
       "          [7.74509788e-01, 7.62745082e-01, 7.35294104e-01],\n",
       "          ...,\n",
       "          [7.84313738e-01, 7.64705896e-01, 7.41176486e-01],\n",
       "          [7.80637264e-01, 7.61029422e-01, 7.37500012e-01],\n",
       "          [7.80392170e-01, 7.60784328e-01, 7.45098054e-01]],\n",
       " \n",
       "         [[7.71323502e-01, 7.68382370e-01, 7.37990201e-01],\n",
       "          [7.71568656e-01, 7.68627465e-01, 7.38235295e-01],\n",
       "          [7.81862736e-01, 7.72303939e-01, 7.44117618e-01],\n",
       "          ...,\n",
       "          [7.83088207e-01, 7.63480365e-01, 7.39950955e-01],\n",
       "          [7.83578455e-01, 7.63970613e-01, 7.40441203e-01],\n",
       "          [7.83333361e-01, 7.63725519e-01, 7.42156863e-01]],\n",
       " \n",
       "         ...,\n",
       " \n",
       "         [[6.15931392e-01, 7.47303903e-01, 8.37499976e-01],\n",
       "          [4.33333337e-01, 6.21813715e-01, 7.65931368e-01],\n",
       "          [3.79901975e-01, 6.56127453e-01, 8.54901969e-01],\n",
       "          ...,\n",
       "          [1.51960790e-01, 3.26470584e-01, 4.62745100e-01],\n",
       "          [1.70343131e-01, 3.50735307e-01, 4.84068632e-01],\n",
       "          [1.74509808e-01, 3.54901969e-01, 4.88235295e-01]],\n",
       " \n",
       "         [[3.96813720e-01, 6.57843113e-01, 8.54656875e-01],\n",
       "          [4.24509794e-01, 7.08823502e-01, 9.06862736e-01],\n",
       "          [3.24999988e-01, 6.46078408e-01, 8.46813738e-01],\n",
       "          ...,\n",
       "          [1.42156869e-01, 3.16666663e-01, 4.52941179e-01],\n",
       "          [1.56862751e-01, 3.37254912e-01, 4.70588237e-01],\n",
       "          [1.62009805e-01, 3.51225495e-01, 4.81617659e-01]],\n",
       " \n",
       "         [[1.87990203e-01, 5.32352924e-01, 7.45833337e-01],\n",
       "          [2.33088240e-01, 5.82107842e-01, 7.75735319e-01],\n",
       "          [2.58823544e-01, 6.16666675e-01, 8.02450955e-01],\n",
       "          ...,\n",
       "          [1.43137261e-01, 3.17647070e-01, 4.53921556e-01],\n",
       "          [1.43382356e-01, 3.32598031e-01, 4.62990195e-01],\n",
       "          [1.48039222e-01, 3.40196073e-01, 4.69607830e-01]]],\n",
       " \n",
       " \n",
       "        [[[0.00000000e+00, 0.00000000e+00, 0.00000000e+00],\n",
       "          [0.00000000e+00, 0.00000000e+00, 0.00000000e+00],\n",
       "          [0.00000000e+00, 0.00000000e+00, 0.00000000e+00],\n",
       "          ...,\n",
       "          [0.00000000e+00, 0.00000000e+00, 0.00000000e+00],\n",
       "          [0.00000000e+00, 0.00000000e+00, 0.00000000e+00],\n",
       "          [0.00000000e+00, 0.00000000e+00, 0.00000000e+00]],\n",
       " \n",
       "         [[0.00000000e+00, 0.00000000e+00, 0.00000000e+00],\n",
       "          [0.00000000e+00, 0.00000000e+00, 0.00000000e+00],\n",
       "          [0.00000000e+00, 0.00000000e+00, 0.00000000e+00],\n",
       "          ...,\n",
       "          [0.00000000e+00, 0.00000000e+00, 0.00000000e+00],\n",
       "          [0.00000000e+00, 0.00000000e+00, 0.00000000e+00],\n",
       "          [0.00000000e+00, 0.00000000e+00, 0.00000000e+00]],\n",
       " \n",
       "         [[0.00000000e+00, 0.00000000e+00, 0.00000000e+00],\n",
       "          [0.00000000e+00, 0.00000000e+00, 0.00000000e+00],\n",
       "          [0.00000000e+00, 0.00000000e+00, 0.00000000e+00],\n",
       "          ...,\n",
       "          [0.00000000e+00, 0.00000000e+00, 0.00000000e+00],\n",
       "          [0.00000000e+00, 0.00000000e+00, 0.00000000e+00],\n",
       "          [0.00000000e+00, 0.00000000e+00, 0.00000000e+00]],\n",
       " \n",
       "         ...,\n",
       " \n",
       "         [[1.91176478e-02, 1.71568636e-02, 1.47058826e-03],\n",
       "          [3.18627447e-01, 3.08823526e-01, 2.83333331e-01],\n",
       "          [2.14705884e-01, 2.00000003e-01, 1.62254900e-01],\n",
       "          ...,\n",
       "          [0.00000000e+00, 0.00000000e+00, 0.00000000e+00],\n",
       "          [0.00000000e+00, 0.00000000e+00, 0.00000000e+00],\n",
       "          [0.00000000e+00, 0.00000000e+00, 0.00000000e+00]],\n",
       " \n",
       "         [[3.18627455e-03, 6.86274515e-03, 1.96078443e-03],\n",
       "          [1.12499997e-01, 1.19362742e-01, 1.05637252e-01],\n",
       "          [4.06862758e-02, 3.97058837e-02, 3.48039232e-02],\n",
       "          ...,\n",
       "          [0.00000000e+00, 0.00000000e+00, 0.00000000e+00],\n",
       "          [0.00000000e+00, 0.00000000e+00, 0.00000000e+00],\n",
       "          [0.00000000e+00, 0.00000000e+00, 0.00000000e+00]],\n",
       " \n",
       "         [[0.00000000e+00, 3.92156886e-03, 7.84313772e-03],\n",
       "          [0.00000000e+00, 2.94117653e-03, 7.84313772e-03],\n",
       "          [0.00000000e+00, 3.67647060e-03, 4.90196107e-04],\n",
       "          ...,\n",
       "          [0.00000000e+00, 0.00000000e+00, 0.00000000e+00],\n",
       "          [0.00000000e+00, 0.00000000e+00, 0.00000000e+00],\n",
       "          [0.00000000e+00, 0.00000000e+00, 0.00000000e+00]]],\n",
       " \n",
       " \n",
       "        [[[2.52450984e-02, 6.61764713e-03, 3.67647060e-03],\n",
       "          [6.98774517e-01, 6.95833325e-01, 6.73284292e-01],\n",
       "          [6.73774481e-01, 6.85539186e-01, 6.48774505e-01],\n",
       "          ...,\n",
       "          [8.79901946e-02, 1.21323526e-01, 1.25735298e-01],\n",
       "          [1.21568628e-01, 1.46078438e-01, 1.91176474e-01],\n",
       "          [4.35294122e-01, 4.66666669e-01, 4.77450967e-01]],\n",
       " \n",
       "         [[4.36274521e-02, 2.50000004e-02, 1.32352943e-02],\n",
       "          [6.44117653e-01, 6.42156839e-01, 6.22548997e-01],\n",
       "          [5.96078455e-01, 6.13480389e-01, 5.87254882e-01],\n",
       "          ...,\n",
       "          [1.53431371e-01, 1.83823526e-01, 1.97549015e-01],\n",
       "          [1.16911761e-01, 1.40441179e-01, 1.88970596e-01],\n",
       "          [4.47794110e-01, 4.75980401e-01, 4.98774499e-01]],\n",
       " \n",
       "         [[1.98529419e-02, 6.86274515e-03, 4.41176491e-03],\n",
       "          [4.62990195e-01, 4.66176480e-01, 4.48774517e-01],\n",
       "          [3.97058815e-01, 4.11519617e-01, 4.02941167e-01],\n",
       "          ...,\n",
       "          [3.20588231e-01, 3.45098048e-01, 3.52941185e-01],\n",
       "          [2.25980386e-01, 2.41421565e-01, 2.96568632e-01],\n",
       "          [4.89460796e-01, 5.08823514e-01, 5.40441155e-01]],\n",
       " \n",
       "         ...,\n",
       " \n",
       "         [[4.03676480e-01, 1.85539216e-01, 2.31372550e-01],\n",
       "          [6.61029398e-01, 3.27941179e-01, 3.41421574e-01],\n",
       "          [6.42892182e-01, 2.74754912e-01, 2.79411763e-01],\n",
       "          ...,\n",
       "          [2.64705885e-02, 5.39215691e-02, 7.74509832e-02],\n",
       "          [2.94117648e-02, 5.68627454e-02, 8.03921595e-02],\n",
       "          [3.33333351e-02, 6.07843138e-02, 8.43137279e-02]],\n",
       " \n",
       "         [[2.34558821e-01, 2.96568628e-02, 6.15196079e-02],\n",
       "          [5.15686274e-01, 2.10049018e-01, 2.37254903e-01],\n",
       "          [8.27941179e-01, 4.80882347e-01, 5.03186285e-01],\n",
       "          ...,\n",
       "          [3.23529430e-02, 5.39215691e-02, 7.74509832e-02],\n",
       "          [3.62745114e-02, 5.78431375e-02, 8.13725516e-02],\n",
       "          [3.33333351e-02, 5.49019612e-02, 7.84313753e-02]],\n",
       " \n",
       "         [[9.11764726e-02, 4.70588244e-02, 3.01470589e-02],\n",
       "          [2.25980386e-01, 7.50000030e-02, 7.86764696e-02],\n",
       "          [4.78921562e-01, 2.61764705e-01, 2.75735289e-01],\n",
       "          ...,\n",
       "          [2.45098043e-02, 3.62745114e-02, 6.37254938e-02],\n",
       "          [2.74509806e-02, 3.92156877e-02, 6.66666701e-02],\n",
       "          [3.92156877e-02, 5.09803928e-02, 7.84313753e-02]]]],\n",
       "       dtype=float32),\n",
       " array([0., 0., 1., 0., 1., 1., 0., 1., 0., 1., 1., 1., 1., 1., 0., 0.],\n",
       "       dtype=float32))"
      ]
     },
     "execution_count": 40,
     "metadata": {},
     "output_type": "execute_result"
    }
   ],
   "source": [
    "train_sample"
   ]
  },
  {
   "cell_type": "code",
   "execution_count": 41,
   "id": "060101b0-8694-4d72-a119-fb7c5ad0c2d0",
   "metadata": {},
   "outputs": [
    {
     "data": {
      "text/plain": [
       "16"
      ]
     },
     "execution_count": 41,
     "metadata": {},
     "output_type": "execute_result"
    }
   ],
   "source": [
    "len(train_sample[0])"
   ]
  },
  {
   "cell_type": "code",
   "execution_count": 42,
   "id": "1355f0e1-1b72-4932-81bb-42b9c19f34bf",
   "metadata": {},
   "outputs": [],
   "source": [
    "# Testing partition\n",
    "test_data = data.skip(round(len(data)*.7))\n",
    "test_data = test_data.take(round(len(data)*.3))\n",
    "test_data = test_data.batch(16)\n",
    "test_data = test_data.prefetch(8)"
   ]
  },
  {
   "cell_type": "markdown",
   "id": "37ec9bc5-b3f5-4690-a7db-6f80ba47401b",
   "metadata": {},
   "source": [
    "4. Model Engineering"
   ]
  },
  {
   "cell_type": "markdown",
   "id": "fbbd31fb-ebca-4f03-a261-5d4efe965286",
   "metadata": {},
   "source": [
    "4.1 Build Embedding Layer"
   ]
  },
  {
   "cell_type": "code",
   "execution_count": 43,
   "id": "593ab7ca-44e9-40b3-bdac-c20af0e4b9ef",
   "metadata": {},
   "outputs": [],
   "source": [
    "inp = Input(shape=(100,100,3), name='input_image')"
   ]
  },
  {
   "cell_type": "code",
   "execution_count": 44,
   "id": "763c1724-55fe-45c8-aabc-175892205aa7",
   "metadata": {},
   "outputs": [],
   "source": [
    "c1 = Conv2D(64, (10,10), activation='relu')(inp)"
   ]
  },
  {
   "cell_type": "code",
   "execution_count": 45,
   "id": "bf4dae14-22e6-41ac-8413-66a50153039b",
   "metadata": {},
   "outputs": [],
   "source": [
    "m1 = MaxPooling2D(64, (2,2), padding='same')(c1)"
   ]
  },
  {
   "cell_type": "code",
   "execution_count": 46,
   "id": "2b7ad457-be9f-4910-a531-6592ea1a08d0",
   "metadata": {},
   "outputs": [],
   "source": [
    "c2 = Conv2D(128, (7,7), activation='relu')(m1)\n",
    "m2 = MaxPooling2D(64, (2,2), padding='same')(c2)"
   ]
  },
  {
   "cell_type": "code",
   "execution_count": 47,
   "id": "bd5edd1a-f244-48aa-91ad-57cc79a16ec3",
   "metadata": {},
   "outputs": [],
   "source": [
    "c3 = Conv2D(128, (4,4), activation='relu')(m2)\n",
    "m3 = MaxPooling2D(64, (2,2), padding='same')(c3)"
   ]
  },
  {
   "cell_type": "code",
   "execution_count": 48,
   "id": "b739d182-bdb4-4cf7-bc4d-7d7b7612393f",
   "metadata": {},
   "outputs": [],
   "source": [
    "c4 = Conv2D(256, (4,4), activation='relu')(m3)\n",
    "f1 = Flatten()(c4)\n",
    "d1 = Dense(4096, activation='sigmoid')(f1)"
   ]
  },
  {
   "cell_type": "code",
   "execution_count": 49,
   "id": "5c247d08-7bef-417e-90a4-0f79a27765e6",
   "metadata": {},
   "outputs": [],
   "source": [
    "mod = Model(inputs=[inp], outputs=[d1], name='embedding')"
   ]
  },
  {
   "cell_type": "code",
   "execution_count": 50,
   "id": "4c3a627a-efb3-495f-901a-13862e376077",
   "metadata": {},
   "outputs": [
    {
     "data": {
      "text/html": [
       "<pre style=\"white-space:pre;overflow-x:auto;line-height:normal;font-family:Menlo,'DejaVu Sans Mono',consolas,'Courier New',monospace\"><span style=\"font-weight: bold\">Model: \"embedding\"</span>\n",
       "</pre>\n"
      ],
      "text/plain": [
       "\u001b[1mModel: \"embedding\"\u001b[0m\n"
      ]
     },
     "metadata": {},
     "output_type": "display_data"
    },
    {
     "data": {
      "text/html": [
       "<pre style=\"white-space:pre;overflow-x:auto;line-height:normal;font-family:Menlo,'DejaVu Sans Mono',consolas,'Courier New',monospace\">┏━━━━━━━━━━━━━━━━━━━━━━━━━━━━━━━━━┳━━━━━━━━━━━━━━━━━━━━━━━━┳━━━━━━━━━━━━━━━┓\n",
       "┃<span style=\"font-weight: bold\"> Layer (type)                    </span>┃<span style=\"font-weight: bold\"> Output Shape           </span>┃<span style=\"font-weight: bold\">       Param # </span>┃\n",
       "┡━━━━━━━━━━━━━━━━━━━━━━━━━━━━━━━━━╇━━━━━━━━━━━━━━━━━━━━━━━━╇━━━━━━━━━━━━━━━┩\n",
       "│ input_image (<span style=\"color: #0087ff; text-decoration-color: #0087ff\">InputLayer</span>)        │ (<span style=\"color: #00d7ff; text-decoration-color: #00d7ff\">None</span>, <span style=\"color: #00af00; text-decoration-color: #00af00\">100</span>, <span style=\"color: #00af00; text-decoration-color: #00af00\">100</span>, <span style=\"color: #00af00; text-decoration-color: #00af00\">3</span>)    │             <span style=\"color: #00af00; text-decoration-color: #00af00\">0</span> │\n",
       "├─────────────────────────────────┼────────────────────────┼───────────────┤\n",
       "│ conv2d (<span style=\"color: #0087ff; text-decoration-color: #0087ff\">Conv2D</span>)                 │ (<span style=\"color: #00d7ff; text-decoration-color: #00d7ff\">None</span>, <span style=\"color: #00af00; text-decoration-color: #00af00\">91</span>, <span style=\"color: #00af00; text-decoration-color: #00af00\">91</span>, <span style=\"color: #00af00; text-decoration-color: #00af00\">64</span>)     │        <span style=\"color: #00af00; text-decoration-color: #00af00\">19,264</span> │\n",
       "├─────────────────────────────────┼────────────────────────┼───────────────┤\n",
       "│ max_pooling2d (<span style=\"color: #0087ff; text-decoration-color: #0087ff\">MaxPooling2D</span>)    │ (<span style=\"color: #00d7ff; text-decoration-color: #00d7ff\">None</span>, <span style=\"color: #00af00; text-decoration-color: #00af00\">46</span>, <span style=\"color: #00af00; text-decoration-color: #00af00\">46</span>, <span style=\"color: #00af00; text-decoration-color: #00af00\">64</span>)     │             <span style=\"color: #00af00; text-decoration-color: #00af00\">0</span> │\n",
       "├─────────────────────────────────┼────────────────────────┼───────────────┤\n",
       "│ conv2d_1 (<span style=\"color: #0087ff; text-decoration-color: #0087ff\">Conv2D</span>)               │ (<span style=\"color: #00d7ff; text-decoration-color: #00d7ff\">None</span>, <span style=\"color: #00af00; text-decoration-color: #00af00\">40</span>, <span style=\"color: #00af00; text-decoration-color: #00af00\">40</span>, <span style=\"color: #00af00; text-decoration-color: #00af00\">128</span>)    │       <span style=\"color: #00af00; text-decoration-color: #00af00\">401,536</span> │\n",
       "├─────────────────────────────────┼────────────────────────┼───────────────┤\n",
       "│ max_pooling2d_1 (<span style=\"color: #0087ff; text-decoration-color: #0087ff\">MaxPooling2D</span>)  │ (<span style=\"color: #00d7ff; text-decoration-color: #00d7ff\">None</span>, <span style=\"color: #00af00; text-decoration-color: #00af00\">20</span>, <span style=\"color: #00af00; text-decoration-color: #00af00\">20</span>, <span style=\"color: #00af00; text-decoration-color: #00af00\">128</span>)    │             <span style=\"color: #00af00; text-decoration-color: #00af00\">0</span> │\n",
       "├─────────────────────────────────┼────────────────────────┼───────────────┤\n",
       "│ conv2d_2 (<span style=\"color: #0087ff; text-decoration-color: #0087ff\">Conv2D</span>)               │ (<span style=\"color: #00d7ff; text-decoration-color: #00d7ff\">None</span>, <span style=\"color: #00af00; text-decoration-color: #00af00\">17</span>, <span style=\"color: #00af00; text-decoration-color: #00af00\">17</span>, <span style=\"color: #00af00; text-decoration-color: #00af00\">128</span>)    │       <span style=\"color: #00af00; text-decoration-color: #00af00\">262,272</span> │\n",
       "├─────────────────────────────────┼────────────────────────┼───────────────┤\n",
       "│ max_pooling2d_2 (<span style=\"color: #0087ff; text-decoration-color: #0087ff\">MaxPooling2D</span>)  │ (<span style=\"color: #00d7ff; text-decoration-color: #00d7ff\">None</span>, <span style=\"color: #00af00; text-decoration-color: #00af00\">9</span>, <span style=\"color: #00af00; text-decoration-color: #00af00\">9</span>, <span style=\"color: #00af00; text-decoration-color: #00af00\">128</span>)      │             <span style=\"color: #00af00; text-decoration-color: #00af00\">0</span> │\n",
       "├─────────────────────────────────┼────────────────────────┼───────────────┤\n",
       "│ conv2d_3 (<span style=\"color: #0087ff; text-decoration-color: #0087ff\">Conv2D</span>)               │ (<span style=\"color: #00d7ff; text-decoration-color: #00d7ff\">None</span>, <span style=\"color: #00af00; text-decoration-color: #00af00\">6</span>, <span style=\"color: #00af00; text-decoration-color: #00af00\">6</span>, <span style=\"color: #00af00; text-decoration-color: #00af00\">256</span>)      │       <span style=\"color: #00af00; text-decoration-color: #00af00\">524,544</span> │\n",
       "├─────────────────────────────────┼────────────────────────┼───────────────┤\n",
       "│ flatten (<span style=\"color: #0087ff; text-decoration-color: #0087ff\">Flatten</span>)               │ (<span style=\"color: #00d7ff; text-decoration-color: #00d7ff\">None</span>, <span style=\"color: #00af00; text-decoration-color: #00af00\">9216</span>)           │             <span style=\"color: #00af00; text-decoration-color: #00af00\">0</span> │\n",
       "├─────────────────────────────────┼────────────────────────┼───────────────┤\n",
       "│ dense (<span style=\"color: #0087ff; text-decoration-color: #0087ff\">Dense</span>)                   │ (<span style=\"color: #00d7ff; text-decoration-color: #00d7ff\">None</span>, <span style=\"color: #00af00; text-decoration-color: #00af00\">4096</span>)           │    <span style=\"color: #00af00; text-decoration-color: #00af00\">37,752,832</span> │\n",
       "└─────────────────────────────────┴────────────────────────┴───────────────┘\n",
       "</pre>\n"
      ],
      "text/plain": [
       "┏━━━━━━━━━━━━━━━━━━━━━━━━━━━━━━━━━┳━━━━━━━━━━━━━━━━━━━━━━━━┳━━━━━━━━━━━━━━━┓\n",
       "┃\u001b[1m \u001b[0m\u001b[1mLayer (type)                   \u001b[0m\u001b[1m \u001b[0m┃\u001b[1m \u001b[0m\u001b[1mOutput Shape          \u001b[0m\u001b[1m \u001b[0m┃\u001b[1m \u001b[0m\u001b[1m      Param #\u001b[0m\u001b[1m \u001b[0m┃\n",
       "┡━━━━━━━━━━━━━━━━━━━━━━━━━━━━━━━━━╇━━━━━━━━━━━━━━━━━━━━━━━━╇━━━━━━━━━━━━━━━┩\n",
       "│ input_image (\u001b[38;5;33mInputLayer\u001b[0m)        │ (\u001b[38;5;45mNone\u001b[0m, \u001b[38;5;34m100\u001b[0m, \u001b[38;5;34m100\u001b[0m, \u001b[38;5;34m3\u001b[0m)    │             \u001b[38;5;34m0\u001b[0m │\n",
       "├─────────────────────────────────┼────────────────────────┼───────────────┤\n",
       "│ conv2d (\u001b[38;5;33mConv2D\u001b[0m)                 │ (\u001b[38;5;45mNone\u001b[0m, \u001b[38;5;34m91\u001b[0m, \u001b[38;5;34m91\u001b[0m, \u001b[38;5;34m64\u001b[0m)     │        \u001b[38;5;34m19,264\u001b[0m │\n",
       "├─────────────────────────────────┼────────────────────────┼───────────────┤\n",
       "│ max_pooling2d (\u001b[38;5;33mMaxPooling2D\u001b[0m)    │ (\u001b[38;5;45mNone\u001b[0m, \u001b[38;5;34m46\u001b[0m, \u001b[38;5;34m46\u001b[0m, \u001b[38;5;34m64\u001b[0m)     │             \u001b[38;5;34m0\u001b[0m │\n",
       "├─────────────────────────────────┼────────────────────────┼───────────────┤\n",
       "│ conv2d_1 (\u001b[38;5;33mConv2D\u001b[0m)               │ (\u001b[38;5;45mNone\u001b[0m, \u001b[38;5;34m40\u001b[0m, \u001b[38;5;34m40\u001b[0m, \u001b[38;5;34m128\u001b[0m)    │       \u001b[38;5;34m401,536\u001b[0m │\n",
       "├─────────────────────────────────┼────────────────────────┼───────────────┤\n",
       "│ max_pooling2d_1 (\u001b[38;5;33mMaxPooling2D\u001b[0m)  │ (\u001b[38;5;45mNone\u001b[0m, \u001b[38;5;34m20\u001b[0m, \u001b[38;5;34m20\u001b[0m, \u001b[38;5;34m128\u001b[0m)    │             \u001b[38;5;34m0\u001b[0m │\n",
       "├─────────────────────────────────┼────────────────────────┼───────────────┤\n",
       "│ conv2d_2 (\u001b[38;5;33mConv2D\u001b[0m)               │ (\u001b[38;5;45mNone\u001b[0m, \u001b[38;5;34m17\u001b[0m, \u001b[38;5;34m17\u001b[0m, \u001b[38;5;34m128\u001b[0m)    │       \u001b[38;5;34m262,272\u001b[0m │\n",
       "├─────────────────────────────────┼────────────────────────┼───────────────┤\n",
       "│ max_pooling2d_2 (\u001b[38;5;33mMaxPooling2D\u001b[0m)  │ (\u001b[38;5;45mNone\u001b[0m, \u001b[38;5;34m9\u001b[0m, \u001b[38;5;34m9\u001b[0m, \u001b[38;5;34m128\u001b[0m)      │             \u001b[38;5;34m0\u001b[0m │\n",
       "├─────────────────────────────────┼────────────────────────┼───────────────┤\n",
       "│ conv2d_3 (\u001b[38;5;33mConv2D\u001b[0m)               │ (\u001b[38;5;45mNone\u001b[0m, \u001b[38;5;34m6\u001b[0m, \u001b[38;5;34m6\u001b[0m, \u001b[38;5;34m256\u001b[0m)      │       \u001b[38;5;34m524,544\u001b[0m │\n",
       "├─────────────────────────────────┼────────────────────────┼───────────────┤\n",
       "│ flatten (\u001b[38;5;33mFlatten\u001b[0m)               │ (\u001b[38;5;45mNone\u001b[0m, \u001b[38;5;34m9216\u001b[0m)           │             \u001b[38;5;34m0\u001b[0m │\n",
       "├─────────────────────────────────┼────────────────────────┼───────────────┤\n",
       "│ dense (\u001b[38;5;33mDense\u001b[0m)                   │ (\u001b[38;5;45mNone\u001b[0m, \u001b[38;5;34m4096\u001b[0m)           │    \u001b[38;5;34m37,752,832\u001b[0m │\n",
       "└─────────────────────────────────┴────────────────────────┴───────────────┘\n"
      ]
     },
     "metadata": {},
     "output_type": "display_data"
    },
    {
     "data": {
      "text/html": [
       "<pre style=\"white-space:pre;overflow-x:auto;line-height:normal;font-family:Menlo,'DejaVu Sans Mono',consolas,'Courier New',monospace\"><span style=\"font-weight: bold\"> Total params: </span><span style=\"color: #00af00; text-decoration-color: #00af00\">38,960,448</span> (148.62 MB)\n",
       "</pre>\n"
      ],
      "text/plain": [
       "\u001b[1m Total params: \u001b[0m\u001b[38;5;34m38,960,448\u001b[0m (148.62 MB)\n"
      ]
     },
     "metadata": {},
     "output_type": "display_data"
    },
    {
     "data": {
      "text/html": [
       "<pre style=\"white-space:pre;overflow-x:auto;line-height:normal;font-family:Menlo,'DejaVu Sans Mono',consolas,'Courier New',monospace\"><span style=\"font-weight: bold\"> Trainable params: </span><span style=\"color: #00af00; text-decoration-color: #00af00\">38,960,448</span> (148.62 MB)\n",
       "</pre>\n"
      ],
      "text/plain": [
       "\u001b[1m Trainable params: \u001b[0m\u001b[38;5;34m38,960,448\u001b[0m (148.62 MB)\n"
      ]
     },
     "metadata": {},
     "output_type": "display_data"
    },
    {
     "data": {
      "text/html": [
       "<pre style=\"white-space:pre;overflow-x:auto;line-height:normal;font-family:Menlo,'DejaVu Sans Mono',consolas,'Courier New',monospace\"><span style=\"font-weight: bold\"> Non-trainable params: </span><span style=\"color: #00af00; text-decoration-color: #00af00\">0</span> (0.00 B)\n",
       "</pre>\n"
      ],
      "text/plain": [
       "\u001b[1m Non-trainable params: \u001b[0m\u001b[38;5;34m0\u001b[0m (0.00 B)\n"
      ]
     },
     "metadata": {},
     "output_type": "display_data"
    }
   ],
   "source": [
    "mod.summary()"
   ]
  },
  {
   "cell_type": "code",
   "execution_count": 51,
   "id": "50d12537-ef73-47a5-934d-7551d3011bca",
   "metadata": {},
   "outputs": [],
   "source": [
    "def make_embedding(): \n",
    "    inp = Input(shape=(100,100,3), name='input_image')\n",
    "    \n",
    "    # First block\n",
    "    c1 = Conv2D(64, (10,10), activation='relu')(inp)\n",
    "    m1 = MaxPooling2D(64, (2,2), padding='same')(c1)\n",
    "    \n",
    "    # Second block\n",
    "    c2 = Conv2D(128, (7,7), activation='relu')(m1)\n",
    "    m2 = MaxPooling2D(64, (2,2), padding='same')(c2)\n",
    "    \n",
    "    # Third block \n",
    "    c3 = Conv2D(128, (4,4), activation='relu')(m2)\n",
    "    m3 = MaxPooling2D(64, (2,2), padding='same')(c3)\n",
    "    \n",
    "    # Final embedding block\n",
    "    c4 = Conv2D(256, (4,4), activation='relu')(m3)\n",
    "    f1 = Flatten()(c4)\n",
    "    d1 = Dense(4096, activation='sigmoid')(f1)\n",
    "    \n",
    "    \n",
    "    return Model(inputs=[inp], outputs=[d1], name='embedding')\n",
    "\n",
    "embedding = make_embedding()\n",
    "\n",
    "input_image = Input(name='anchor_input', shape=(100, 100, 3))\n",
    "validation_image = Input(name='validation_input', shape=(100, 100, 3))\n",
    "\n",
    "anchor_embedding = embedding(input_image)\n",
    "validation_embedding = embedding(validation_image)"
   ]
  },
  {
   "cell_type": "code",
   "execution_count": 52,
   "id": "57a13513-ffc9-4b00-b5fc-4c4b5d0a22b1",
   "metadata": {},
   "outputs": [],
   "source": [
    "model = make_embedding()"
   ]
  },
  {
   "cell_type": "code",
   "execution_count": 53,
   "id": "335fdb79-0a2d-432c-8afd-dbea9440c816",
   "metadata": {},
   "outputs": [
    {
     "data": {
      "text/html": [
       "<pre style=\"white-space:pre;overflow-x:auto;line-height:normal;font-family:Menlo,'DejaVu Sans Mono',consolas,'Courier New',monospace\"><span style=\"font-weight: bold\">Model: \"embedding\"</span>\n",
       "</pre>\n"
      ],
      "text/plain": [
       "\u001b[1mModel: \"embedding\"\u001b[0m\n"
      ]
     },
     "metadata": {},
     "output_type": "display_data"
    },
    {
     "data": {
      "text/html": [
       "<pre style=\"white-space:pre;overflow-x:auto;line-height:normal;font-family:Menlo,'DejaVu Sans Mono',consolas,'Courier New',monospace\">┏━━━━━━━━━━━━━━━━━━━━━━━━━━━━━━━━━┳━━━━━━━━━━━━━━━━━━━━━━━━┳━━━━━━━━━━━━━━━┓\n",
       "┃<span style=\"font-weight: bold\"> Layer (type)                    </span>┃<span style=\"font-weight: bold\"> Output Shape           </span>┃<span style=\"font-weight: bold\">       Param # </span>┃\n",
       "┡━━━━━━━━━━━━━━━━━━━━━━━━━━━━━━━━━╇━━━━━━━━━━━━━━━━━━━━━━━━╇━━━━━━━━━━━━━━━┩\n",
       "│ input_image (<span style=\"color: #0087ff; text-decoration-color: #0087ff\">InputLayer</span>)        │ (<span style=\"color: #00d7ff; text-decoration-color: #00d7ff\">None</span>, <span style=\"color: #00af00; text-decoration-color: #00af00\">100</span>, <span style=\"color: #00af00; text-decoration-color: #00af00\">100</span>, <span style=\"color: #00af00; text-decoration-color: #00af00\">3</span>)    │             <span style=\"color: #00af00; text-decoration-color: #00af00\">0</span> │\n",
       "├─────────────────────────────────┼────────────────────────┼───────────────┤\n",
       "│ conv2d_8 (<span style=\"color: #0087ff; text-decoration-color: #0087ff\">Conv2D</span>)               │ (<span style=\"color: #00d7ff; text-decoration-color: #00d7ff\">None</span>, <span style=\"color: #00af00; text-decoration-color: #00af00\">91</span>, <span style=\"color: #00af00; text-decoration-color: #00af00\">91</span>, <span style=\"color: #00af00; text-decoration-color: #00af00\">64</span>)     │        <span style=\"color: #00af00; text-decoration-color: #00af00\">19,264</span> │\n",
       "├─────────────────────────────────┼────────────────────────┼───────────────┤\n",
       "│ max_pooling2d_6 (<span style=\"color: #0087ff; text-decoration-color: #0087ff\">MaxPooling2D</span>)  │ (<span style=\"color: #00d7ff; text-decoration-color: #00d7ff\">None</span>, <span style=\"color: #00af00; text-decoration-color: #00af00\">46</span>, <span style=\"color: #00af00; text-decoration-color: #00af00\">46</span>, <span style=\"color: #00af00; text-decoration-color: #00af00\">64</span>)     │             <span style=\"color: #00af00; text-decoration-color: #00af00\">0</span> │\n",
       "├─────────────────────────────────┼────────────────────────┼───────────────┤\n",
       "│ conv2d_9 (<span style=\"color: #0087ff; text-decoration-color: #0087ff\">Conv2D</span>)               │ (<span style=\"color: #00d7ff; text-decoration-color: #00d7ff\">None</span>, <span style=\"color: #00af00; text-decoration-color: #00af00\">40</span>, <span style=\"color: #00af00; text-decoration-color: #00af00\">40</span>, <span style=\"color: #00af00; text-decoration-color: #00af00\">128</span>)    │       <span style=\"color: #00af00; text-decoration-color: #00af00\">401,536</span> │\n",
       "├─────────────────────────────────┼────────────────────────┼───────────────┤\n",
       "│ max_pooling2d_7 (<span style=\"color: #0087ff; text-decoration-color: #0087ff\">MaxPooling2D</span>)  │ (<span style=\"color: #00d7ff; text-decoration-color: #00d7ff\">None</span>, <span style=\"color: #00af00; text-decoration-color: #00af00\">20</span>, <span style=\"color: #00af00; text-decoration-color: #00af00\">20</span>, <span style=\"color: #00af00; text-decoration-color: #00af00\">128</span>)    │             <span style=\"color: #00af00; text-decoration-color: #00af00\">0</span> │\n",
       "├─────────────────────────────────┼────────────────────────┼───────────────┤\n",
       "│ conv2d_10 (<span style=\"color: #0087ff; text-decoration-color: #0087ff\">Conv2D</span>)              │ (<span style=\"color: #00d7ff; text-decoration-color: #00d7ff\">None</span>, <span style=\"color: #00af00; text-decoration-color: #00af00\">17</span>, <span style=\"color: #00af00; text-decoration-color: #00af00\">17</span>, <span style=\"color: #00af00; text-decoration-color: #00af00\">128</span>)    │       <span style=\"color: #00af00; text-decoration-color: #00af00\">262,272</span> │\n",
       "├─────────────────────────────────┼────────────────────────┼───────────────┤\n",
       "│ max_pooling2d_8 (<span style=\"color: #0087ff; text-decoration-color: #0087ff\">MaxPooling2D</span>)  │ (<span style=\"color: #00d7ff; text-decoration-color: #00d7ff\">None</span>, <span style=\"color: #00af00; text-decoration-color: #00af00\">9</span>, <span style=\"color: #00af00; text-decoration-color: #00af00\">9</span>, <span style=\"color: #00af00; text-decoration-color: #00af00\">128</span>)      │             <span style=\"color: #00af00; text-decoration-color: #00af00\">0</span> │\n",
       "├─────────────────────────────────┼────────────────────────┼───────────────┤\n",
       "│ conv2d_11 (<span style=\"color: #0087ff; text-decoration-color: #0087ff\">Conv2D</span>)              │ (<span style=\"color: #00d7ff; text-decoration-color: #00d7ff\">None</span>, <span style=\"color: #00af00; text-decoration-color: #00af00\">6</span>, <span style=\"color: #00af00; text-decoration-color: #00af00\">6</span>, <span style=\"color: #00af00; text-decoration-color: #00af00\">256</span>)      │       <span style=\"color: #00af00; text-decoration-color: #00af00\">524,544</span> │\n",
       "├─────────────────────────────────┼────────────────────────┼───────────────┤\n",
       "│ flatten_2 (<span style=\"color: #0087ff; text-decoration-color: #0087ff\">Flatten</span>)             │ (<span style=\"color: #00d7ff; text-decoration-color: #00d7ff\">None</span>, <span style=\"color: #00af00; text-decoration-color: #00af00\">9216</span>)           │             <span style=\"color: #00af00; text-decoration-color: #00af00\">0</span> │\n",
       "├─────────────────────────────────┼────────────────────────┼───────────────┤\n",
       "│ dense_2 (<span style=\"color: #0087ff; text-decoration-color: #0087ff\">Dense</span>)                 │ (<span style=\"color: #00d7ff; text-decoration-color: #00d7ff\">None</span>, <span style=\"color: #00af00; text-decoration-color: #00af00\">4096</span>)           │    <span style=\"color: #00af00; text-decoration-color: #00af00\">37,752,832</span> │\n",
       "└─────────────────────────────────┴────────────────────────┴───────────────┘\n",
       "</pre>\n"
      ],
      "text/plain": [
       "┏━━━━━━━━━━━━━━━━━━━━━━━━━━━━━━━━━┳━━━━━━━━━━━━━━━━━━━━━━━━┳━━━━━━━━━━━━━━━┓\n",
       "┃\u001b[1m \u001b[0m\u001b[1mLayer (type)                   \u001b[0m\u001b[1m \u001b[0m┃\u001b[1m \u001b[0m\u001b[1mOutput Shape          \u001b[0m\u001b[1m \u001b[0m┃\u001b[1m \u001b[0m\u001b[1m      Param #\u001b[0m\u001b[1m \u001b[0m┃\n",
       "┡━━━━━━━━━━━━━━━━━━━━━━━━━━━━━━━━━╇━━━━━━━━━━━━━━━━━━━━━━━━╇━━━━━━━━━━━━━━━┩\n",
       "│ input_image (\u001b[38;5;33mInputLayer\u001b[0m)        │ (\u001b[38;5;45mNone\u001b[0m, \u001b[38;5;34m100\u001b[0m, \u001b[38;5;34m100\u001b[0m, \u001b[38;5;34m3\u001b[0m)    │             \u001b[38;5;34m0\u001b[0m │\n",
       "├─────────────────────────────────┼────────────────────────┼───────────────┤\n",
       "│ conv2d_8 (\u001b[38;5;33mConv2D\u001b[0m)               │ (\u001b[38;5;45mNone\u001b[0m, \u001b[38;5;34m91\u001b[0m, \u001b[38;5;34m91\u001b[0m, \u001b[38;5;34m64\u001b[0m)     │        \u001b[38;5;34m19,264\u001b[0m │\n",
       "├─────────────────────────────────┼────────────────────────┼───────────────┤\n",
       "│ max_pooling2d_6 (\u001b[38;5;33mMaxPooling2D\u001b[0m)  │ (\u001b[38;5;45mNone\u001b[0m, \u001b[38;5;34m46\u001b[0m, \u001b[38;5;34m46\u001b[0m, \u001b[38;5;34m64\u001b[0m)     │             \u001b[38;5;34m0\u001b[0m │\n",
       "├─────────────────────────────────┼────────────────────────┼───────────────┤\n",
       "│ conv2d_9 (\u001b[38;5;33mConv2D\u001b[0m)               │ (\u001b[38;5;45mNone\u001b[0m, \u001b[38;5;34m40\u001b[0m, \u001b[38;5;34m40\u001b[0m, \u001b[38;5;34m128\u001b[0m)    │       \u001b[38;5;34m401,536\u001b[0m │\n",
       "├─────────────────────────────────┼────────────────────────┼───────────────┤\n",
       "│ max_pooling2d_7 (\u001b[38;5;33mMaxPooling2D\u001b[0m)  │ (\u001b[38;5;45mNone\u001b[0m, \u001b[38;5;34m20\u001b[0m, \u001b[38;5;34m20\u001b[0m, \u001b[38;5;34m128\u001b[0m)    │             \u001b[38;5;34m0\u001b[0m │\n",
       "├─────────────────────────────────┼────────────────────────┼───────────────┤\n",
       "│ conv2d_10 (\u001b[38;5;33mConv2D\u001b[0m)              │ (\u001b[38;5;45mNone\u001b[0m, \u001b[38;5;34m17\u001b[0m, \u001b[38;5;34m17\u001b[0m, \u001b[38;5;34m128\u001b[0m)    │       \u001b[38;5;34m262,272\u001b[0m │\n",
       "├─────────────────────────────────┼────────────────────────┼───────────────┤\n",
       "│ max_pooling2d_8 (\u001b[38;5;33mMaxPooling2D\u001b[0m)  │ (\u001b[38;5;45mNone\u001b[0m, \u001b[38;5;34m9\u001b[0m, \u001b[38;5;34m9\u001b[0m, \u001b[38;5;34m128\u001b[0m)      │             \u001b[38;5;34m0\u001b[0m │\n",
       "├─────────────────────────────────┼────────────────────────┼───────────────┤\n",
       "│ conv2d_11 (\u001b[38;5;33mConv2D\u001b[0m)              │ (\u001b[38;5;45mNone\u001b[0m, \u001b[38;5;34m6\u001b[0m, \u001b[38;5;34m6\u001b[0m, \u001b[38;5;34m256\u001b[0m)      │       \u001b[38;5;34m524,544\u001b[0m │\n",
       "├─────────────────────────────────┼────────────────────────┼───────────────┤\n",
       "│ flatten_2 (\u001b[38;5;33mFlatten\u001b[0m)             │ (\u001b[38;5;45mNone\u001b[0m, \u001b[38;5;34m9216\u001b[0m)           │             \u001b[38;5;34m0\u001b[0m │\n",
       "├─────────────────────────────────┼────────────────────────┼───────────────┤\n",
       "│ dense_2 (\u001b[38;5;33mDense\u001b[0m)                 │ (\u001b[38;5;45mNone\u001b[0m, \u001b[38;5;34m4096\u001b[0m)           │    \u001b[38;5;34m37,752,832\u001b[0m │\n",
       "└─────────────────────────────────┴────────────────────────┴───────────────┘\n"
      ]
     },
     "metadata": {},
     "output_type": "display_data"
    },
    {
     "data": {
      "text/html": [
       "<pre style=\"white-space:pre;overflow-x:auto;line-height:normal;font-family:Menlo,'DejaVu Sans Mono',consolas,'Courier New',monospace\"><span style=\"font-weight: bold\"> Total params: </span><span style=\"color: #00af00; text-decoration-color: #00af00\">38,960,448</span> (148.62 MB)\n",
       "</pre>\n"
      ],
      "text/plain": [
       "\u001b[1m Total params: \u001b[0m\u001b[38;5;34m38,960,448\u001b[0m (148.62 MB)\n"
      ]
     },
     "metadata": {},
     "output_type": "display_data"
    },
    {
     "data": {
      "text/html": [
       "<pre style=\"white-space:pre;overflow-x:auto;line-height:normal;font-family:Menlo,'DejaVu Sans Mono',consolas,'Courier New',monospace\"><span style=\"font-weight: bold\"> Trainable params: </span><span style=\"color: #00af00; text-decoration-color: #00af00\">38,960,448</span> (148.62 MB)\n",
       "</pre>\n"
      ],
      "text/plain": [
       "\u001b[1m Trainable params: \u001b[0m\u001b[38;5;34m38,960,448\u001b[0m (148.62 MB)\n"
      ]
     },
     "metadata": {},
     "output_type": "display_data"
    },
    {
     "data": {
      "text/html": [
       "<pre style=\"white-space:pre;overflow-x:auto;line-height:normal;font-family:Menlo,'DejaVu Sans Mono',consolas,'Courier New',monospace\"><span style=\"font-weight: bold\"> Non-trainable params: </span><span style=\"color: #00af00; text-decoration-color: #00af00\">0</span> (0.00 B)\n",
       "</pre>\n"
      ],
      "text/plain": [
       "\u001b[1m Non-trainable params: \u001b[0m\u001b[38;5;34m0\u001b[0m (0.00 B)\n"
      ]
     },
     "metadata": {},
     "output_type": "display_data"
    }
   ],
   "source": [
    "model.summary()"
   ]
  },
  {
   "cell_type": "markdown",
   "id": "b93eb942-ec97-449a-83fa-8f8197d81d52",
   "metadata": {},
   "source": [
    "4.2 Build Distance Layer"
   ]
  },
  {
   "cell_type": "code",
   "execution_count": 54,
   "id": "e5b31853-9e35-4efb-9a8e-b6b842c39735",
   "metadata": {},
   "outputs": [],
   "source": [
    "\n",
    "class L1Dist(Layer):\n",
    "    # Lớp khoảng cách L1 Siamese\n",
    "\n",
    "    def __init__(self, **kwargs):\n",
    "        super().__init__(**kwargs)\n",
    "\n",
    "    # Biến đổi xảy ra ở đây - tính toán độ tương đồng\n",
    "    def call(self, input_embedding, validation_embedding):\n",
    "        return tf.math.abs(input_embedding - validation_embedding)\n",
    "        "
   ]
  },
  {
   "cell_type": "code",
   "execution_count": 55,
   "id": "cb8c9ec8-976f-4233-b000-8868c55a32a1",
   "metadata": {},
   "outputs": [],
   "source": [
    "l1 = L1Dist()"
   ]
  },
  {
   "cell_type": "code",
   "execution_count": 56,
   "id": "e6e8188e-4893-42f0-b1e5-3ba7664c58d8",
   "metadata": {},
   "outputs": [
    {
     "name": "stdout",
     "output_type": "stream",
     "text": [
      "WARNING:tensorflow:From D:\\Anaconda\\Lib\\site-packages\\keras\\src\\backend\\tensorflow\\core.py:219: The name tf.placeholder is deprecated. Please use tf.compat.v1.placeholder instead.\n",
      "\n"
     ]
    },
    {
     "data": {
      "text/plain": [
       "<KerasTensor shape=(None, 4096), dtype=float32, sparse=False, ragged=False, name=keras_tensor_29>"
      ]
     },
     "execution_count": 56,
     "metadata": {},
     "output_type": "execute_result"
    }
   ],
   "source": [
    "l1(anchor_embedding[0], validation_embedding[0])"
   ]
  },
  {
   "cell_type": "markdown",
   "id": "2a8f3feb-4f22-432c-8de2-c18787f1a4d2",
   "metadata": {},
   "source": [
    "4.3 Make Siamese Model"
   ]
  },
  {
   "cell_type": "code",
   "execution_count": 57,
   "id": "ebea7c21-4421-4294-955a-ee81c1e3cba6",
   "metadata": {},
   "outputs": [],
   "source": [
    "input_image = Input(name='input_img', shape=(100,100,3))\n",
    "validation_image = Input(name='validation_img', shape=(100,100,3))"
   ]
  },
  {
   "cell_type": "code",
   "execution_count": 58,
   "id": "6930a90c-b6b3-4b9b-a321-b12918954f7f",
   "metadata": {},
   "outputs": [],
   "source": [
    "inp_embedding = embedding(input_image)"
   ]
  },
  {
   "cell_type": "code",
   "execution_count": 59,
   "id": "2aba8709-4547-4e37-b176-fcedce988f2c",
   "metadata": {},
   "outputs": [
    {
     "data": {
      "text/plain": [
       "[<KerasTensor shape=(None, 4096), dtype=float32, sparse=False, ragged=False, name=keras_tensor_31>]"
      ]
     },
     "execution_count": 59,
     "metadata": {},
     "output_type": "execute_result"
    }
   ],
   "source": [
    "embedding(input_image)"
   ]
  },
  {
   "cell_type": "code",
   "execution_count": 60,
   "id": "15783bd2-c7a7-47c2-a5d8-de8f1dd5fd7e",
   "metadata": {},
   "outputs": [],
   "source": [
    "inp_embedding = embedding(input_image)\n",
    "if isinstance(inp_embedding, list):\n",
    "    inp_embedding = inp_embedding[0]\n",
    "\n",
    "val_embedding = embedding(validation_image)\n",
    "if isinstance(val_embedding, list):\n",
    "    val_embedding = val_embedding[0]"
   ]
  },
  {
   "cell_type": "code",
   "execution_count": 61,
   "id": "5e07a106-e5ac-4539-aa01-60c833d08903",
   "metadata": {},
   "outputs": [],
   "source": [
    "siamese_layer = L1Dist()"
   ]
  },
  {
   "cell_type": "code",
   "execution_count": 62,
   "id": "4cd5233e-2c01-43e0-b436-6497fff2c34b",
   "metadata": {},
   "outputs": [],
   "source": [
    "distances = siamese_layer(inp_embedding, val_embedding)"
   ]
  },
  {
   "cell_type": "code",
   "execution_count": 63,
   "id": "bbd52a43-fb3c-4ab9-bf5d-7c7fe3b16991",
   "metadata": {},
   "outputs": [],
   "source": [
    "classifier = Dense(1, activation='sigmoid')(distances)"
   ]
  },
  {
   "cell_type": "code",
   "execution_count": 64,
   "id": "2f79b6b6-3dae-4dd8-8ce3-2c79175e0c73",
   "metadata": {},
   "outputs": [
    {
     "data": {
      "text/plain": [
       "<KerasTensor shape=(None, 1), dtype=float32, sparse=False, ragged=False, name=keras_tensor_35>"
      ]
     },
     "execution_count": 64,
     "metadata": {},
     "output_type": "execute_result"
    }
   ],
   "source": [
    "classifier"
   ]
  },
  {
   "cell_type": "code",
   "execution_count": 65,
   "id": "edf7173e-bb3e-47f8-805c-27dc7a4e23ec",
   "metadata": {},
   "outputs": [],
   "source": [
    "siamese_network = Model(inputs=[input_image, validation_image], outputs=classifier, name='SiameseNetwork')"
   ]
  },
  {
   "cell_type": "code",
   "execution_count": 66,
   "id": "691f1bdc-42c2-4481-a533-03bcbcf693b3",
   "metadata": {},
   "outputs": [
    {
     "data": {
      "text/html": [
       "<pre style=\"white-space:pre;overflow-x:auto;line-height:normal;font-family:Menlo,'DejaVu Sans Mono',consolas,'Courier New',monospace\"><span style=\"font-weight: bold\">Model: \"SiameseNetwork\"</span>\n",
       "</pre>\n"
      ],
      "text/plain": [
       "\u001b[1mModel: \"SiameseNetwork\"\u001b[0m\n"
      ]
     },
     "metadata": {},
     "output_type": "display_data"
    },
    {
     "data": {
      "text/html": [
       "<pre style=\"white-space:pre;overflow-x:auto;line-height:normal;font-family:Menlo,'DejaVu Sans Mono',consolas,'Courier New',monospace\">┏━━━━━━━━━━━━━━━━━━━━━┳━━━━━━━━━━━━━━━━━━━┳━━━━━━━━━━━━┳━━━━━━━━━━━━━━━━━━━┓\n",
       "┃<span style=\"font-weight: bold\"> Layer (type)        </span>┃<span style=\"font-weight: bold\"> Output Shape      </span>┃<span style=\"font-weight: bold\">    Param # </span>┃<span style=\"font-weight: bold\"> Connected to      </span>┃\n",
       "┡━━━━━━━━━━━━━━━━━━━━━╇━━━━━━━━━━━━━━━━━━━╇━━━━━━━━━━━━╇━━━━━━━━━━━━━━━━━━━┩\n",
       "│ input_img           │ (<span style=\"color: #00d7ff; text-decoration-color: #00d7ff\">None</span>, <span style=\"color: #00af00; text-decoration-color: #00af00\">100</span>, <span style=\"color: #00af00; text-decoration-color: #00af00\">100</span>,  │          <span style=\"color: #00af00; text-decoration-color: #00af00\">0</span> │ -                 │\n",
       "│ (<span style=\"color: #0087ff; text-decoration-color: #0087ff\">InputLayer</span>)        │ <span style=\"color: #00af00; text-decoration-color: #00af00\">3</span>)                │            │                   │\n",
       "├─────────────────────┼───────────────────┼────────────┼───────────────────┤\n",
       "│ validation_img      │ (<span style=\"color: #00d7ff; text-decoration-color: #00d7ff\">None</span>, <span style=\"color: #00af00; text-decoration-color: #00af00\">100</span>, <span style=\"color: #00af00; text-decoration-color: #00af00\">100</span>,  │          <span style=\"color: #00af00; text-decoration-color: #00af00\">0</span> │ -                 │\n",
       "│ (<span style=\"color: #0087ff; text-decoration-color: #0087ff\">InputLayer</span>)        │ <span style=\"color: #00af00; text-decoration-color: #00af00\">3</span>)                │            │                   │\n",
       "├─────────────────────┼───────────────────┼────────────┼───────────────────┤\n",
       "│ embedding           │ (<span style=\"color: #00d7ff; text-decoration-color: #00d7ff\">None</span>, <span style=\"color: #00af00; text-decoration-color: #00af00\">4096</span>)      │ <span style=\"color: #00af00; text-decoration-color: #00af00\">38,960,448</span> │ input_img[<span style=\"color: #00af00; text-decoration-color: #00af00\">0</span>][<span style=\"color: #00af00; text-decoration-color: #00af00\">0</span>],  │\n",
       "│ (<span style=\"color: #0087ff; text-decoration-color: #0087ff\">Functional</span>)        │                   │            │ validation_img[<span style=\"color: #00af00; text-decoration-color: #00af00\">0</span>… │\n",
       "├─────────────────────┼───────────────────┼────────────┼───────────────────┤\n",
       "│ l1_dist_1 (<span style=\"color: #0087ff; text-decoration-color: #0087ff\">L1Dist</span>)  │ (<span style=\"color: #00d7ff; text-decoration-color: #00d7ff\">None</span>, <span style=\"color: #00af00; text-decoration-color: #00af00\">4096</span>)      │          <span style=\"color: #00af00; text-decoration-color: #00af00\">0</span> │ embedding[<span style=\"color: #00af00; text-decoration-color: #00af00\">4</span>][<span style=\"color: #00af00; text-decoration-color: #00af00\">0</span>],  │\n",
       "│                     │                   │            │ embedding[<span style=\"color: #00af00; text-decoration-color: #00af00\">5</span>][<span style=\"color: #00af00; text-decoration-color: #00af00\">0</span>]   │\n",
       "├─────────────────────┼───────────────────┼────────────┼───────────────────┤\n",
       "│ dense_3 (<span style=\"color: #0087ff; text-decoration-color: #0087ff\">Dense</span>)     │ (<span style=\"color: #00d7ff; text-decoration-color: #00d7ff\">None</span>, <span style=\"color: #00af00; text-decoration-color: #00af00\">1</span>)         │      <span style=\"color: #00af00; text-decoration-color: #00af00\">4,097</span> │ l1_dist_1[<span style=\"color: #00af00; text-decoration-color: #00af00\">0</span>][<span style=\"color: #00af00; text-decoration-color: #00af00\">0</span>]   │\n",
       "└─────────────────────┴───────────────────┴────────────┴───────────────────┘\n",
       "</pre>\n"
      ],
      "text/plain": [
       "┏━━━━━━━━━━━━━━━━━━━━━┳━━━━━━━━━━━━━━━━━━━┳━━━━━━━━━━━━┳━━━━━━━━━━━━━━━━━━━┓\n",
       "┃\u001b[1m \u001b[0m\u001b[1mLayer (type)       \u001b[0m\u001b[1m \u001b[0m┃\u001b[1m \u001b[0m\u001b[1mOutput Shape     \u001b[0m\u001b[1m \u001b[0m┃\u001b[1m \u001b[0m\u001b[1m   Param #\u001b[0m\u001b[1m \u001b[0m┃\u001b[1m \u001b[0m\u001b[1mConnected to     \u001b[0m\u001b[1m \u001b[0m┃\n",
       "┡━━━━━━━━━━━━━━━━━━━━━╇━━━━━━━━━━━━━━━━━━━╇━━━━━━━━━━━━╇━━━━━━━━━━━━━━━━━━━┩\n",
       "│ input_img           │ (\u001b[38;5;45mNone\u001b[0m, \u001b[38;5;34m100\u001b[0m, \u001b[38;5;34m100\u001b[0m,  │          \u001b[38;5;34m0\u001b[0m │ -                 │\n",
       "│ (\u001b[38;5;33mInputLayer\u001b[0m)        │ \u001b[38;5;34m3\u001b[0m)                │            │                   │\n",
       "├─────────────────────┼───────────────────┼────────────┼───────────────────┤\n",
       "│ validation_img      │ (\u001b[38;5;45mNone\u001b[0m, \u001b[38;5;34m100\u001b[0m, \u001b[38;5;34m100\u001b[0m,  │          \u001b[38;5;34m0\u001b[0m │ -                 │\n",
       "│ (\u001b[38;5;33mInputLayer\u001b[0m)        │ \u001b[38;5;34m3\u001b[0m)                │            │                   │\n",
       "├─────────────────────┼───────────────────┼────────────┼───────────────────┤\n",
       "│ embedding           │ (\u001b[38;5;45mNone\u001b[0m, \u001b[38;5;34m4096\u001b[0m)      │ \u001b[38;5;34m38,960,448\u001b[0m │ input_img[\u001b[38;5;34m0\u001b[0m][\u001b[38;5;34m0\u001b[0m],  │\n",
       "│ (\u001b[38;5;33mFunctional\u001b[0m)        │                   │            │ validation_img[\u001b[38;5;34m0\u001b[0m… │\n",
       "├─────────────────────┼───────────────────┼────────────┼───────────────────┤\n",
       "│ l1_dist_1 (\u001b[38;5;33mL1Dist\u001b[0m)  │ (\u001b[38;5;45mNone\u001b[0m, \u001b[38;5;34m4096\u001b[0m)      │          \u001b[38;5;34m0\u001b[0m │ embedding[\u001b[38;5;34m4\u001b[0m][\u001b[38;5;34m0\u001b[0m],  │\n",
       "│                     │                   │            │ embedding[\u001b[38;5;34m5\u001b[0m][\u001b[38;5;34m0\u001b[0m]   │\n",
       "├─────────────────────┼───────────────────┼────────────┼───────────────────┤\n",
       "│ dense_3 (\u001b[38;5;33mDense\u001b[0m)     │ (\u001b[38;5;45mNone\u001b[0m, \u001b[38;5;34m1\u001b[0m)         │      \u001b[38;5;34m4,097\u001b[0m │ l1_dist_1[\u001b[38;5;34m0\u001b[0m][\u001b[38;5;34m0\u001b[0m]   │\n",
       "└─────────────────────┴───────────────────┴────────────┴───────────────────┘\n"
      ]
     },
     "metadata": {},
     "output_type": "display_data"
    },
    {
     "data": {
      "text/html": [
       "<pre style=\"white-space:pre;overflow-x:auto;line-height:normal;font-family:Menlo,'DejaVu Sans Mono',consolas,'Courier New',monospace\"><span style=\"font-weight: bold\"> Total params: </span><span style=\"color: #00af00; text-decoration-color: #00af00\">38,964,545</span> (148.64 MB)\n",
       "</pre>\n"
      ],
      "text/plain": [
       "\u001b[1m Total params: \u001b[0m\u001b[38;5;34m38,964,545\u001b[0m (148.64 MB)\n"
      ]
     },
     "metadata": {},
     "output_type": "display_data"
    },
    {
     "data": {
      "text/html": [
       "<pre style=\"white-space:pre;overflow-x:auto;line-height:normal;font-family:Menlo,'DejaVu Sans Mono',consolas,'Courier New',monospace\"><span style=\"font-weight: bold\"> Trainable params: </span><span style=\"color: #00af00; text-decoration-color: #00af00\">38,964,545</span> (148.64 MB)\n",
       "</pre>\n"
      ],
      "text/plain": [
       "\u001b[1m Trainable params: \u001b[0m\u001b[38;5;34m38,964,545\u001b[0m (148.64 MB)\n"
      ]
     },
     "metadata": {},
     "output_type": "display_data"
    },
    {
     "data": {
      "text/html": [
       "<pre style=\"white-space:pre;overflow-x:auto;line-height:normal;font-family:Menlo,'DejaVu Sans Mono',consolas,'Courier New',monospace\"><span style=\"font-weight: bold\"> Non-trainable params: </span><span style=\"color: #00af00; text-decoration-color: #00af00\">0</span> (0.00 B)\n",
       "</pre>\n"
      ],
      "text/plain": [
       "\u001b[1m Non-trainable params: \u001b[0m\u001b[38;5;34m0\u001b[0m (0.00 B)\n"
      ]
     },
     "metadata": {},
     "output_type": "display_data"
    }
   ],
   "source": [
    "siamese_network.summary()"
   ]
  },
  {
   "cell_type": "code",
   "execution_count": 67,
   "id": "523df4f5-dc74-4144-9564-8a417c0f3f1b",
   "metadata": {},
   "outputs": [],
   "source": [
    "def make_siamese_model(): \n",
    "    \n",
    "    # Đầu vào hình ảnh Anchor trong mạng\n",
    "    input_image = Input(name='input_img', shape=(100,100,3))\n",
    "    \n",
    "    # Hình ảnh Validation trong mạng\n",
    "    validation_image = Input(name='validation_img', shape=(100,100,3))\n",
    "    \n",
    "    # Kết hợp các thành phần khoảng cách siamese\n",
    "    siamese_layer = L1Dist()\n",
    "    siamese_layer._name = 'distance'\n",
    "\n",
    "    anchor_embedding = embedding(input_image)\n",
    "    if isinstance(anchor_embedding, list):\n",
    "        anchor_embedding = anchor_embedding[0]\n",
    "\n",
    "    validation_embedding = embedding(validation_image)\n",
    "    if isinstance(validation_embedding, list):\n",
    "        validation_embedding = validation_embedding[0]\n",
    "        \n",
    "    distances = siamese_layer(anchor_embedding, validation_embedding)\n",
    "\n",
    "    # Lớp phân loại \n",
    "    classifier = Dense(1, activation='sigmoid')(distances)\n",
    "    \n",
    "    return Model(inputs=[input_image, validation_image], outputs=classifier, name='SiameseNetwork')"
   ]
  },
  {
   "cell_type": "code",
   "execution_count": 68,
   "id": "f44b8655-af76-4f1f-8ef8-8c154dd07bc6",
   "metadata": {},
   "outputs": [],
   "source": [
    "siamese_model = make_siamese_model()"
   ]
  },
  {
   "cell_type": "code",
   "execution_count": 69,
   "id": "9effb1c1-2095-4ac3-aba6-41639c97b890",
   "metadata": {},
   "outputs": [
    {
     "data": {
      "text/html": [
       "<pre style=\"white-space:pre;overflow-x:auto;line-height:normal;font-family:Menlo,'DejaVu Sans Mono',consolas,'Courier New',monospace\"><span style=\"font-weight: bold\">Model: \"SiameseNetwork\"</span>\n",
       "</pre>\n"
      ],
      "text/plain": [
       "\u001b[1mModel: \"SiameseNetwork\"\u001b[0m\n"
      ]
     },
     "metadata": {},
     "output_type": "display_data"
    },
    {
     "data": {
      "text/html": [
       "<pre style=\"white-space:pre;overflow-x:auto;line-height:normal;font-family:Menlo,'DejaVu Sans Mono',consolas,'Courier New',monospace\">┏━━━━━━━━━━━━━━━━━━━━━┳━━━━━━━━━━━━━━━━━━━┳━━━━━━━━━━━━┳━━━━━━━━━━━━━━━━━━━┓\n",
       "┃<span style=\"font-weight: bold\"> Layer (type)        </span>┃<span style=\"font-weight: bold\"> Output Shape      </span>┃<span style=\"font-weight: bold\">    Param # </span>┃<span style=\"font-weight: bold\"> Connected to      </span>┃\n",
       "┡━━━━━━━━━━━━━━━━━━━━━╇━━━━━━━━━━━━━━━━━━━╇━━━━━━━━━━━━╇━━━━━━━━━━━━━━━━━━━┩\n",
       "│ input_img           │ (<span style=\"color: #00d7ff; text-decoration-color: #00d7ff\">None</span>, <span style=\"color: #00af00; text-decoration-color: #00af00\">100</span>, <span style=\"color: #00af00; text-decoration-color: #00af00\">100</span>,  │          <span style=\"color: #00af00; text-decoration-color: #00af00\">0</span> │ -                 │\n",
       "│ (<span style=\"color: #0087ff; text-decoration-color: #0087ff\">InputLayer</span>)        │ <span style=\"color: #00af00; text-decoration-color: #00af00\">3</span>)                │            │                   │\n",
       "├─────────────────────┼───────────────────┼────────────┼───────────────────┤\n",
       "│ validation_img      │ (<span style=\"color: #00d7ff; text-decoration-color: #00d7ff\">None</span>, <span style=\"color: #00af00; text-decoration-color: #00af00\">100</span>, <span style=\"color: #00af00; text-decoration-color: #00af00\">100</span>,  │          <span style=\"color: #00af00; text-decoration-color: #00af00\">0</span> │ -                 │\n",
       "│ (<span style=\"color: #0087ff; text-decoration-color: #0087ff\">InputLayer</span>)        │ <span style=\"color: #00af00; text-decoration-color: #00af00\">3</span>)                │            │                   │\n",
       "├─────────────────────┼───────────────────┼────────────┼───────────────────┤\n",
       "│ embedding           │ (<span style=\"color: #00d7ff; text-decoration-color: #00d7ff\">None</span>, <span style=\"color: #00af00; text-decoration-color: #00af00\">4096</span>)      │ <span style=\"color: #00af00; text-decoration-color: #00af00\">38,960,448</span> │ input_img[<span style=\"color: #00af00; text-decoration-color: #00af00\">0</span>][<span style=\"color: #00af00; text-decoration-color: #00af00\">0</span>],  │\n",
       "│ (<span style=\"color: #0087ff; text-decoration-color: #0087ff\">Functional</span>)        │                   │            │ validation_img[<span style=\"color: #00af00; text-decoration-color: #00af00\">0</span>… │\n",
       "├─────────────────────┼───────────────────┼────────────┼───────────────────┤\n",
       "│ l1_dist_2 (<span style=\"color: #0087ff; text-decoration-color: #0087ff\">L1Dist</span>)  │ (<span style=\"color: #00d7ff; text-decoration-color: #00d7ff\">None</span>, <span style=\"color: #00af00; text-decoration-color: #00af00\">4096</span>)      │          <span style=\"color: #00af00; text-decoration-color: #00af00\">0</span> │ embedding[<span style=\"color: #00af00; text-decoration-color: #00af00\">6</span>][<span style=\"color: #00af00; text-decoration-color: #00af00\">0</span>],  │\n",
       "│                     │                   │            │ embedding[<span style=\"color: #00af00; text-decoration-color: #00af00\">7</span>][<span style=\"color: #00af00; text-decoration-color: #00af00\">0</span>]   │\n",
       "├─────────────────────┼───────────────────┼────────────┼───────────────────┤\n",
       "│ dense_4 (<span style=\"color: #0087ff; text-decoration-color: #0087ff\">Dense</span>)     │ (<span style=\"color: #00d7ff; text-decoration-color: #00d7ff\">None</span>, <span style=\"color: #00af00; text-decoration-color: #00af00\">1</span>)         │      <span style=\"color: #00af00; text-decoration-color: #00af00\">4,097</span> │ l1_dist_2[<span style=\"color: #00af00; text-decoration-color: #00af00\">0</span>][<span style=\"color: #00af00; text-decoration-color: #00af00\">0</span>]   │\n",
       "└─────────────────────┴───────────────────┴────────────┴───────────────────┘\n",
       "</pre>\n"
      ],
      "text/plain": [
       "┏━━━━━━━━━━━━━━━━━━━━━┳━━━━━━━━━━━━━━━━━━━┳━━━━━━━━━━━━┳━━━━━━━━━━━━━━━━━━━┓\n",
       "┃\u001b[1m \u001b[0m\u001b[1mLayer (type)       \u001b[0m\u001b[1m \u001b[0m┃\u001b[1m \u001b[0m\u001b[1mOutput Shape     \u001b[0m\u001b[1m \u001b[0m┃\u001b[1m \u001b[0m\u001b[1m   Param #\u001b[0m\u001b[1m \u001b[0m┃\u001b[1m \u001b[0m\u001b[1mConnected to     \u001b[0m\u001b[1m \u001b[0m┃\n",
       "┡━━━━━━━━━━━━━━━━━━━━━╇━━━━━━━━━━━━━━━━━━━╇━━━━━━━━━━━━╇━━━━━━━━━━━━━━━━━━━┩\n",
       "│ input_img           │ (\u001b[38;5;45mNone\u001b[0m, \u001b[38;5;34m100\u001b[0m, \u001b[38;5;34m100\u001b[0m,  │          \u001b[38;5;34m0\u001b[0m │ -                 │\n",
       "│ (\u001b[38;5;33mInputLayer\u001b[0m)        │ \u001b[38;5;34m3\u001b[0m)                │            │                   │\n",
       "├─────────────────────┼───────────────────┼────────────┼───────────────────┤\n",
       "│ validation_img      │ (\u001b[38;5;45mNone\u001b[0m, \u001b[38;5;34m100\u001b[0m, \u001b[38;5;34m100\u001b[0m,  │          \u001b[38;5;34m0\u001b[0m │ -                 │\n",
       "│ (\u001b[38;5;33mInputLayer\u001b[0m)        │ \u001b[38;5;34m3\u001b[0m)                │            │                   │\n",
       "├─────────────────────┼───────────────────┼────────────┼───────────────────┤\n",
       "│ embedding           │ (\u001b[38;5;45mNone\u001b[0m, \u001b[38;5;34m4096\u001b[0m)      │ \u001b[38;5;34m38,960,448\u001b[0m │ input_img[\u001b[38;5;34m0\u001b[0m][\u001b[38;5;34m0\u001b[0m],  │\n",
       "│ (\u001b[38;5;33mFunctional\u001b[0m)        │                   │            │ validation_img[\u001b[38;5;34m0\u001b[0m… │\n",
       "├─────────────────────┼───────────────────┼────────────┼───────────────────┤\n",
       "│ l1_dist_2 (\u001b[38;5;33mL1Dist\u001b[0m)  │ (\u001b[38;5;45mNone\u001b[0m, \u001b[38;5;34m4096\u001b[0m)      │          \u001b[38;5;34m0\u001b[0m │ embedding[\u001b[38;5;34m6\u001b[0m][\u001b[38;5;34m0\u001b[0m],  │\n",
       "│                     │                   │            │ embedding[\u001b[38;5;34m7\u001b[0m][\u001b[38;5;34m0\u001b[0m]   │\n",
       "├─────────────────────┼───────────────────┼────────────┼───────────────────┤\n",
       "│ dense_4 (\u001b[38;5;33mDense\u001b[0m)     │ (\u001b[38;5;45mNone\u001b[0m, \u001b[38;5;34m1\u001b[0m)         │      \u001b[38;5;34m4,097\u001b[0m │ l1_dist_2[\u001b[38;5;34m0\u001b[0m][\u001b[38;5;34m0\u001b[0m]   │\n",
       "└─────────────────────┴───────────────────┴────────────┴───────────────────┘\n"
      ]
     },
     "metadata": {},
     "output_type": "display_data"
    },
    {
     "data": {
      "text/html": [
       "<pre style=\"white-space:pre;overflow-x:auto;line-height:normal;font-family:Menlo,'DejaVu Sans Mono',consolas,'Courier New',monospace\"><span style=\"font-weight: bold\"> Total params: </span><span style=\"color: #00af00; text-decoration-color: #00af00\">38,964,545</span> (148.64 MB)\n",
       "</pre>\n"
      ],
      "text/plain": [
       "\u001b[1m Total params: \u001b[0m\u001b[38;5;34m38,964,545\u001b[0m (148.64 MB)\n"
      ]
     },
     "metadata": {},
     "output_type": "display_data"
    },
    {
     "data": {
      "text/html": [
       "<pre style=\"white-space:pre;overflow-x:auto;line-height:normal;font-family:Menlo,'DejaVu Sans Mono',consolas,'Courier New',monospace\"><span style=\"font-weight: bold\"> Trainable params: </span><span style=\"color: #00af00; text-decoration-color: #00af00\">38,964,545</span> (148.64 MB)\n",
       "</pre>\n"
      ],
      "text/plain": [
       "\u001b[1m Trainable params: \u001b[0m\u001b[38;5;34m38,964,545\u001b[0m (148.64 MB)\n"
      ]
     },
     "metadata": {},
     "output_type": "display_data"
    },
    {
     "data": {
      "text/html": [
       "<pre style=\"white-space:pre;overflow-x:auto;line-height:normal;font-family:Menlo,'DejaVu Sans Mono',consolas,'Courier New',monospace\"><span style=\"font-weight: bold\"> Non-trainable params: </span><span style=\"color: #00af00; text-decoration-color: #00af00\">0</span> (0.00 B)\n",
       "</pre>\n"
      ],
      "text/plain": [
       "\u001b[1m Non-trainable params: \u001b[0m\u001b[38;5;34m0\u001b[0m (0.00 B)\n"
      ]
     },
     "metadata": {},
     "output_type": "display_data"
    }
   ],
   "source": [
    "siamese_model.summary()"
   ]
  },
  {
   "cell_type": "markdown",
   "id": "f09d248a-f9c3-4df5-ac09-f2fd466ce8b1",
   "metadata": {},
   "source": [
    "5 Training"
   ]
  },
  {
   "cell_type": "markdown",
   "id": "38cf506e-55c4-4b99-a573-3f835eda08ce",
   "metadata": {},
   "source": [
    "5.1 Setup Loss and Optimizer"
   ]
  },
  {
   "cell_type": "code",
   "execution_count": 70,
   "id": "85aa2636-477a-44f3-8c6b-9e520632d24d",
   "metadata": {},
   "outputs": [],
   "source": [
    "\n",
    "# Định nghĩa hàm mất mát Binary Crossentropy\n",
    "binary_cross_loss = tf.losses.BinaryCrossentropy()\n"
   ]
  },
  {
   "cell_type": "code",
   "execution_count": 71,
   "id": "375dccee-5404-453f-ad78-5eac93bb0f4c",
   "metadata": {},
   "outputs": [],
   "source": [
    "\n",
    "# Định nghĩa bộ tối ưu hóa Adam với learning rate là 0.0001\n",
    "opt = tf.keras.optimizers.Adam(1e-4) # 0.0001\n"
   ]
  },
  {
   "cell_type": "markdown",
   "id": "bd3782f0-df03-4dc1-b836-2dbf1593c7dc",
   "metadata": {},
   "source": [
    "5.2 Establish Checkpoints"
   ]
  },
  {
   "cell_type": "code",
   "execution_count": 72,
   "id": "00502fe9-8324-4059-b368-5c5b1b62f186",
   "metadata": {},
   "outputs": [],
   "source": [
    "import os\n",
    "\n",
    "# Đường dẫn lưu trữ checkpoint\n",
    "checkpoint_dir = './training_checkpoints'\n",
    "checkpoint_prefix = os.path.join(checkpoint_dir, 'ckpt')\n",
    "\n",
    "# Tạo checkpoint để lưu trữ trạng thái của bộ tối ưu hóa và mô hình\n",
    "checkpoint = tf.train.Checkpoint(opt=opt, siamese_model=siamese_model)\n"
   ]
  },
  {
   "cell_type": "markdown",
   "id": "6e07af64-f53b-4fc9-a1d2-70993d1306c3",
   "metadata": {},
   "source": [
    "5.3 Build Train Step Function"
   ]
  },
  {
   "cell_type": "code",
   "execution_count": 73,
   "id": "bb74d3d2-7bd8-4cb3-9f94-b3b39d3c3abb",
   "metadata": {},
   "outputs": [],
   "source": [
    "test_batch = train_data.as_numpy_iterator()"
   ]
  },
  {
   "cell_type": "code",
   "execution_count": 74,
   "id": "2d93cc05-1198-4ea3-939e-ddf206d7b217",
   "metadata": {},
   "outputs": [],
   "source": [
    "batch_1 = test_batch.next()"
   ]
  },
  {
   "cell_type": "code",
   "execution_count": 75,
   "id": "44715385-e6ab-4767-8e67-cc74abdc38b2",
   "metadata": {},
   "outputs": [],
   "source": [
    "X = batch_1[:2]"
   ]
  },
  {
   "cell_type": "code",
   "execution_count": 76,
   "id": "c95d5135-2a20-46cd-82ec-c5c9d19f11ac",
   "metadata": {},
   "outputs": [],
   "source": [
    "y = batch_1[2]"
   ]
  },
  {
   "cell_type": "code",
   "execution_count": 77,
   "id": "0e818cf0-218a-4638-998a-bfb563721ed5",
   "metadata": {},
   "outputs": [
    {
     "data": {
      "text/plain": [
       "array([0., 0., 1., 1., 0., 1., 0., 0., 1., 0., 0., 0., 1., 1., 1., 1.],\n",
       "      dtype=float32)"
      ]
     },
     "execution_count": 77,
     "metadata": {},
     "output_type": "execute_result"
    }
   ],
   "source": [
    "y"
   ]
  },
  {
   "cell_type": "code",
   "execution_count": 78,
   "id": "1263cf1f-807c-496e-9210-701ea9469152",
   "metadata": {},
   "outputs": [
    {
     "data": {
      "text/plain": [
       "\u001b[1;31mInit signature:\u001b[0m\n",
       "\u001b[0mtf\u001b[0m\u001b[1;33m.\u001b[0m\u001b[0mlosses\u001b[0m\u001b[1;33m.\u001b[0m\u001b[0mBinaryCrossentropy\u001b[0m\u001b[1;33m(\u001b[0m\u001b[1;33m\n",
       "\u001b[0m    \u001b[0mfrom_logits\u001b[0m\u001b[1;33m=\u001b[0m\u001b[1;32mFalse\u001b[0m\u001b[1;33m,\u001b[0m\u001b[1;33m\n",
       "\u001b[0m    \u001b[0mlabel_smoothing\u001b[0m\u001b[1;33m=\u001b[0m\u001b[1;36m0.0\u001b[0m\u001b[1;33m,\u001b[0m\u001b[1;33m\n",
       "\u001b[0m    \u001b[0maxis\u001b[0m\u001b[1;33m=\u001b[0m\u001b[1;33m-\u001b[0m\u001b[1;36m1\u001b[0m\u001b[1;33m,\u001b[0m\u001b[1;33m\n",
       "\u001b[0m    \u001b[0mreduction\u001b[0m\u001b[1;33m=\u001b[0m\u001b[1;34m'sum_over_batch_size'\u001b[0m\u001b[1;33m,\u001b[0m\u001b[1;33m\n",
       "\u001b[0m    \u001b[0mname\u001b[0m\u001b[1;33m=\u001b[0m\u001b[1;34m'binary_crossentropy'\u001b[0m\u001b[1;33m,\u001b[0m\u001b[1;33m\n",
       "\u001b[0m    \u001b[0mdtype\u001b[0m\u001b[1;33m=\u001b[0m\u001b[1;32mNone\u001b[0m\u001b[1;33m,\u001b[0m\u001b[1;33m\n",
       "\u001b[0m\u001b[1;33m)\u001b[0m\u001b[1;33m\u001b[0m\u001b[1;33m\u001b[0m\u001b[0m\n",
       "\u001b[1;31mSource:\u001b[0m        \n",
       "\u001b[1;33m@\u001b[0m\u001b[0mkeras_export\u001b[0m\u001b[1;33m(\u001b[0m\u001b[1;34m\"keras.losses.BinaryCrossentropy\"\u001b[0m\u001b[1;33m)\u001b[0m\u001b[1;33m\n",
       "\u001b[0m\u001b[1;32mclass\u001b[0m \u001b[0mBinaryCrossentropy\u001b[0m\u001b[1;33m(\u001b[0m\u001b[0mLossFunctionWrapper\u001b[0m\u001b[1;33m)\u001b[0m\u001b[1;33m:\u001b[0m\u001b[1;33m\n",
       "\u001b[0m    \u001b[1;34m\"\"\"Computes the cross-entropy loss between true labels and predicted labels.\n",
       "\n",
       "    Use this cross-entropy loss for binary (0 or 1) classification applications.\n",
       "    The loss function requires the following inputs:\n",
       "\n",
       "    - `y_true` (true label): This is either 0 or 1.\n",
       "    - `y_pred` (predicted value): This is the model's prediction, i.e, a single\n",
       "        floating-point value which either represents a\n",
       "        [logit](https://en.wikipedia.org/wiki/Logit), (i.e, value in [-inf, inf]\n",
       "        when `from_logits=True`) or a probability (i.e, value in [0., 1.] when\n",
       "        `from_logits=False`).\n",
       "\n",
       "    Args:\n",
       "        from_logits: Whether to interpret `y_pred` as a tensor of\n",
       "            [logit](https://en.wikipedia.org/wiki/Logit) values. By default, we\n",
       "            assume that `y_pred` is probabilities (i.e., values in [0, 1]).\n",
       "        label_smoothing: Float in range [0, 1]. When 0, no smoothing occurs.\n",
       "            When > 0, we compute the loss between the predicted labels\n",
       "            and a smoothed version of the true labels, where the smoothing\n",
       "            squeezes the labels towards 0.5. Larger values of\n",
       "            `label_smoothing` correspond to heavier smoothing.\n",
       "        axis: The axis along which to compute crossentropy (the features axis).\n",
       "            Defaults to `-1`.\n",
       "        reduction: Type of reduction to apply to the loss. In almost all cases\n",
       "            this should be `\"sum_over_batch_size\"`. Supported options are\n",
       "            `\"sum\"`, `\"sum_over_batch_size\"`, `\"mean\"`,\n",
       "            `\"mean_with_sample_weight\"` or `None`. `\"sum\"` sums the loss,\n",
       "            `\"sum_over_batch_size\"` and `\"mean\"` sum the loss and divide by the\n",
       "            sample size, and `\"mean_with_sample_weight\"` sums the loss and\n",
       "            divides by the sum of the sample weights. `\"none\"` and `None`\n",
       "            perform no aggregation. Defaults to `\"sum_over_batch_size\"`.\n",
       "        name: Optional name for the loss instance.\n",
       "        dtype: The dtype of the loss's computations. Defaults to `None`, which\n",
       "            means using `keras.backend.floatx()`. `keras.backend.floatx()` is a\n",
       "            `\"float32\"` unless set to different value\n",
       "            (via `keras.backend.set_floatx()`). If a `keras.DTypePolicy` is\n",
       "            provided, then the `compute_dtype` will be utilized.\n",
       "\n",
       "    Examples:\n",
       "\n",
       "    **Recommended Usage:** (set `from_logits=True`)\n",
       "\n",
       "    With `compile()` API:\n",
       "\n",
       "    ```python\n",
       "    model.compile(\n",
       "        loss=keras.losses.BinaryCrossentropy(from_logits=True),\n",
       "        ...\n",
       "    )\n",
       "    ```\n",
       "\n",
       "    As a standalone function:\n",
       "\n",
       "    >>> # Example 1: (batch_size = 1, number of samples = 4)\n",
       "    >>> y_true = np.array([0, 1, 0, 0])\n",
       "    >>> y_pred = np.array([-18.6, 0.51, 2.94, -12.8])\n",
       "    >>> bce = keras.losses.BinaryCrossentropy(from_logits=True)\n",
       "    >>> bce(y_true, y_pred)\n",
       "    0.8654\n",
       "\n",
       "    >>> # Example 2: (batch_size = 2, number of samples = 4)\n",
       "    >>> y_true = np.array([[0, 1], [0, 0]])\n",
       "    >>> y_pred = np.array([[-18.6, 0.51], [2.94, -12.8]])\n",
       "    >>> # Using default 'auto'/'sum_over_batch_size' reduction type.\n",
       "    >>> bce = keras.losses.BinaryCrossentropy(from_logits=True)\n",
       "    >>> bce(y_true, y_pred)\n",
       "    0.8654\n",
       "    >>> # Using 'sample_weight' attribute\n",
       "    >>> bce(y_true, y_pred, sample_weight=[0.8, 0.2])\n",
       "    0.243\n",
       "    >>> # Using 'sum' reduction` type.\n",
       "    >>> bce = keras.losses.BinaryCrossentropy(from_logits=True,\n",
       "    ...     reduction=\"sum\")\n",
       "    >>> bce(y_true, y_pred)\n",
       "    1.730\n",
       "    >>> # Using 'none' reduction type.\n",
       "    >>> bce = keras.losses.BinaryCrossentropy(from_logits=True,\n",
       "    ...     reduction=None)\n",
       "    >>> bce(y_true, y_pred)\n",
       "    array([0.235, 1.496], dtype=float32)\n",
       "\n",
       "    **Default Usage:** (set `from_logits=False`)\n",
       "\n",
       "    >>> # Make the following updates to the above \"Recommended Usage\" section\n",
       "    >>> # 1. Set `from_logits=False`\n",
       "    >>> keras.losses.BinaryCrossentropy() # OR ...('from_logits=False')\n",
       "    >>> # 2. Update `y_pred` to use probabilities instead of logits\n",
       "    >>> y_pred = [0.6, 0.3, 0.2, 0.8] # OR [[0.6, 0.3], [0.2, 0.8]]\n",
       "    \"\"\"\u001b[0m\u001b[1;33m\n",
       "\u001b[0m\u001b[1;33m\n",
       "\u001b[0m    \u001b[1;32mdef\u001b[0m \u001b[0m__init__\u001b[0m\u001b[1;33m(\u001b[0m\u001b[1;33m\n",
       "\u001b[0m        \u001b[0mself\u001b[0m\u001b[1;33m,\u001b[0m\u001b[1;33m\n",
       "\u001b[0m        \u001b[0mfrom_logits\u001b[0m\u001b[1;33m=\u001b[0m\u001b[1;32mFalse\u001b[0m\u001b[1;33m,\u001b[0m\u001b[1;33m\n",
       "\u001b[0m        \u001b[0mlabel_smoothing\u001b[0m\u001b[1;33m=\u001b[0m\u001b[1;36m0.0\u001b[0m\u001b[1;33m,\u001b[0m\u001b[1;33m\n",
       "\u001b[0m        \u001b[0maxis\u001b[0m\u001b[1;33m=\u001b[0m\u001b[1;33m-\u001b[0m\u001b[1;36m1\u001b[0m\u001b[1;33m,\u001b[0m\u001b[1;33m\n",
       "\u001b[0m        \u001b[0mreduction\u001b[0m\u001b[1;33m=\u001b[0m\u001b[1;34m\"sum_over_batch_size\"\u001b[0m\u001b[1;33m,\u001b[0m\u001b[1;33m\n",
       "\u001b[0m        \u001b[0mname\u001b[0m\u001b[1;33m=\u001b[0m\u001b[1;34m\"binary_crossentropy\"\u001b[0m\u001b[1;33m,\u001b[0m\u001b[1;33m\n",
       "\u001b[0m        \u001b[0mdtype\u001b[0m\u001b[1;33m=\u001b[0m\u001b[1;32mNone\u001b[0m\u001b[1;33m,\u001b[0m\u001b[1;33m\n",
       "\u001b[0m    \u001b[1;33m)\u001b[0m\u001b[1;33m:\u001b[0m\u001b[1;33m\n",
       "\u001b[0m        \u001b[0msuper\u001b[0m\u001b[1;33m(\u001b[0m\u001b[1;33m)\u001b[0m\u001b[1;33m.\u001b[0m\u001b[0m__init__\u001b[0m\u001b[1;33m(\u001b[0m\u001b[1;33m\n",
       "\u001b[0m            \u001b[0mbinary_crossentropy\u001b[0m\u001b[1;33m,\u001b[0m\u001b[1;33m\n",
       "\u001b[0m            \u001b[0mname\u001b[0m\u001b[1;33m=\u001b[0m\u001b[0mname\u001b[0m\u001b[1;33m,\u001b[0m\u001b[1;33m\n",
       "\u001b[0m            \u001b[0mreduction\u001b[0m\u001b[1;33m=\u001b[0m\u001b[0mreduction\u001b[0m\u001b[1;33m,\u001b[0m\u001b[1;33m\n",
       "\u001b[0m            \u001b[0mdtype\u001b[0m\u001b[1;33m=\u001b[0m\u001b[0mdtype\u001b[0m\u001b[1;33m,\u001b[0m\u001b[1;33m\n",
       "\u001b[0m            \u001b[0mfrom_logits\u001b[0m\u001b[1;33m=\u001b[0m\u001b[0mfrom_logits\u001b[0m\u001b[1;33m,\u001b[0m\u001b[1;33m\n",
       "\u001b[0m            \u001b[0mlabel_smoothing\u001b[0m\u001b[1;33m=\u001b[0m\u001b[0mlabel_smoothing\u001b[0m\u001b[1;33m,\u001b[0m\u001b[1;33m\n",
       "\u001b[0m            \u001b[0maxis\u001b[0m\u001b[1;33m=\u001b[0m\u001b[0maxis\u001b[0m\u001b[1;33m,\u001b[0m\u001b[1;33m\n",
       "\u001b[0m        \u001b[1;33m)\u001b[0m\u001b[1;33m\n",
       "\u001b[0m        \u001b[0mself\u001b[0m\u001b[1;33m.\u001b[0m\u001b[0mfrom_logits\u001b[0m \u001b[1;33m=\u001b[0m \u001b[0mfrom_logits\u001b[0m\u001b[1;33m\n",
       "\u001b[0m        \u001b[0mself\u001b[0m\u001b[1;33m.\u001b[0m\u001b[0mlabel_smoothing\u001b[0m \u001b[1;33m=\u001b[0m \u001b[0mlabel_smoothing\u001b[0m\u001b[1;33m\n",
       "\u001b[0m        \u001b[0mself\u001b[0m\u001b[1;33m.\u001b[0m\u001b[0maxis\u001b[0m \u001b[1;33m=\u001b[0m \u001b[0maxis\u001b[0m\u001b[1;33m\n",
       "\u001b[0m\u001b[1;33m\n",
       "\u001b[0m    \u001b[1;32mdef\u001b[0m \u001b[0mget_config\u001b[0m\u001b[1;33m(\u001b[0m\u001b[0mself\u001b[0m\u001b[1;33m)\u001b[0m\u001b[1;33m:\u001b[0m\u001b[1;33m\n",
       "\u001b[0m        \u001b[0mconfig\u001b[0m \u001b[1;33m=\u001b[0m \u001b[0mLoss\u001b[0m\u001b[1;33m.\u001b[0m\u001b[0mget_config\u001b[0m\u001b[1;33m(\u001b[0m\u001b[0mself\u001b[0m\u001b[1;33m)\u001b[0m\u001b[1;33m\n",
       "\u001b[0m        \u001b[0mconfig\u001b[0m\u001b[1;33m.\u001b[0m\u001b[0mupdate\u001b[0m\u001b[1;33m(\u001b[0m\u001b[1;33m\n",
       "\u001b[0m            \u001b[1;33m{\u001b[0m\u001b[1;33m\n",
       "\u001b[0m                \u001b[1;34m\"from_logits\"\u001b[0m\u001b[1;33m:\u001b[0m \u001b[0mself\u001b[0m\u001b[1;33m.\u001b[0m\u001b[0mfrom_logits\u001b[0m\u001b[1;33m,\u001b[0m\u001b[1;33m\n",
       "\u001b[0m                \u001b[1;34m\"label_smoothing\"\u001b[0m\u001b[1;33m:\u001b[0m \u001b[0mself\u001b[0m\u001b[1;33m.\u001b[0m\u001b[0mlabel_smoothing\u001b[0m\u001b[1;33m,\u001b[0m\u001b[1;33m\n",
       "\u001b[0m                \u001b[1;34m\"axis\"\u001b[0m\u001b[1;33m:\u001b[0m \u001b[0mself\u001b[0m\u001b[1;33m.\u001b[0m\u001b[0maxis\u001b[0m\u001b[1;33m,\u001b[0m\u001b[1;33m\n",
       "\u001b[0m            \u001b[1;33m}\u001b[0m\u001b[1;33m\n",
       "\u001b[0m        \u001b[1;33m)\u001b[0m\u001b[1;33m\n",
       "\u001b[0m        \u001b[1;32mreturn\u001b[0m \u001b[0mconfig\u001b[0m\u001b[1;33m\u001b[0m\u001b[1;33m\u001b[0m\u001b[0m\n",
       "\u001b[1;31mFile:\u001b[0m           d:\\anaconda\\lib\\site-packages\\keras\\src\\losses\\losses.py\n",
       "\u001b[1;31mType:\u001b[0m           type\n",
       "\u001b[1;31mSubclasses:\u001b[0m     "
      ]
     },
     "metadata": {},
     "output_type": "display_data"
    }
   ],
   "source": [
    "tf.losses.BinaryCrossentropy??"
   ]
  },
  {
   "cell_type": "code",
   "execution_count": 79,
   "id": "05a3a470-ee5d-4790-86e9-8e14dca4fde4",
   "metadata": {},
   "outputs": [],
   "source": [
    "@tf.function\n",
    "def train_step(batch):\n",
    "    \n",
    "    # Ghi lại tất cả các hoạt động của chúng ta\n",
    "    with tf.GradientTape() as tape:     \n",
    "        # Lấy dữ liệu đầu vào\n",
    "        X = batch[:2]\n",
    "        # Lấy nhãn\n",
    "        y = batch[2]\n",
    "        \n",
    "        # Dự đoán với mô hình \n",
    "        yhat = siamese_model(X, training=True)\n",
    "        # Tính toán hàm mất mát \n",
    "        loss = binary_cross_loss(y, yhat)\n",
    "    # In ra giá trị hàm mất mát \n",
    "    print(loss)\n",
    "\n",
    "    # Tính toán gradient của hàm mất mát đối với các tham số của mô hình\n",
    "    grad = tape.gradient(loss, siamese_model.trainable_variables)\n",
    "    \n",
    "    # Cập nhật các tham số của mô hình\n",
    "    opt.apply_gradients(zip(grad, siamese_model.trainable_variables))\n",
    "        \n",
    "    # Return loss\n",
    "    return loss\n",
    "    "
   ]
  },
  {
   "cell_type": "markdown",
   "id": "9fbdf31d-d6c4-4b74-90b9-9472a634c189",
   "metadata": {},
   "source": [
    "5.4 Build Training Loop"
   ]
  },
  {
   "cell_type": "code",
   "execution_count": 80,
   "id": "0e86696d-5386-4437-81a1-079e9ddb52be",
   "metadata": {},
   "outputs": [],
   "source": [
    "# Import metric calculations\n",
    "from tensorflow.keras.metrics import Precision, Recall"
   ]
  },
  {
   "cell_type": "code",
   "execution_count": 81,
   "id": "5a5bebf7-ec10-48eb-8aad-cf6eb3600a4e",
   "metadata": {},
   "outputs": [],
   "source": [
    "import tensorflow as tf\n",
    "from tensorflow.keras.metrics import Recall, Precision\n",
    "def train(data, EPOCHS):\n",
    "    # Loop through epochs\n",
    "    for epoch in range(1, EPOCHS+1):\n",
    "        print('\\n Epoch {}/{}'.format(epoch, EPOCHS))\n",
    "        progbar = tf.keras.utils.Progbar(len(data))\n",
    "        \n",
    "        # Tạo các đối tượng metric\n",
    "        r = Recall()\n",
    "        p = Precision()\n",
    "        \n",
    "        # Vòng lặp qua từng batch\n",
    "        for idx, batch in enumerate(data):\n",
    "            # Thực hiện bước huấn luyện\n",
    "            loss = train_step(batch)\n",
    "            yhat = siamese_model.predict(batch[:2])\n",
    "            r.update_state(batch[2], yhat)\n",
    "            p.update_state(batch[2], yhat) \n",
    "            progbar.update(idx+1)\n",
    "        # In ra loss, recall và precision sau mỗi epoch\n",
    "        print(loss.numpy(), r.result().numpy(), p.result().numpy())\n",
    "        \n",
    "        # Lưu checkpoint sau mỗi 10 epoch\n",
    "        if epoch % 10 == 0: \n",
    "            checkpoint.save(file_prefix=checkpoint_prefix)"
   ]
  },
  {
   "cell_type": "markdown",
   "id": "5409f940-ca72-44be-917b-6dd11b0987ca",
   "metadata": {},
   "source": [
    "5.5 Train the model"
   ]
  },
  {
   "cell_type": "code",
   "execution_count": 82,
   "id": "2570a0cb-237a-4df3-b054-24f8faf4db5f",
   "metadata": {},
   "outputs": [],
   "source": [
    "EPOCHS = 10"
   ]
  },
  {
   "cell_type": "code",
   "execution_count": 83,
   "id": "8377044c-a797-4259-81fe-df001e8007e8",
   "metadata": {},
   "outputs": [
    {
     "name": "stdout",
     "output_type": "stream",
     "text": [
      "\n",
      " Epoch 1/10\n"
     ]
    },
    {
     "name": "stderr",
     "output_type": "stream",
     "text": [
      "D:\\Anaconda\\Lib\\site-packages\\keras\\src\\models\\functional.py:238: UserWarning: The structure of `inputs` doesn't match the expected structure.\n",
      "Expected: ['input_image']\n",
      "Received: inputs=Tensor(shape=(16, 100, 100, 3))\n",
      "  warnings.warn(msg)\n"
     ]
    },
    {
     "name": "stdout",
     "output_type": "stream",
     "text": [
      "Tensor(\"binary_crossentropy/div_no_nan:0\", shape=(), dtype=float32)\n",
      "Tensor(\"binary_crossentropy/div_no_nan:0\", shape=(), dtype=float32)\n",
      "\u001b[1m1/1\u001b[0m \u001b[32m━━━━━━━━━━━━━━━━━━━━\u001b[0m\u001b[37m\u001b[0m \u001b[1m2s\u001b[0m 2s/step\n",
      "\u001b[1m1/1\u001b[0m \u001b[32m━━━━━━━━━━━━━━━━━━━━\u001b[0m\u001b[37m\u001b[0m \u001b[1m2s\u001b[0m 2s/stepe\n",
      "\u001b[1m2/3\u001b[0m \u001b[32m━━━━━━━━━━━━━\u001b[0m\u001b[37m━━━━━━━\u001b[0m \u001b[1m6s\u001b[0m 6s/step  Tensor(\"binary_crossentropy/div_no_nan:0\", shape=(), dtype=float32)\n"
     ]
    },
    {
     "name": "stderr",
     "output_type": "stream",
     "text": [
      "D:\\Anaconda\\Lib\\site-packages\\keras\\src\\models\\functional.py:238: UserWarning: The structure of `inputs` doesn't match the expected structure.\n",
      "Expected: ['input_image']\n",
      "Received: inputs=Tensor(shape=(11, 100, 100, 3))\n",
      "  warnings.warn(msg)\n",
      "D:\\Anaconda\\Lib\\site-packages\\keras\\src\\models\\functional.py:238: UserWarning: The structure of `inputs` doesn't match the expected structure.\n",
      "Expected: ['input_image']\n",
      "Received: inputs=Tensor(shape=(None, 100, 100, 3))\n",
      "  warnings.warn(msg)\n"
     ]
    },
    {
     "name": "stdout",
     "output_type": "stream",
     "text": [
      "\u001b[1m1/1\u001b[0m \u001b[32m━━━━━━━━━━━━━━━━━━━━\u001b[0m\u001b[37m\u001b[0m \u001b[1m2s\u001b[0m 2s/step\n",
      "\u001b[1m3/3\u001b[0m \u001b[32m━━━━━━━━━━━━━━━━━━━━\u001b[0m\u001b[37m\u001b[0m \u001b[1m23s\u001b[0m 6s/step\n",
      "0.67034394 0.56 0.93333334\n",
      "\n",
      " Epoch 2/10\n",
      "\u001b[1m1/1\u001b[0m \u001b[32m━━━━━━━━━━━━━━━━━━━━\u001b[0m\u001b[37m\u001b[0m \u001b[1m2s\u001b[0m 2s/step\n",
      "\u001b[1m1/1\u001b[0m \u001b[32m━━━━━━━━━━━━━━━━━━━━\u001b[0m\u001b[37m\u001b[0m \u001b[1m2s\u001b[0m 2s/step\n",
      "\u001b[1m1/1\u001b[0m \u001b[32m━━━━━━━━━━━━━━━━━━━━\u001b[0m\u001b[37m\u001b[0m \u001b[1m1s\u001b[0m 1s/step\n",
      "\u001b[1m3/3\u001b[0m \u001b[32m━━━━━━━━━━━━━━━━━━━━\u001b[0m\u001b[37m\u001b[0m \u001b[1m17s\u001b[0m 5s/step\n",
      "0.74948883 0.55 0.84615386\n",
      "\n",
      " Epoch 3/10\n",
      "\u001b[1m1/1\u001b[0m \u001b[32m━━━━━━━━━━━━━━━━━━━━\u001b[0m\u001b[37m\u001b[0m \u001b[1m2s\u001b[0m 2s/step\n",
      "\u001b[1m1/1\u001b[0m \u001b[32m━━━━━━━━━━━━━━━━━━━━\u001b[0m\u001b[37m\u001b[0m \u001b[1m2s\u001b[0m 2s/step\n",
      "\u001b[1m1/1\u001b[0m \u001b[32m━━━━━━━━━━━━━━━━━━━━\u001b[0m\u001b[37m\u001b[0m \u001b[1m1s\u001b[0m 1s/step\n",
      "\u001b[1m3/3\u001b[0m \u001b[32m━━━━━━━━━━━━━━━━━━━━\u001b[0m\u001b[37m\u001b[0m \u001b[1m17s\u001b[0m 5s/step\n",
      "0.60066974 0.875 0.9130435\n",
      "\n",
      " Epoch 4/10\n",
      "\u001b[1m1/1\u001b[0m \u001b[32m━━━━━━━━━━━━━━━━━━━━\u001b[0m\u001b[37m\u001b[0m \u001b[1m2s\u001b[0m 2s/step\n",
      "\u001b[1m1/1\u001b[0m \u001b[32m━━━━━━━━━━━━━━━━━━━━\u001b[0m\u001b[37m\u001b[0m \u001b[1m2s\u001b[0m 2s/step\n",
      "\u001b[1m1/1\u001b[0m \u001b[32m━━━━━━━━━━━━━━━━━━━━\u001b[0m\u001b[37m\u001b[0m \u001b[1m1s\u001b[0m 1s/step\n",
      "\u001b[1m3/3\u001b[0m \u001b[32m━━━━━━━━━━━━━━━━━━━━\u001b[0m\u001b[37m\u001b[0m \u001b[1m17s\u001b[0m 5s/step\n",
      "0.4404597 0.7894737 0.9375\n",
      "\n",
      " Epoch 5/10\n",
      "\u001b[1m1/1\u001b[0m \u001b[32m━━━━━━━━━━━━━━━━━━━━\u001b[0m\u001b[37m\u001b[0m \u001b[1m2s\u001b[0m 2s/step\n",
      "\u001b[1m1/1\u001b[0m \u001b[32m━━━━━━━━━━━━━━━━━━━━\u001b[0m\u001b[37m\u001b[0m \u001b[1m2s\u001b[0m 2s/step\n",
      "\u001b[1m1/1\u001b[0m \u001b[32m━━━━━━━━━━━━━━━━━━━━\u001b[0m\u001b[37m\u001b[0m \u001b[1m1s\u001b[0m 1s/step\n",
      "\u001b[1m3/3\u001b[0m \u001b[32m━━━━━━━━━━━━━━━━━━━━\u001b[0m\u001b[37m\u001b[0m \u001b[1m16s\u001b[0m 5s/step\n",
      "0.4946764 0.8695652 1.0\n",
      "\n",
      " Epoch 6/10\n",
      "\u001b[1m1/1\u001b[0m \u001b[32m━━━━━━━━━━━━━━━━━━━━\u001b[0m\u001b[37m\u001b[0m \u001b[1m2s\u001b[0m 2s/step\n",
      "\u001b[1m1/1\u001b[0m \u001b[32m━━━━━━━━━━━━━━━━━━━━\u001b[0m\u001b[37m\u001b[0m \u001b[1m2s\u001b[0m 2s/step\n",
      "\u001b[1m1/1\u001b[0m \u001b[32m━━━━━━━━━━━━━━━━━━━━\u001b[0m\u001b[37m\u001b[0m \u001b[1m1s\u001b[0m 1s/step\n",
      "\u001b[1m3/3\u001b[0m \u001b[32m━━━━━━━━━━━━━━━━━━━━\u001b[0m\u001b[37m\u001b[0m \u001b[1m16s\u001b[0m 5s/step\n",
      "0.35767698 0.95238096 0.95238096\n",
      "\n",
      " Epoch 7/10\n",
      "\u001b[1m1/1\u001b[0m \u001b[32m━━━━━━━━━━━━━━━━━━━━\u001b[0m\u001b[37m\u001b[0m \u001b[1m2s\u001b[0m 2s/step\n",
      "\u001b[1m1/1\u001b[0m \u001b[32m━━━━━━━━━━━━━━━━━━━━\u001b[0m\u001b[37m\u001b[0m \u001b[1m2s\u001b[0m 2s/step\n",
      "\u001b[1m1/1\u001b[0m \u001b[32m━━━━━━━━━━━━━━━━━━━━\u001b[0m\u001b[37m\u001b[0m \u001b[1m2s\u001b[0m 2s/step\n",
      "\u001b[1m3/3\u001b[0m \u001b[32m━━━━━━━━━━━━━━━━━━━━\u001b[0m\u001b[37m\u001b[0m \u001b[1m17s\u001b[0m 6s/step\n",
      "0.2741857 0.85 1.0\n",
      "\n",
      " Epoch 8/10\n",
      "\u001b[1m1/1\u001b[0m \u001b[32m━━━━━━━━━━━━━━━━━━━━\u001b[0m\u001b[37m\u001b[0m \u001b[1m2s\u001b[0m 2s/step\n",
      "\u001b[1m1/1\u001b[0m \u001b[32m━━━━━━━━━━━━━━━━━━━━\u001b[0m\u001b[37m\u001b[0m \u001b[1m2s\u001b[0m 2s/step\n",
      "\u001b[1m1/1\u001b[0m \u001b[32m━━━━━━━━━━━━━━━━━━━━\u001b[0m\u001b[37m\u001b[0m \u001b[1m2s\u001b[0m 2s/step\n",
      "\u001b[1m3/3\u001b[0m \u001b[32m━━━━━━━━━━━━━━━━━━━━\u001b[0m\u001b[37m\u001b[0m \u001b[1m18s\u001b[0m 6s/step\n",
      "0.16964509 0.94736844 1.0\n",
      "\n",
      " Epoch 9/10\n",
      "\u001b[1m1/1\u001b[0m \u001b[32m━━━━━━━━━━━━━━━━━━━━\u001b[0m\u001b[37m\u001b[0m \u001b[1m2s\u001b[0m 2s/step\n",
      "\u001b[1m1/1\u001b[0m \u001b[32m━━━━━━━━━━━━━━━━━━━━\u001b[0m\u001b[37m\u001b[0m \u001b[1m2s\u001b[0m 2s/step\n",
      "\u001b[1m1/1\u001b[0m \u001b[32m━━━━━━━━━━━━━━━━━━━━\u001b[0m\u001b[37m\u001b[0m \u001b[1m1s\u001b[0m 1s/step\n",
      "\u001b[1m3/3\u001b[0m \u001b[32m━━━━━━━━━━━━━━━━━━━━\u001b[0m\u001b[37m\u001b[0m \u001b[1m18s\u001b[0m 5s/step\n",
      "0.12635675 1.0 1.0\n",
      "\n",
      " Epoch 10/10\n",
      "\u001b[1m1/1\u001b[0m \u001b[32m━━━━━━━━━━━━━━━━━━━━\u001b[0m\u001b[37m\u001b[0m \u001b[1m2s\u001b[0m 2s/step\n",
      "\u001b[1m1/1\u001b[0m \u001b[32m━━━━━━━━━━━━━━━━━━━━\u001b[0m\u001b[37m\u001b[0m \u001b[1m2s\u001b[0m 2s/step\n",
      "\u001b[1m1/1\u001b[0m \u001b[32m━━━━━━━━━━━━━━━━━━━━\u001b[0m\u001b[37m\u001b[0m \u001b[1m1s\u001b[0m 1s/step\n",
      "\u001b[1m3/3\u001b[0m \u001b[32m━━━━━━━━━━━━━━━━━━━━\u001b[0m\u001b[37m\u001b[0m \u001b[1m16s\u001b[0m 5s/step\n",
      "0.024123061 1.0 1.0\n"
     ]
    }
   ],
   "source": [
    "train(train_data, EPOCHS)"
   ]
  },
  {
   "cell_type": "markdown",
   "id": "226a0104-f3c4-44c7-8834-a5fcb7c0b80e",
   "metadata": {},
   "source": [
    "6. Evaluate Model"
   ]
  },
  {
   "cell_type": "markdown",
   "id": "a6c3536d-2aff-48ce-8d12-b674f35bdbe0",
   "metadata": {},
   "source": [
    "6.1 Import Metrics"
   ]
  },
  {
   "cell_type": "code",
   "execution_count": 84,
   "id": "0ef56627-178c-468e-8d4e-c482d3306395",
   "metadata": {},
   "outputs": [],
   "source": [
    "# Import metric calculations\n",
    "from tensorflow.keras.metrics import Precision, Recall"
   ]
  },
  {
   "cell_type": "markdown",
   "id": "f6433cb6-80d8-441a-99a7-bccd69c8dfc0",
   "metadata": {},
   "source": [
    "6.2 Make Predictions"
   ]
  },
  {
   "cell_type": "code",
   "execution_count": 85,
   "id": "865c93e4-9eff-4d58-870b-5b42a8c9ee0d",
   "metadata": {},
   "outputs": [],
   "source": [
    "\n",
    "# Lấy một batch dữ liệu kiểm tra\n",
    "test_input, test_val, y_true = test_data.as_numpy_iterator().next()\n"
   ]
  },
  {
   "cell_type": "code",
   "execution_count": 86,
   "id": "64548c72-cf20-43a4-9771-5dd00a733da6",
   "metadata": {},
   "outputs": [
    {
     "name": "stdout",
     "output_type": "stream",
     "text": [
      "\u001b[1m1/1\u001b[0m \u001b[32m━━━━━━━━━━━━━━━━━━━━\u001b[0m\u001b[37m\u001b[0m \u001b[1m2s\u001b[0m 2s/step\n"
     ]
    }
   ],
   "source": [
    "\n",
    "# Dự đoán nhãn cho dữ liệu kiểm tra bằng mô hình Siamese\n",
    "y_hat = siamese_model.predict([test_input, test_val])\n"
   ]
  },
  {
   "cell_type": "code",
   "execution_count": 87,
   "id": "efe9a975-cdb1-469a-a24f-95202b98b618",
   "metadata": {},
   "outputs": [
    {
     "data": {
      "text/plain": [
       "[0, 1, 0, 1, 0, 0, 0, 1, 1, 1, 1, 1, 1, 1, 0, 1]"
      ]
     },
     "execution_count": 87,
     "metadata": {},
     "output_type": "execute_result"
    }
   ],
   "source": [
    "\n",
    "# Xử lý kết quả dự đoán để chuyển đổi thành nhãn nhị phân\n",
    "[1 if prediction > 0.5 else 0 for prediction in y_hat ]\n"
   ]
  },
  {
   "cell_type": "code",
   "execution_count": 88,
   "id": "df5ecab2-11be-4dd7-8ff1-14853e30133f",
   "metadata": {},
   "outputs": [
    {
     "data": {
      "text/plain": [
       "array([0., 1., 0., 1., 0., 0., 0., 1., 1., 1., 1., 1., 1., 1., 0., 1.],\n",
       "      dtype=float32)"
      ]
     },
     "execution_count": 88,
     "metadata": {},
     "output_type": "execute_result"
    }
   ],
   "source": [
    "\n",
    "# Hiển thị nhãn thực tế của dữ liệu kiểm tra\n",
    "y_true\n"
   ]
  },
  {
   "cell_type": "markdown",
   "id": "e8058a6d-6904-44cd-8729-78ac8709900c",
   "metadata": {},
   "source": [
    "6.3 Calculate Metrics"
   ]
  },
  {
   "cell_type": "code",
   "execution_count": 89,
   "id": "62d1d80c-a479-4fc8-a38c-dc2ea7869848",
   "metadata": {},
   "outputs": [
    {
     "data": {
      "text/plain": [
       "1.0"
      ]
     },
     "execution_count": 89,
     "metadata": {},
     "output_type": "execute_result"
    }
   ],
   "source": [
    "# Tạo đối tượng metric Recall\n",
    "m = Recall()\n",
    "\n",
    "# Tính toán giá trị recall\n",
    "m.update_state(y_true, y_hat)\n",
    "\n",
    "# Trả về kết quả Recall\n",
    "m.result().numpy()"
   ]
  },
  {
   "cell_type": "code",
   "execution_count": 90,
   "id": "fb9798c8-00f6-4796-90c9-2a9f231add91",
   "metadata": {},
   "outputs": [
    {
     "data": {
      "text/plain": [
       "1.0"
      ]
     },
     "execution_count": 90,
     "metadata": {},
     "output_type": "execute_result"
    }
   ],
   "source": [
    "# Tạo đối tượng metric Precision\n",
    "m = Precision()\n",
    "\n",
    "# Tính toán giá trị precision\n",
    "m.update_state(y_true, y_hat)\n",
    "\n",
    "# Trả về kết quả Precision\n",
    "m.result().numpy()"
   ]
  },
  {
   "cell_type": "code",
   "execution_count": 91,
   "id": "ec929d71-12c4-470f-8eab-349b6f89ec9c",
   "metadata": {},
   "outputs": [
    {
     "name": "stdout",
     "output_type": "stream",
     "text": [
      "\u001b[1m1/1\u001b[0m \u001b[32m━━━━━━━━━━━━━━━━━━━━\u001b[0m\u001b[37m\u001b[0m \u001b[1m2s\u001b[0m 2s/step\n",
      "\u001b[1m1/1\u001b[0m \u001b[32m━━━━━━━━━━━━━━━━━━━━\u001b[0m\u001b[37m\u001b[0m \u001b[1m0s\u001b[0m 372ms/step\n",
      "1.0 1.0\n"
     ]
    }
   ],
   "source": [
    "r = Recall()\n",
    "p = Precision()\n",
    "\n",
    "# Duyệt qua từng batch trong tập dữ liệu kiểm tra\n",
    "for test_input, test_val, y_true in test_data.as_numpy_iterator():\n",
    "    # Dự đoán nhãn cho dữ liệu kiểm tra bằng mô hình Siamese\n",
    "    yhat = siamese_model.predict([test_input, test_val])\n",
    "    # Cập nhật giá trị tri recall va precision\n",
    "    r.update_state(y_true, yhat)\n",
    "    p.update_state(y_true,yhat) \n",
    "\n",
    "# In ra kết quả Recall và Precision\n",
    "print(r.result().numpy(), p.result().numpy())"
   ]
  },
  {
   "cell_type": "markdown",
   "id": "3cd93c37-e429-44ba-86a0-0b12e2eecedc",
   "metadata": {},
   "source": [
    "6.4 Viz Results"
   ]
  },
  {
   "cell_type": "code",
   "execution_count": 92,
   "id": "6d010d17-448d-4e6f-a0a4-2ec324ede0c0",
   "metadata": {},
   "outputs": [
    {
     "data": {
      "image/png": "[encoded data removed]",
      "text/plain": [
       "<Figure size 1000x800 with 2 Axes>"
      ]
     },
     "metadata": {},
     "output_type": "display_data"
    }
   ],
   "source": [
    "# Thiết lập kích thước đồ thị\n",
    "plt.figure(figsize=(10,8))\n",
    "\n",
    "# Thiết lập đồ thị con thứ nhất\n",
    "plt.subplot(1,2,1)\n",
    "plt.imshow(test_input[0])\n",
    "\n",
    "# Thiết lập đồ thị con thứ hai\n",
    "plt.subplot(1,2,2)\n",
    "plt.imshow(test_val[0])\n",
    "\n",
    "# Hiển thị đồ thị\n",
    "plt.show()"
   ]
  },
  {
   "cell_type": "markdown",
   "id": "a6122bb2-31d3-4bd3-9dda-b0fd6fd32af1",
   "metadata": {},
   "source": [
    "7. Save Model"
   ]
  },
  {
   "cell_type": "code",
   "execution_count": 93,
   "id": "06e93351-2380-46c4-9008-3adc7ee1f457",
   "metadata": {},
   "outputs": [
    {
     "name": "stderr",
     "output_type": "stream",
     "text": [
      "WARNING:absl:You are saving your model as an HDF5 file via `model.save()` or `keras.saving.save_model(model)`. This file format is considered legacy. We recommend using instead the native Keras format, e.g. `model.save('my_model.keras')` or `keras.saving.save_model(model, 'my_model.keras')`. \n"
     ]
    }
   ],
   "source": [
    "siamese_model.save('siamesemodelv2.h5')"
   ]
  },
  {
   "cell_type": "code",
   "execution_count": 94,
   "id": "2c6027c5-44e3-44fd-b2d4-4db8b2be2e4f",
   "metadata": {},
   "outputs": [
    {
     "data": {
      "text/plain": [
       "__main__.L1Dist"
      ]
     },
     "execution_count": 94,
     "metadata": {},
     "output_type": "execute_result"
    }
   ],
   "source": [
    "L1Dist"
   ]
  },
  {
   "cell_type": "code",
   "execution_count": 95,
   "id": "0e3586c0-b460-47c0-b4b7-c72177451449",
   "metadata": {},
   "outputs": [
    {
     "name": "stderr",
     "output_type": "stream",
     "text": [
      "WARNING:absl:No training configuration found in the save file, so the model was *not* compiled. Compile it manually.\n"
     ]
    }
   ],
   "source": [
    "# Reload tensorflow/keras model \n",
    "siamese_model = tf.keras.models.load_model('siamesemodelv2.h5', \n",
    "                                   custom_objects={'L1Dist':L1Dist, 'BinaryCrossentropy':tf.losses.BinaryCrossentropy})"
   ]
  },
  {
   "cell_type": "code",
   "execution_count": 96,
   "id": "1303c965-769c-40be-b31f-32ebef5bb6d3",
   "metadata": {},
   "outputs": [
    {
     "name": "stdout",
     "output_type": "stream",
     "text": [
      "\u001b[1m1/1\u001b[0m \u001b[32m━━━━━━━━━━━━━━━━━━━━\u001b[0m\u001b[37m\u001b[0m \u001b[1m1s\u001b[0m 559ms/step\n"
     ]
    },
    {
     "data": {
      "text/plain": [
       "array([[0.02213388],\n",
       "       [0.9854656 ],\n",
       "       [0.05390242]], dtype=float32)"
      ]
     },
     "execution_count": 96,
     "metadata": {},
     "output_type": "execute_result"
    }
   ],
   "source": [
    "# Make predictions with reloaded model\n",
    "siamese_model.predict([test_input, test_val])"
   ]
  },
  {
   "cell_type": "code",
   "execution_count": 97,
   "id": "2eb7b4fb-c39c-425c-a4fb-736b9dfe9751",
   "metadata": {},
   "outputs": [
    {
     "data": {
      "text/html": [
       "<pre style=\"white-space:pre;overflow-x:auto;line-height:normal;font-family:Menlo,'DejaVu Sans Mono',consolas,'Courier New',monospace\"><span style=\"font-weight: bold\">Model: \"SiameseNetwork\"</span>\n",
       "</pre>\n"
      ],
      "text/plain": [
       "\u001b[1mModel: \"SiameseNetwork\"\u001b[0m\n"
      ]
     },
     "metadata": {},
     "output_type": "display_data"
    },
    {
     "data": {
      "text/html": [
       "<pre style=\"white-space:pre;overflow-x:auto;line-height:normal;font-family:Menlo,'DejaVu Sans Mono',consolas,'Courier New',monospace\">┏━━━━━━━━━━━━━━━━━━━━━┳━━━━━━━━━━━━━━━━━━━┳━━━━━━━━━━━━┳━━━━━━━━━━━━━━━━━━━┓\n",
       "┃<span style=\"font-weight: bold\"> Layer (type)        </span>┃<span style=\"font-weight: bold\"> Output Shape      </span>┃<span style=\"font-weight: bold\">    Param # </span>┃<span style=\"font-weight: bold\"> Connected to      </span>┃\n",
       "┡━━━━━━━━━━━━━━━━━━━━━╇━━━━━━━━━━━━━━━━━━━╇━━━━━━━━━━━━╇━━━━━━━━━━━━━━━━━━━┩\n",
       "│ input_img           │ (<span style=\"color: #00d7ff; text-decoration-color: #00d7ff\">None</span>, <span style=\"color: #00af00; text-decoration-color: #00af00\">100</span>, <span style=\"color: #00af00; text-decoration-color: #00af00\">100</span>,  │          <span style=\"color: #00af00; text-decoration-color: #00af00\">0</span> │ -                 │\n",
       "│ (<span style=\"color: #0087ff; text-decoration-color: #0087ff\">InputLayer</span>)        │ <span style=\"color: #00af00; text-decoration-color: #00af00\">3</span>)                │            │                   │\n",
       "├─────────────────────┼───────────────────┼────────────┼───────────────────┤\n",
       "│ validation_img      │ (<span style=\"color: #00d7ff; text-decoration-color: #00d7ff\">None</span>, <span style=\"color: #00af00; text-decoration-color: #00af00\">100</span>, <span style=\"color: #00af00; text-decoration-color: #00af00\">100</span>,  │          <span style=\"color: #00af00; text-decoration-color: #00af00\">0</span> │ -                 │\n",
       "│ (<span style=\"color: #0087ff; text-decoration-color: #0087ff\">InputLayer</span>)        │ <span style=\"color: #00af00; text-decoration-color: #00af00\">3</span>)                │            │                   │\n",
       "├─────────────────────┼───────────────────┼────────────┼───────────────────┤\n",
       "│ embedding           │ (<span style=\"color: #00d7ff; text-decoration-color: #00d7ff\">None</span>, <span style=\"color: #00af00; text-decoration-color: #00af00\">4096</span>)      │ <span style=\"color: #00af00; text-decoration-color: #00af00\">38,960,448</span> │ input_img[<span style=\"color: #00af00; text-decoration-color: #00af00\">0</span>][<span style=\"color: #00af00; text-decoration-color: #00af00\">0</span>],  │\n",
       "│ (<span style=\"color: #0087ff; text-decoration-color: #0087ff\">Functional</span>)        │                   │            │ validation_img[<span style=\"color: #00af00; text-decoration-color: #00af00\">0</span>… │\n",
       "├─────────────────────┼───────────────────┼────────────┼───────────────────┤\n",
       "│ l1_dist_2 (<span style=\"color: #0087ff; text-decoration-color: #0087ff\">L1Dist</span>)  │ (<span style=\"color: #00d7ff; text-decoration-color: #00d7ff\">None</span>, <span style=\"color: #00af00; text-decoration-color: #00af00\">4096</span>)      │          <span style=\"color: #00af00; text-decoration-color: #00af00\">0</span> │ embedding[<span style=\"color: #00af00; text-decoration-color: #00af00\">0</span>][<span style=\"color: #00af00; text-decoration-color: #00af00\">0</span>],  │\n",
       "│                     │                   │            │ embedding[<span style=\"color: #00af00; text-decoration-color: #00af00\">1</span>][<span style=\"color: #00af00; text-decoration-color: #00af00\">0</span>]   │\n",
       "├─────────────────────┼───────────────────┼────────────┼───────────────────┤\n",
       "│ dense_4 (<span style=\"color: #0087ff; text-decoration-color: #0087ff\">Dense</span>)     │ (<span style=\"color: #00d7ff; text-decoration-color: #00d7ff\">None</span>, <span style=\"color: #00af00; text-decoration-color: #00af00\">1</span>)         │      <span style=\"color: #00af00; text-decoration-color: #00af00\">4,097</span> │ l1_dist_2[<span style=\"color: #00af00; text-decoration-color: #00af00\">0</span>][<span style=\"color: #00af00; text-decoration-color: #00af00\">0</span>]   │\n",
       "└─────────────────────┴───────────────────┴────────────┴───────────────────┘\n",
       "</pre>\n"
      ],
      "text/plain": [
       "┏━━━━━━━━━━━━━━━━━━━━━┳━━━━━━━━━━━━━━━━━━━┳━━━━━━━━━━━━┳━━━━━━━━━━━━━━━━━━━┓\n",
       "┃\u001b[1m \u001b[0m\u001b[1mLayer (type)       \u001b[0m\u001b[1m \u001b[0m┃\u001b[1m \u001b[0m\u001b[1mOutput Shape     \u001b[0m\u001b[1m \u001b[0m┃\u001b[1m \u001b[0m\u001b[1m   Param #\u001b[0m\u001b[1m \u001b[0m┃\u001b[1m \u001b[0m\u001b[1mConnected to     \u001b[0m\u001b[1m \u001b[0m┃\n",
       "┡━━━━━━━━━━━━━━━━━━━━━╇━━━━━━━━━━━━━━━━━━━╇━━━━━━━━━━━━╇━━━━━━━━━━━━━━━━━━━┩\n",
       "│ input_img           │ (\u001b[38;5;45mNone\u001b[0m, \u001b[38;5;34m100\u001b[0m, \u001b[38;5;34m100\u001b[0m,  │          \u001b[38;5;34m0\u001b[0m │ -                 │\n",
       "│ (\u001b[38;5;33mInputLayer\u001b[0m)        │ \u001b[38;5;34m3\u001b[0m)                │            │                   │\n",
       "├─────────────────────┼───────────────────┼────────────┼───────────────────┤\n",
       "│ validation_img      │ (\u001b[38;5;45mNone\u001b[0m, \u001b[38;5;34m100\u001b[0m, \u001b[38;5;34m100\u001b[0m,  │          \u001b[38;5;34m0\u001b[0m │ -                 │\n",
       "│ (\u001b[38;5;33mInputLayer\u001b[0m)        │ \u001b[38;5;34m3\u001b[0m)                │            │                   │\n",
       "├─────────────────────┼───────────────────┼────────────┼───────────────────┤\n",
       "│ embedding           │ (\u001b[38;5;45mNone\u001b[0m, \u001b[38;5;34m4096\u001b[0m)      │ \u001b[38;5;34m38,960,448\u001b[0m │ input_img[\u001b[38;5;34m0\u001b[0m][\u001b[38;5;34m0\u001b[0m],  │\n",
       "│ (\u001b[38;5;33mFunctional\u001b[0m)        │                   │            │ validation_img[\u001b[38;5;34m0\u001b[0m… │\n",
       "├─────────────────────┼───────────────────┼────────────┼───────────────────┤\n",
       "│ l1_dist_2 (\u001b[38;5;33mL1Dist\u001b[0m)  │ (\u001b[38;5;45mNone\u001b[0m, \u001b[38;5;34m4096\u001b[0m)      │          \u001b[38;5;34m0\u001b[0m │ embedding[\u001b[38;5;34m0\u001b[0m][\u001b[38;5;34m0\u001b[0m],  │\n",
       "│                     │                   │            │ embedding[\u001b[38;5;34m1\u001b[0m][\u001b[38;5;34m0\u001b[0m]   │\n",
       "├─────────────────────┼───────────────────┼────────────┼───────────────────┤\n",
       "│ dense_4 (\u001b[38;5;33mDense\u001b[0m)     │ (\u001b[38;5;45mNone\u001b[0m, \u001b[38;5;34m1\u001b[0m)         │      \u001b[38;5;34m4,097\u001b[0m │ l1_dist_2[\u001b[38;5;34m0\u001b[0m][\u001b[38;5;34m0\u001b[0m]   │\n",
       "└─────────────────────┴───────────────────┴────────────┴───────────────────┘\n"
      ]
     },
     "metadata": {},
     "output_type": "display_data"
    },
    {
     "data": {
      "text/html": [
       "<pre style=\"white-space:pre;overflow-x:auto;line-height:normal;font-family:Menlo,'DejaVu Sans Mono',consolas,'Courier New',monospace\"><span style=\"font-weight: bold\"> Total params: </span><span style=\"color: #00af00; text-decoration-color: #00af00\">38,964,545</span> (148.64 MB)\n",
       "</pre>\n"
      ],
      "text/plain": [
       "\u001b[1m Total params: \u001b[0m\u001b[38;5;34m38,964,545\u001b[0m (148.64 MB)\n"
      ]
     },
     "metadata": {},
     "output_type": "display_data"
    },
    {
     "data": {
      "text/html": [
       "<pre style=\"white-space:pre;overflow-x:auto;line-height:normal;font-family:Menlo,'DejaVu Sans Mono',consolas,'Courier New',monospace\"><span style=\"font-weight: bold\"> Trainable params: </span><span style=\"color: #00af00; text-decoration-color: #00af00\">38,964,545</span> (148.64 MB)\n",
       "</pre>\n"
      ],
      "text/plain": [
       "\u001b[1m Trainable params: \u001b[0m\u001b[38;5;34m38,964,545\u001b[0m (148.64 MB)\n"
      ]
     },
     "metadata": {},
     "output_type": "display_data"
    },
    {
     "data": {
      "text/html": [
       "<pre style=\"white-space:pre;overflow-x:auto;line-height:normal;font-family:Menlo,'DejaVu Sans Mono',consolas,'Courier New',monospace\"><span style=\"font-weight: bold\"> Non-trainable params: </span><span style=\"color: #00af00; text-decoration-color: #00af00\">0</span> (0.00 B)\n",
       "</pre>\n"
      ],
      "text/plain": [
       "\u001b[1m Non-trainable params: \u001b[0m\u001b[38;5;34m0\u001b[0m (0.00 B)\n"
      ]
     },
     "metadata": {},
     "output_type": "display_data"
    }
   ],
   "source": [
    "# View model summary\n",
    "siamese_model.summary()"
   ]
  },
  {
   "cell_type": "markdown",
   "id": "6b525a61-58fb-4996-a999-d8805b46115a",
   "metadata": {},
   "source": [
    "8. Real Time Test"
   ]
  },
  {
   "cell_type": "markdown",
   "id": "1da8e0af-e884-4971-9209-56256767394b",
   "metadata": {},
   "source": [
    "8.1 Verification Function"
   ]
  },
  {
   "cell_type": "code",
   "execution_count": 98,
   "id": "7fda961f-3743-453c-9963-760bbd403245",
   "metadata": {},
   "outputs": [
    {
     "data": {
      "text/plain": [
       "'application_data/verification_images'"
      ]
     },
     "execution_count": 98,
     "metadata": {},
     "output_type": "execute_result"
    }
   ],
   "source": [
    "'application_data/verification_images'"
   ]
  },
  {
   "cell_type": "code",
   "execution_count": 99,
   "id": "6e879d07-11e7-4820-8ec7-7fa5959876a9",
   "metadata": {},
   "outputs": [
    {
     "data": {
      "text/plain": [
       "['Aaron_Eckhart_0001.jpg',\n",
       " 'Alessandro_Nesta_0001.jpg',\n",
       " 'Alex_Barros_0002.jpg',\n",
       " 'Alex_Cabrera_0001.jpg',\n",
       " 'Alex_Popov_0001.jpg',\n",
       " 'Alex_Sink_0001.jpg',\n",
       " 'George_W_Bush_0455.jpg',\n",
       " 'nguyen anh tuan (2).jpg',\n",
       " 'nguyen anh tuan.jpg',\n",
       " 'ronaldo.jpg',\n",
       " 'son tung.jpg',\n",
       " 'yua mikami.jpg']"
      ]
     },
     "execution_count": 99,
     "metadata": {},
     "output_type": "execute_result"
    }
   ],
   "source": [
    "import os\n",
    "os.listdir(os.path.join('application_data', 'verification_images'))"
   ]
  },
  {
   "cell_type": "code",
   "execution_count": 100,
   "id": "d519540c-d473-4675-bf2c-8fb16de641f6",
   "metadata": {},
   "outputs": [
    {
     "data": {
      "text/plain": [
       "'application_data\\\\input_image\\\\input_image.jpg'"
      ]
     },
     "execution_count": 100,
     "metadata": {},
     "output_type": "execute_result"
    }
   ],
   "source": [
    "import os\n",
    "os.path.join('application_data', 'input_image', 'input_image.jpg')"
   ]
  },
  {
   "cell_type": "code",
   "execution_count": 101,
   "id": "22b1dda6-c177-4cec-a6ac-e41229adca07",
   "metadata": {},
   "outputs": [
    {
     "name": "stdout",
     "output_type": "stream",
     "text": [
      "application_data\\verification_images\\Aaron_Eckhart_0001.jpg\n",
      "application_data\\verification_images\\Alessandro_Nesta_0001.jpg\n",
      "application_data\\verification_images\\Alex_Barros_0002.jpg\n",
      "application_data\\verification_images\\Alex_Cabrera_0001.jpg\n",
      "application_data\\verification_images\\Alex_Popov_0001.jpg\n",
      "application_data\\verification_images\\Alex_Sink_0001.jpg\n",
      "application_data\\verification_images\\George_W_Bush_0455.jpg\n",
      "application_data\\verification_images\\nguyen anh tuan (2).jpg\n",
      "application_data\\verification_images\\nguyen anh tuan.jpg\n",
      "application_data\\verification_images\\ronaldo.jpg\n",
      "application_data\\verification_images\\son tung.jpg\n",
      "application_data\\verification_images\\yua mikami.jpg\n"
     ]
    }
   ],
   "source": [
    "import os\n",
    "for image in os.listdir(os.path.join('application_data', 'verification_images')):\n",
    "    validation_img = os.path.join('application_data', 'verification_images', image)\n",
    "    print(validation_img)"
   ]
  },
  {
   "cell_type": "code",
   "execution_count": 102,
   "id": "efeac335-eb5c-4a66-8e41-d857b9ae6a48",
   "metadata": {},
   "outputs": [],
   "source": [
    "import os\n",
    "import numpy as np\n",
    "# Đảm bảo hàm preprocess đã được định nghĩa ở đây hoặc được import từ một module khác\n",
    "# Ví dụ:\n",
    "# def preprocess(image_path):\n",
    "#     img = cv2.imread(image_path)\n",
    "#     img = cv2.cvtColor(img, cv2.COLOR_BGR2RGB) # Chuyển đổi sang RGB nếu model mong đợi\n",
    "#     img = cv2.resize(img, (100,100)) # Thay đổi kích thước phù hợp với model của bạn\n",
    "#     img = img / 255.0 # Chuẩn hóa pixel\n",
    "#     return img\n",
    "\n",
    "def verify(model, detection_threshold, verification_threshold):\n",
    "    \"\"\"\n",
    "    Thực hiện xác minh bằng cách so sánh ảnh đầu vào với các ảnh xác minh.\n",
    "\n",
    "    Args:\n",
    "        model: Mô hình Siamese đã được huấn luyện.\n",
    "        detection_threshold (float): Ngưỡng phát hiện.\n",
    "            Các dự đoán trên ngưỡng này được coi là dương tính.\n",
    "        verification_threshold (float): Ngưỡng xác minh.\n",
    "            Tỷ lệ dự đoán dương tính trên tổng số mẫu dương tính cần đạt để xác minh thành công.\n",
    "\n",
    "    Returns:\n",
    "        tuple: (results, verified)\n",
    "            results (list): Danh sách các điểm tương đồng (scalar) từ mô hình.\n",
    "            verified (bool): True nếu xác minh thành công, False nếu ngược lại.\n",
    "    \"\"\"\n",
    "    # Khởi tạo danh sách kết quả\n",
    "    results = []\n",
    "\n",
    "    # Lặp qua từng ảnh trong thư mục xác minh\n",
    "    for image in os.listdir(os.path.join('application_data', 'verification_images')):\n",
    "        # Tiền xử lý ảnh đầu vào và ảnh xác minh\n",
    "        input_img = preprocess(os.path.join('application_data', 'input_image', 'input_image.jpg'))\n",
    "        validation_img = preprocess(os.path.join('application_data', 'verification_images', image))\n",
    "        \n",
    "        # Thêm chiều batch cho từng ảnh (ví dụ: từ (H, W, C) thành (1, H, W, C))\n",
    "        input_img_batch = np.expand_dims(input_img, axis=0)\n",
    "        validation_img_batch = np.expand_dims(validation_img, axis=0)\n",
    "        \n",
    "        # Thực hiện dự đoán trên mô hình Siamese\n",
    "        # Giả định model.predict trả về một mảng numpy như [[0.98]]\n",
    "        raw_result = model.predict([input_img_batch, validation_img_batch])\n",
    "        results.append(raw_result[0][0]) # Lấy giá trị scalar và thêm vào danh sách\n",
    "\n",
    "    # Chuyển đổi danh sách kết quả thành mảng numpy để dễ dàng tính toán\n",
    "    results_array = np.array(results)\n",
    "        \n",
    "    # Tính toán số lượng dự đoán dương tính (trên ngưỡng phát hiện)\n",
    "    detection = np.sum(results_array > detection_threshold)\n",
    "    \n",
    "    # Tính toán tỷ lệ xác minh\n",
    "    num_verification_images = len(os.listdir(os.path.join('application_data', 'verification_images')))\n",
    "    if num_verification_images == 0:\n",
    "        verification = 0.0 # Tránh chia cho 0 nếu không có ảnh xác minh\n",
    "    else:\n",
    "        verification = detection / num_verification_images\n",
    "    \n",
    "    # Xác định xem xác minh có thành công hay không\n",
    "    verified = verification > verification_threshold\n",
    "    \n",
    "    return results, verified"
   ]
  },
  {
   "cell_type": "markdown",
   "id": "d80f291d-7b26-4578-88c7-89cbe4f18d41",
   "metadata": {},
   "source": [
    "8.2 OpenCV Real Time Verification"
   ]
  },
  {
   "cell_type": "code",
   "execution_count": 103,
   "id": "cd04a064-6765-4ced-858a-da237bd37286",
   "metadata": {},
   "outputs": [],
   "source": [
    "import cv2\n",
    "import os\n",
    "cap = cv2.VideoCapture(0)\n",
    "while cap.isOpened():\n",
    "    ret, frame = cap.read()\n",
    "    frame = frame[120:120+250,200:200+250, :]\n",
    "    \n",
    "    cv2.imshow('Verification', frame)\n",
    "    \n",
    "    # Verification trigger\n",
    "    if cv2.waitKey(10) & 0xFF == ord('v'):\n",
    "        # Save input image to application_data/input_image folder \n",
    "#         hsv = cv2.cvtColor(frame, cv2.COLOR_BGR2HSV)\n",
    "#         h, s, v = cv2.split(hsv)\n",
    "\n",
    "#         lim = 255 - 10\n",
    "#         v[v > lim] = 255\n",
    "#         v[v <= lim] -= 10\n",
    "        \n",
    "#         final_hsv = cv2.merge((h, s, v))\n",
    "#         img = cv2.cvtColor(final_hsv, cv2.COLOR_HSV2BGR)\n",
    "\n",
    "        cv2.imwrite(os.path.join('application_data', 'input_image', 'input_image.jpg'), frame)\n",
    "        # Run verification\n",
    "        results, verified = verify(siamese_model, 0.9, 0.7)\n",
    "        print(verified)\n",
    "    \n",
    "    if cv2.waitKey(10) & 0xFF == ord('q'):\n",
    "        break\n",
    "cap.release()\n",
    "cv2.destroyAllWindows()"
   ]
  },
  {
   "cell_type": "code",
   "execution_count": 104,
   "id": "86edecf5-2bd2-4481-9c07-b789ad3151d8",
   "metadata": {},
   "outputs": [
    {
     "ename": "NameError",
     "evalue": "name 'results' is not defined",
     "output_type": "error",
     "traceback": [
      "\u001b[1;31m---------------------------------------------------------------------------\u001b[0m",
      "\u001b[1;31mNameError\u001b[0m                                 Traceback (most recent call last)",
      "Cell \u001b[1;32mIn[104], line 2\u001b[0m\n\u001b[0;32m      1\u001b[0m \u001b[38;5;28;01mimport\u001b[39;00m \u001b[38;5;21;01mnumpy\u001b[39;00m \u001b[38;5;28;01mas\u001b[39;00m \u001b[38;5;21;01mnp\u001b[39;00m\n\u001b[1;32m----> 2\u001b[0m np\u001b[38;5;241m.\u001b[39msum(np\u001b[38;5;241m.\u001b[39msqueeze(results) \u001b[38;5;241m>\u001b[39m \u001b[38;5;241m0.9\u001b[39m)\n",
      "\u001b[1;31mNameError\u001b[0m: name 'results' is not defined"
     ]
    }
   ],
   "source": [
    "import numpy as np\n",
    "np.sum(np.squeeze(results) > 0.9)"
   ]
  },
  {
   "cell_type": "code",
   "execution_count": null,
   "id": "25e12bbe-3e53-4ff3-bc5c-d70cd2ebae2d",
   "metadata": {},
   "outputs": [],
   "source": [
    "results"
   ]
  }
 ],
 "metadata": {
  "kernelspec": {
   "display_name": "Python 3 (ipykernel)",
   "language": "python",
   "name": "python3"
  },
  "language_info": {
   "codemirror_mode": {
    "name": "ipython",
    "version": 3
   },
   "file_extension": ".py",
   "mimetype": "text/x-python",
   "name": "python",
   "nbconvert_exporter": "python",
   "pygments_lexer": "ipython3",
   "version": "3.12.7"
  }
 },
 "nbformat": 4,
 "nbformat_minor": 5
}
